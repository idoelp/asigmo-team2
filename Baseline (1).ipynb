{
 "cells": [
  {
   "cell_type": "markdown",
   "metadata": {},
   "source": [
    "### First things first"
   ]
  },
  {
   "cell_type": "code",
   "execution_count": 77,
   "metadata": {},
   "outputs": [],
   "source": [
    "import pandas as pd\n",
    "from matplotlib import pyplot as plt\n",
    "\n",
    "from sklearn.model_selection import train_test_split\n",
    "from sklearn.pipeline import Pipeline, FeatureUnion \n",
    "from sklearn.feature_extraction.text import CountVectorizer, TfidfTransformer, TfidfVectorizer\n",
    "from sklearn.preprocessing import FunctionTransformer, StandardScaler, MinMaxScaler\n",
    "\n",
    "from sklearn.naive_bayes import MultinomialNB"
   ]
  },
  {
   "cell_type": "code",
   "execution_count": 2,
   "metadata": {},
   "outputs": [
    {
     "name": "stderr",
     "output_type": "stream",
     "text": [
      "'ls' is not recognized as an internal or external command,\n",
      "operable program or batch file.\n"
     ]
    }
   ],
   "source": [
    "!ls"
   ]
  },
  {
   "cell_type": "code",
   "execution_count": 90,
   "metadata": {},
   "outputs": [
    {
     "data": {
      "text/html": [
       "<div>\n",
       "<style scoped>\n",
       "    .dataframe tbody tr th:only-of-type {\n",
       "        vertical-align: middle;\n",
       "    }\n",
       "\n",
       "    .dataframe tbody tr th {\n",
       "        vertical-align: top;\n",
       "    }\n",
       "\n",
       "    .dataframe thead th {\n",
       "        text-align: right;\n",
       "    }\n",
       "</style>\n",
       "<table border=\"1\" class=\"dataframe\">\n",
       "  <thead>\n",
       "    <tr style=\"text-align: right;\">\n",
       "      <th></th>\n",
       "      <th>text</th>\n",
       "      <th>is_humor</th>\n",
       "      <th>humor_rating</th>\n",
       "      <th>humor_controversy</th>\n",
       "      <th>offense_rating</th>\n",
       "    </tr>\n",
       "  </thead>\n",
       "  <tbody>\n",
       "    <tr>\n",
       "      <th>0</th>\n",
       "      <td>TENNESSEE: We're the best state. Nobody even c...</td>\n",
       "      <td>1</td>\n",
       "      <td>2.42</td>\n",
       "      <td>1.0</td>\n",
       "      <td>0.20</td>\n",
       "    </tr>\n",
       "    <tr>\n",
       "      <th>1</th>\n",
       "      <td>A man inserted an advertisement in the classif...</td>\n",
       "      <td>1</td>\n",
       "      <td>2.50</td>\n",
       "      <td>1.0</td>\n",
       "      <td>1.10</td>\n",
       "    </tr>\n",
       "    <tr>\n",
       "      <th>2</th>\n",
       "      <td>How many men does it take to open a can of bee...</td>\n",
       "      <td>1</td>\n",
       "      <td>1.95</td>\n",
       "      <td>0.0</td>\n",
       "      <td>2.40</td>\n",
       "    </tr>\n",
       "    <tr>\n",
       "      <th>3</th>\n",
       "      <td>Told my mom I hit 1200 Twitter followers. She ...</td>\n",
       "      <td>1</td>\n",
       "      <td>2.11</td>\n",
       "      <td>1.0</td>\n",
       "      <td>0.00</td>\n",
       "    </tr>\n",
       "    <tr>\n",
       "      <th>4</th>\n",
       "      <td>Roses are dead. Love is fake. Weddings are bas...</td>\n",
       "      <td>1</td>\n",
       "      <td>2.78</td>\n",
       "      <td>0.0</td>\n",
       "      <td>0.10</td>\n",
       "    </tr>\n",
       "    <tr>\n",
       "      <th>5</th>\n",
       "      <td>'Trabajo,' the Spanish word for work, comes fr...</td>\n",
       "      <td>0</td>\n",
       "      <td>NaN</td>\n",
       "      <td>NaN</td>\n",
       "      <td>0.00</td>\n",
       "    </tr>\n",
       "    <tr>\n",
       "      <th>6</th>\n",
       "      <td>I enrolled on some skill training and extra cu...</td>\n",
       "      <td>0</td>\n",
       "      <td>NaN</td>\n",
       "      <td>NaN</td>\n",
       "      <td>0.10</td>\n",
       "    </tr>\n",
       "    <tr>\n",
       "      <th>7</th>\n",
       "      <td>ME: I'm such an original. Truly one of a kind....</td>\n",
       "      <td>1</td>\n",
       "      <td>1.79</td>\n",
       "      <td>1.0</td>\n",
       "      <td>0.00</td>\n",
       "    </tr>\n",
       "    <tr>\n",
       "      <th>8</th>\n",
       "      <td>Men who ejaculated 21 times or more a month ha...</td>\n",
       "      <td>0</td>\n",
       "      <td>NaN</td>\n",
       "      <td>NaN</td>\n",
       "      <td>0.05</td>\n",
       "    </tr>\n",
       "    <tr>\n",
       "      <th>9</th>\n",
       "      <td>I got REALLY angry today and it wasn't about n...</td>\n",
       "      <td>0</td>\n",
       "      <td>NaN</td>\n",
       "      <td>NaN</td>\n",
       "      <td>0.15</td>\n",
       "    </tr>\n",
       "    <tr>\n",
       "      <th>10</th>\n",
       "      <td>A dog in Mexico named Frida saved the lives of...</td>\n",
       "      <td>0</td>\n",
       "      <td>NaN</td>\n",
       "      <td>NaN</td>\n",
       "      <td>0.00</td>\n",
       "    </tr>\n",
       "    <tr>\n",
       "      <th>11</th>\n",
       "      <td>What's the difference between a Mormon man and...</td>\n",
       "      <td>1</td>\n",
       "      <td>2.20</td>\n",
       "      <td>0.0</td>\n",
       "      <td>2.95</td>\n",
       "    </tr>\n",
       "    <tr>\n",
       "      <th>12</th>\n",
       "      <td>Stop calling 9-1-1 because you've run out of t...</td>\n",
       "      <td>1</td>\n",
       "      <td>1.50</td>\n",
       "      <td>1.0</td>\n",
       "      <td>0.00</td>\n",
       "    </tr>\n",
       "    <tr>\n",
       "      <th>13</th>\n",
       "      <td>When you march the streets shouting with peopl...</td>\n",
       "      <td>1</td>\n",
       "      <td>2.16</td>\n",
       "      <td>1.0</td>\n",
       "      <td>0.20</td>\n",
       "    </tr>\n",
       "    <tr>\n",
       "      <th>14</th>\n",
       "      <td>Balsamic vinegar helps slowing the appearance ...</td>\n",
       "      <td>0</td>\n",
       "      <td>NaN</td>\n",
       "      <td>NaN</td>\n",
       "      <td>0.00</td>\n",
       "    </tr>\n",
       "    <tr>\n",
       "      <th>15</th>\n",
       "      <td>\"When you stand in your struggles and share yo...</td>\n",
       "      <td>0</td>\n",
       "      <td>NaN</td>\n",
       "      <td>NaN</td>\n",
       "      <td>0.00</td>\n",
       "    </tr>\n",
       "    <tr>\n",
       "      <th>16</th>\n",
       "      <td>\"Grief comes in its own time for everyone, in ...</td>\n",
       "      <td>0</td>\n",
       "      <td>NaN</td>\n",
       "      <td>NaN</td>\n",
       "      <td>0.00</td>\n",
       "    </tr>\n",
       "    <tr>\n",
       "      <th>17</th>\n",
       "      <td>You can make any sentence creepier by adding \"...</td>\n",
       "      <td>1</td>\n",
       "      <td>1.78</td>\n",
       "      <td>1.0</td>\n",
       "      <td>0.20</td>\n",
       "    </tr>\n",
       "    <tr>\n",
       "      <th>18</th>\n",
       "      <td>The better life goes to those who have to work...</td>\n",
       "      <td>0</td>\n",
       "      <td>NaN</td>\n",
       "      <td>NaN</td>\n",
       "      <td>0.15</td>\n",
       "    </tr>\n",
       "    <tr>\n",
       "      <th>19</th>\n",
       "      <td>me: if ant-man shrinks by making the space bet...</td>\n",
       "      <td>1</td>\n",
       "      <td>1.55</td>\n",
       "      <td>1.0</td>\n",
       "      <td>0.90</td>\n",
       "    </tr>\n",
       "  </tbody>\n",
       "</table>\n",
       "</div>"
      ],
      "text/plain": [
       "                                                 text  is_humor  humor_rating  \\\n",
       "0   TENNESSEE: We're the best state. Nobody even c...         1          2.42   \n",
       "1   A man inserted an advertisement in the classif...         1          2.50   \n",
       "2   How many men does it take to open a can of bee...         1          1.95   \n",
       "3   Told my mom I hit 1200 Twitter followers. She ...         1          2.11   \n",
       "4   Roses are dead. Love is fake. Weddings are bas...         1          2.78   \n",
       "5   'Trabajo,' the Spanish word for work, comes fr...         0           NaN   \n",
       "6   I enrolled on some skill training and extra cu...         0           NaN   \n",
       "7   ME: I'm such an original. Truly one of a kind....         1          1.79   \n",
       "8   Men who ejaculated 21 times or more a month ha...         0           NaN   \n",
       "9   I got REALLY angry today and it wasn't about n...         0           NaN   \n",
       "10  A dog in Mexico named Frida saved the lives of...         0           NaN   \n",
       "11  What's the difference between a Mormon man and...         1          2.20   \n",
       "12  Stop calling 9-1-1 because you've run out of t...         1          1.50   \n",
       "13  When you march the streets shouting with peopl...         1          2.16   \n",
       "14  Balsamic vinegar helps slowing the appearance ...         0           NaN   \n",
       "15  \"When you stand in your struggles and share yo...         0           NaN   \n",
       "16  \"Grief comes in its own time for everyone, in ...         0           NaN   \n",
       "17  You can make any sentence creepier by adding \"...         1          1.78   \n",
       "18  The better life goes to those who have to work...         0           NaN   \n",
       "19  me: if ant-man shrinks by making the space bet...         1          1.55   \n",
       "\n",
       "    humor_controversy  offense_rating  \n",
       "0                 1.0            0.20  \n",
       "1                 1.0            1.10  \n",
       "2                 0.0            2.40  \n",
       "3                 1.0            0.00  \n",
       "4                 0.0            0.10  \n",
       "5                 NaN            0.00  \n",
       "6                 NaN            0.10  \n",
       "7                 1.0            0.00  \n",
       "8                 NaN            0.05  \n",
       "9                 NaN            0.15  \n",
       "10                NaN            0.00  \n",
       "11                0.0            2.95  \n",
       "12                1.0            0.00  \n",
       "13                1.0            0.20  \n",
       "14                NaN            0.00  \n",
       "15                NaN            0.00  \n",
       "16                NaN            0.00  \n",
       "17                1.0            0.20  \n",
       "18                NaN            0.15  \n",
       "19                1.0            0.90  "
      ]
     },
     "execution_count": 90,
     "metadata": {},
     "output_type": "execute_result"
    }
   ],
   "source": [
    "df = pd.read_csv('C:/Users/User/Downloads/train_humor.csv').drop(columns = 'id')\n",
    "df.head(20)"
   ]
  },
  {
   "cell_type": "code",
   "execution_count": 94,
   "metadata": {},
   "outputs": [
    {
     "data": {
      "text/plain": [
       "\"I enrolled on some skill training and extra curricula activities that added shape to my weekends and after-work schedule. The more days passed, the more exposed I was to how blindly in love I was with an obsession. It's been months now and we are just cool as men.\""
      ]
     },
     "execution_count": 94,
     "metadata": {},
     "output_type": "execute_result"
    }
   ],
   "source": [
    "df.iloc[6].text"
   ]
  },
  {
   "cell_type": "code",
   "execution_count": null,
   "metadata": {},
   "outputs": [],
   "source": [
    "X_train, X_test, y_train, y_test = train_test_split(df[['text']], df['is_humor'], test_size = 0.2, random_state = 21)"
   ]
  },
  {
   "cell_type": "code",
   "execution_count": null,
   "metadata": {},
   "outputs": [],
   "source": [
    "X_train.describe()"
   ]
  },
  {
   "cell_type": "code",
   "execution_count": 6,
   "metadata": {},
   "outputs": [
    {
     "name": "stdout",
     "output_type": "stream",
     "text": [
      "% of positives is  0.61\n",
      "% of negatives is  0.39\n"
     ]
    }
   ],
   "source": [
    "total = len(y_train)\n",
    "print('% of positives is ', round(y_train.sum()/total, 2)) #'% of positives is {:.2f}'.format(y_train.sum()/total)\n",
    "print('% of negatives is ', round((total - y_train.sum())/total, 2)) #'% of negatives is {:.2f}'.format((total - y_train.sum())/total)"
   ]
  },
  {
   "cell_type": "code",
   "execution_count": 7,
   "metadata": {},
   "outputs": [
    {
     "data": {
      "text/plain": [
       "(array([2466.,    0.,    0.,    0.,    0.,    0.,    0.,    0.,    0.,\n",
       "        3934.]),\n",
       " array([0. , 0.1, 0.2, 0.3, 0.4, 0.5, 0.6, 0.7, 0.8, 0.9, 1. ]),\n",
       " <a list of 10 Patch objects>)"
      ]
     },
     "execution_count": 7,
     "metadata": {},
     "output_type": "execute_result"
    },
    {
     "data": {
      "image/png": "[encoded data removed]",
      "text/plain": [
       "<Figure size 432x288 with 1 Axes>"
      ]
     },
     "metadata": {
      "needs_background": "light"
     },
     "output_type": "display_data"
    }
   ],
   "source": [
    "plt.hist(y_train)"
   ]
  },
  {
   "cell_type": "code",
   "execution_count": 8,
   "metadata": {},
   "outputs": [],
   "source": [
    "def stemmer(text, stemmer):\n",
    "    return(' '.join([stemmer.stem(w) for w in word_tokenize(text)]))\n",
    "\n",
    "def count_words(input):\n",
    "    \"\"\" Returns number of occurences of characters specified in char \"\"\"     \n",
    "    return len(input.split())\n",
    "\n",
    "def remove_punctuation(s_input, include_char = None):\n",
    "    \"\"\" Returns input string without punctuation \"\"\"\n",
    "    import string as String\n",
    "    punct = String.punctuation\n",
    "    \n",
    "    if not include_char is None:\n",
    "        index = String.punctuation.index(include_char)\n",
    "        punct = String.punctuation[:index] + String.punctuation[(index + 1):]\n",
    "        \n",
    "    punct += '\\n'\n",
    "        \n",
    "    translator = str.maketrans(punct, ' '*len(punct))\n",
    "    \n",
    "    return s_input.translate(translator)\n",
    "\n",
    "def remove_stopwords(text, use_stopwords = None, df = True, exclude_number = True):\n",
    "    \"\"\" Returns input string removing stopwords from it. \"\"\"\n",
    "    from nltk.corpus import stopwords\n",
    "    from nltk.tokenize import word_tokenize\n",
    "    \n",
    "    if use_stopwords is None:\n",
    "        use_stopwords = set(stopwords.words(\"english\"))\n",
    "        \n",
    "    if df:\n",
    "        new_text = word_tokenize(text)\n",
    "        if exclude_number:\n",
    "            new_text = [word for word in new_text if not word.isnumeric()]\n",
    "        new_text = \" \".join([word for word in new_text if word not in use_stopwords])\n",
    "    else:\n",
    "        new_text = \"\"\n",
    "        for word in text:\n",
    "            if word not in use_stopwords:\n",
    "                new_text += word + \" \"\n",
    "\n",
    "    return new_text\n",
    "\n",
    "def sep_upper(text):\n",
    "    \"\"\" Take a text as input and insert space before every uppercase letter. \"\"\"\n",
    "    \n",
    "    new_text = \"\"\n",
    "    for letter in text:\n",
    "        if letter.isupper():\n",
    "            new_text += \" \" + letter\n",
    "        else:\n",
    "            new_text += letter\n",
    "    \n",
    "    return new_text\n",
    "\n",
    "def remove_space(text):\n",
    "    return(re.sub(' +',' ',text)) "
   ]
  },
  {
   "cell_type": "code",
   "execution_count": 9,
   "metadata": {},
   "outputs": [],
   "source": [
    "def pre_proc(text_col):\n",
    "    text_col = text_col.apply(remove_punctuation) # removes String.punctuation characters\n",
    "    #text_col = text_col.apply(remove_stopwords)   # removes english stopwords \n",
    "    text_col = text_col.str.replace('[^\\w\\s]','').str.strip() # and removes whitespaces\n",
    "    text_col = text_col.apply(sep_upper) # adds space before an uppercase\n",
    "    text_col = text_col.str.lower() # lowercase\n",
    "    \n",
    "    return text_col"
   ]
  },
  {
   "cell_type": "code",
   "execution_count": 10,
   "metadata": {},
   "outputs": [],
   "source": [
    "X_train.text = pre_proc(X_train.text)\n",
    "X_test.text = pre_proc(X_test.text)"
   ]
  },
  {
   "cell_type": "code",
   "execution_count": 11,
   "metadata": {},
   "outputs": [],
   "source": [
    "X_train['qtd_words'] = X_train.text.apply(count_words)\n",
    "X_test['qtd_words'] = X_test.text.apply(count_words)"
   ]
  },
  {
   "cell_type": "code",
   "execution_count": 12,
   "metadata": {},
   "outputs": [
    {
     "data": {
      "text/html": [
       "<div>\n",
       "<style scoped>\n",
       "    .dataframe tbody tr th:only-of-type {\n",
       "        vertical-align: middle;\n",
       "    }\n",
       "\n",
       "    .dataframe tbody tr th {\n",
       "        vertical-align: top;\n",
       "    }\n",
       "\n",
       "    .dataframe thead th {\n",
       "        text-align: right;\n",
       "    }\n",
       "</style>\n",
       "<table border=\"1\" class=\"dataframe\">\n",
       "  <thead>\n",
       "    <tr style=\"text-align: right;\">\n",
       "      <th></th>\n",
       "      <th>text</th>\n",
       "      <th>qtd_words</th>\n",
       "    </tr>\n",
       "  </thead>\n",
       "  <tbody>\n",
       "    <tr>\n",
       "      <th>1705</th>\n",
       "      <td>like if i had information i could dismiss fro...</td>\n",
       "      <td>15</td>\n",
       "    </tr>\n",
       "    <tr>\n",
       "      <th>6185</th>\n",
       "      <td>since my wife left   i ve bought a  harley  d...</td>\n",
       "      <td>36</td>\n",
       "    </tr>\n",
       "    <tr>\n",
       "      <th>899</th>\n",
       "      <td>there s a man walking a tight rope  100ft bel...</td>\n",
       "      <td>33</td>\n",
       "    </tr>\n",
       "    <tr>\n",
       "      <th>7453</th>\n",
       "      <td>my wife yelled at me saying    you weren t ev...</td>\n",
       "      <td>26</td>\n",
       "    </tr>\n",
       "    <tr>\n",
       "      <th>2772</th>\n",
       "      <td>bipolar depression is technically referred to...</td>\n",
       "      <td>21</td>\n",
       "    </tr>\n",
       "  </tbody>\n",
       "</table>\n",
       "</div>"
      ],
      "text/plain": [
       "                                                   text  qtd_words\n",
       "1705   like if i had information i could dismiss fro...         15\n",
       "6185   since my wife left   i ve bought a  harley  d...         36\n",
       "899    there s a man walking a tight rope  100ft bel...         33\n",
       "7453   my wife yelled at me saying    you weren t ev...         26\n",
       "2772   bipolar depression is technically referred to...         21"
      ]
     },
     "execution_count": 12,
     "metadata": {},
     "output_type": "execute_result"
    }
   ],
   "source": [
    "X_test.head()"
   ]
  },
  {
   "cell_type": "code",
   "execution_count": 13,
   "metadata": {},
   "outputs": [],
   "source": [
    "get_text_data = FunctionTransformer(lambda x: x['text'], validate=False)\n",
    "get_numerical_data = FunctionTransformer(lambda x: x[['qtd_words']], validate=False)\n",
    "\n",
    "process_and_join_features = Pipeline([('features', FeatureUnion([\n",
    "    ('text_features', Pipeline([('selector', get_text_data), \n",
    "                                ('vec', CountVectorizer())])),\n",
    "    ('nume_features', Pipeline([('selector', get_numerical_data), \n",
    "                                ('scaler', MinMaxScaler())]))\n",
    "    ])),\n",
    "    ('clf', MultinomialNB())\n",
    "                                      ])"
   ]
  },
  {
   "cell_type": "code",
   "execution_count": 3,
   "metadata": {},
   "outputs": [
    {
     "ename": "NameError",
     "evalue": "name 'process_and_join_features' is not defined",
     "output_type": "error",
     "traceback": [
      "\u001b[1;31m---------------------------------------------------------------------------\u001b[0m",
      "\u001b[1;31mNameError\u001b[0m                                 Traceback (most recent call last)",
      "\u001b[1;32m<ipython-input-3-b178d3e1ff12>\u001b[0m in \u001b[0;36m<module>\u001b[1;34m\u001b[0m\n\u001b[1;32m----> 1\u001b[1;33m \u001b[0mprocess_and_join_features\u001b[0m\u001b[1;33m.\u001b[0m\u001b[0mfit\u001b[0m\u001b[1;33m(\u001b[0m\u001b[0mX_train\u001b[0m\u001b[1;33m,\u001b[0m \u001b[0my_train\u001b[0m\u001b[1;33m)\u001b[0m\u001b[1;33m\u001b[0m\u001b[1;33m\u001b[0m\u001b[0m\n\u001b[0m\u001b[0;32m      2\u001b[0m \u001b[0mpredicted_CountVectorizer\u001b[0m \u001b[1;33m=\u001b[0m \u001b[0mprocess_and_join_features\u001b[0m\u001b[1;33m.\u001b[0m\u001b[0mpredict\u001b[0m\u001b[1;33m(\u001b[0m\u001b[0mX_test\u001b[0m\u001b[1;33m)\u001b[0m\u001b[1;33m\u001b[0m\u001b[1;33m\u001b[0m\u001b[0m\n",
      "\u001b[1;31mNameError\u001b[0m: name 'process_and_join_features' is not defined"
     ]
    }
   ],
   "source": [
    "process_and_join_features.fit(X_train, y_train)\n",
    "predicted_CountVectorizer = process_and_join_features.predict(X_test)"
   ]
  },
  {
   "cell_type": "code",
   "execution_count": 15,
   "metadata": {},
   "outputs": [
    {
     "name": "stdout",
     "output_type": "stream",
     "text": [
      "0.85125\n"
     ]
    }
   ],
   "source": [
    "from sklearn import metrics\n",
    "\n",
    "print(metrics.accuracy_score(y_test, predicted_CountVectorizer))"
   ]
  },
  {
   "cell_type": "code",
   "execution_count": 78,
   "metadata": {},
   "outputs": [
    {
     "data": {
      "text/html": [
       "<div>\n",
       "<style scoped>\n",
       "    .dataframe tbody tr th:only-of-type {\n",
       "        vertical-align: middle;\n",
       "    }\n",
       "\n",
       "    .dataframe tbody tr th {\n",
       "        vertical-align: top;\n",
       "    }\n",
       "\n",
       "    .dataframe thead th {\n",
       "        text-align: right;\n",
       "    }\n",
       "</style>\n",
       "<table border=\"1\" class=\"dataframe\">\n",
       "  <thead>\n",
       "    <tr style=\"text-align: right;\">\n",
       "      <th></th>\n",
       "      <th>text</th>\n",
       "      <th>offense_rating</th>\n",
       "    </tr>\n",
       "  </thead>\n",
       "  <tbody>\n",
       "    <tr>\n",
       "      <th>0</th>\n",
       "      <td>TENNESSEE: We're the best state. Nobody even c...</td>\n",
       "      <td>0.2</td>\n",
       "    </tr>\n",
       "    <tr>\n",
       "      <th>1</th>\n",
       "      <td>A man inserted an advertisement in the classif...</td>\n",
       "      <td>1.1</td>\n",
       "    </tr>\n",
       "    <tr>\n",
       "      <th>2</th>\n",
       "      <td>How many men does it take to open a can of bee...</td>\n",
       "      <td>2.4</td>\n",
       "    </tr>\n",
       "    <tr>\n",
       "      <th>3</th>\n",
       "      <td>Told my mom I hit 1200 Twitter followers. She ...</td>\n",
       "      <td>0.0</td>\n",
       "    </tr>\n",
       "    <tr>\n",
       "      <th>4</th>\n",
       "      <td>Roses are dead. Love is fake. Weddings are bas...</td>\n",
       "      <td>0.1</td>\n",
       "    </tr>\n",
       "  </tbody>\n",
       "</table>\n",
       "</div>"
      ],
      "text/plain": [
       "                                                text  offense_rating\n",
       "0  TENNESSEE: We're the best state. Nobody even c...             0.2\n",
       "1  A man inserted an advertisement in the classif...             1.1\n",
       "2  How many men does it take to open a can of bee...             2.4\n",
       "3  Told my mom I hit 1200 Twitter followers. She ...             0.0\n",
       "4  Roses are dead. Love is fake. Weddings are bas...             0.1"
      ]
     },
     "execution_count": 78,
     "metadata": {},
     "output_type": "execute_result"
    }
   ],
   "source": [
    "df_offense = pd.read_csv('C:/Users/User/Downloads/train_humor.csv').drop(columns = ['id','is_humor','humor_rating','humor_controversy'])\n",
    "df_offense.head()"
   ]
  },
  {
   "cell_type": "code",
   "execution_count": 79,
   "metadata": {},
   "outputs": [
    {
     "data": {
      "text/plain": [
       "0.00    3388\n",
       "0.15     394\n",
       "0.05     387\n",
       "0.10     333\n",
       "0.20     306\n",
       "        ... \n",
       "4.85       2\n",
       "4.80       2\n",
       "4.55       2\n",
       "4.75       1\n",
       "4.45       1\n",
       "Name: offense_rating, Length: 98, dtype: int64"
      ]
     },
     "execution_count": 79,
     "metadata": {},
     "output_type": "execute_result"
    }
   ],
   "source": [
    "df_offense.offense_rating.value_counts()"
   ]
  },
  {
   "cell_type": "code",
   "execution_count": 4,
   "metadata": {},
   "outputs": [
    {
     "data": {
      "text/html": [
       "<div>\n",
       "<style scoped>\n",
       "    .dataframe tbody tr th:only-of-type {\n",
       "        vertical-align: middle;\n",
       "    }\n",
       "\n",
       "    .dataframe tbody tr th {\n",
       "        vertical-align: top;\n",
       "    }\n",
       "\n",
       "    .dataframe thead th {\n",
       "        text-align: right;\n",
       "    }\n",
       "</style>\n",
       "<table border=\"1\" class=\"dataframe\">\n",
       "  <thead>\n",
       "    <tr style=\"text-align: right;\">\n",
       "      <th></th>\n",
       "      <th>offense_rating</th>\n",
       "    </tr>\n",
       "  </thead>\n",
       "  <tbody>\n",
       "    <tr>\n",
       "      <th>count</th>\n",
       "      <td>8000.000000</td>\n",
       "    </tr>\n",
       "    <tr>\n",
       "      <th>mean</th>\n",
       "      <td>0.585325</td>\n",
       "    </tr>\n",
       "    <tr>\n",
       "      <th>std</th>\n",
       "      <td>0.979955</td>\n",
       "    </tr>\n",
       "    <tr>\n",
       "      <th>min</th>\n",
       "      <td>0.000000</td>\n",
       "    </tr>\n",
       "    <tr>\n",
       "      <th>25%</th>\n",
       "      <td>0.000000</td>\n",
       "    </tr>\n",
       "    <tr>\n",
       "      <th>50%</th>\n",
       "      <td>0.100000</td>\n",
       "    </tr>\n",
       "    <tr>\n",
       "      <th>75%</th>\n",
       "      <td>0.700000</td>\n",
       "    </tr>\n",
       "    <tr>\n",
       "      <th>max</th>\n",
       "      <td>4.850000</td>\n",
       "    </tr>\n",
       "  </tbody>\n",
       "</table>\n",
       "</div>"
      ],
      "text/plain": [
       "       offense_rating\n",
       "count     8000.000000\n",
       "mean         0.585325\n",
       "std          0.979955\n",
       "min          0.000000\n",
       "25%          0.000000\n",
       "50%          0.100000\n",
       "75%          0.700000\n",
       "max          4.850000"
      ]
     },
     "execution_count": 4,
     "metadata": {},
     "output_type": "execute_result"
    }
   ],
   "source": [
    "df_offense.describe()"
   ]
  },
  {
   "cell_type": "code",
   "execution_count": 5,
   "metadata": {},
   "outputs": [
    {
     "ename": "NameError",
     "evalue": "name 'df' is not defined",
     "output_type": "error",
     "traceback": [
      "\u001b[1;31m---------------------------------------------------------------------------\u001b[0m",
      "\u001b[1;31mNameError\u001b[0m                                 Traceback (most recent call last)",
      "\u001b[1;32m<ipython-input-5-6131bafe0f2e>\u001b[0m in \u001b[0;36m<module>\u001b[1;34m\u001b[0m\n\u001b[1;32m----> 1\u001b[1;33m \u001b[0mX_train_offense\u001b[0m\u001b[1;33m,\u001b[0m \u001b[0mX_test_offense\u001b[0m\u001b[1;33m,\u001b[0m \u001b[0my_train_offense\u001b[0m\u001b[1;33m,\u001b[0m \u001b[0my_test_offense\u001b[0m \u001b[1;33m=\u001b[0m \u001b[0mtrain_test_split\u001b[0m\u001b[1;33m(\u001b[0m\u001b[0mdf_offense\u001b[0m\u001b[1;33m[\u001b[0m\u001b[1;33m[\u001b[0m\u001b[1;34m'text'\u001b[0m\u001b[1;33m]\u001b[0m\u001b[1;33m]\u001b[0m\u001b[1;33m,\u001b[0m \u001b[0mdf\u001b[0m\u001b[1;33m[\u001b[0m\u001b[1;34m'offense_rating'\u001b[0m\u001b[1;33m]\u001b[0m\u001b[1;33m,\u001b[0m \u001b[0mtest_size\u001b[0m \u001b[1;33m=\u001b[0m \u001b[1;36m0.2\u001b[0m\u001b[1;33m,\u001b[0m \u001b[0mrandom_state\u001b[0m \u001b[1;33m=\u001b[0m \u001b[1;36m21\u001b[0m\u001b[1;33m)\u001b[0m\u001b[1;33m\u001b[0m\u001b[1;33m\u001b[0m\u001b[0m\n\u001b[0m",
      "\u001b[1;31mNameError\u001b[0m: name 'df' is not defined"
     ]
    }
   ],
   "source": [
    "# X_train_offense, X_test_offense, y_train_offense, y_test_offense = train_test_split(df_offense[['text']], df['offense_rating'], test_size = 0.2, random_state = 21)"
   ]
  },
  {
   "cell_type": "code",
   "execution_count": 80,
   "metadata": {},
   "outputs": [],
   "source": [
    "import re\n",
    "first_description=df_offense.text[0]\n",
    "description=re.sub(\"[^a-zA-Z]\",\" \",first_description) \n",
    "description=description.lower()"
   ]
  },
  {
   "cell_type": "code",
   "execution_count": 81,
   "metadata": {},
   "outputs": [
    {
     "name": "stdout",
     "output_type": "stream",
     "text": [
      "TENNESSEE: We're the best state. Nobody even comes close. *Elevennessee walks into the room* TENNESSEE: Oh shit...\n",
      "tennessee  we re the best state  nobody even comes close   elevennessee walks into the room  tennessee  oh shit   \n"
     ]
    }
   ],
   "source": [
    "print(df_offense.text[0])\n",
    "print(description)"
   ]
  },
  {
   "cell_type": "code",
   "execution_count": 82,
   "metadata": {},
   "outputs": [],
   "source": [
    "import nltk\n",
    "description= nltk.word_tokenize(description)"
   ]
  },
  {
   "cell_type": "code",
   "execution_count": 83,
   "metadata": {},
   "outputs": [],
   "source": [
    "import nltk as nlp\n",
    "lemma = nlp.WordNetLemmatizer()\n",
    "description = [ lemma.lemmatize(word) for word in description] \n",
    "\n",
    "description =\" \".join(description)"
   ]
  },
  {
   "cell_type": "code",
   "execution_count": 60,
   "metadata": {},
   "outputs": [
    {
     "name": "stdout",
     "output_type": "stream",
     "text": [
      "TENNESSEE: We're the best state. Nobody even comes close. *Elevennessee walks into the room* TENNESSEE: Oh shit...\n",
      "tennessee we re the best state nobody even come close elevennessee walk into the room tennessee oh shit\n"
     ]
    }
   ],
   "source": [
    "print(first_description)\n",
    "print(description)"
   ]
  },
  {
   "cell_type": "code",
   "execution_count": 84,
   "metadata": {},
   "outputs": [],
   "source": [
    "description_list = []\n",
    "for description in df_offense.text:\n",
    "    description = re.sub(\"[^a-zA-Z]\",\" \",description)\n",
    "    description = description.lower()   \n",
    "    description = nltk.word_tokenize(description)\n",
    "    lemma = nlp.WordNetLemmatizer()\n",
    "    description = [ lemma.lemmatize(word) for word in description]\n",
    "    description = \" \".join(description)\n",
    "    description_list.append(description)"
   ]
  },
  {
   "cell_type": "code",
   "execution_count": null,
   "metadata": {},
   "outputs": [],
   "source": []
  },
  {
   "cell_type": "code",
   "execution_count": 85,
   "metadata": {},
   "outputs": [
    {
     "name": "stdout",
     "output_type": "stream",
     "text": [
      "Most used words:  ['abysmal', 'abyss', 'academic', 'academy', 'accent', 'accept', 'acceptable', 'acceptance', 'accepted', 'accepting']\n"
     ]
    }
   ],
   "source": [
    "from sklearn.feature_extraction.text import CountVectorizer \n",
    "\n",
    "count_vectorizer = CountVectorizer(stop_words = \"english\")\n",
    "\n",
    "sparce_matrix = count_vectorizer.fit_transform(description_list).toarray()  # x\n",
    "\n",
    "words=count_vectorizer.get_feature_names()\n",
    "print(\"Most used words: \",words[50:60])"
   ]
  },
  {
   "cell_type": "code",
   "execution_count": 83,
   "metadata": {},
   "outputs": [],
   "source": [
    "# from sklearn.preprocessing import StandardScaler\n",
    "# sparce=count_vectorizer.fit_transform(description_list)\n",
    "# final_bow_np = StandardScaler(with_mean=False).fit_transform(sparce)"
   ]
  },
  {
   "cell_type": "code",
   "execution_count": 84,
   "metadata": {},
   "outputs": [
    {
     "data": {
      "text/plain": [
       "<8000x12096 sparse matrix of type '<class 'numpy.float64'>'\n",
       "\twith 74463 stored elements in Compressed Sparse Row format>"
      ]
     },
     "execution_count": 84,
     "metadata": {},
     "output_type": "execute_result"
    }
   ],
   "source": [
    "# final_bow_np"
   ]
  },
  {
   "cell_type": "code",
   "execution_count": 48,
   "metadata": {},
   "outputs": [
    {
     "data": {
      "text/plain": [
       "<8000x6220 sparse matrix of type '<class 'numpy.int64'>'\n",
       "\twith 68587 stored elements in Compressed Sparse Row format>"
      ]
     },
     "execution_count": 48,
     "metadata": {},
     "output_type": "execute_result"
    }
   ],
   "source": [
    "# count_vectorizer.fit_transform(description_list)"
   ]
  },
  {
   "cell_type": "code",
   "execution_count": 88,
   "metadata": {},
   "outputs": [
    {
     "data": {
      "text/plain": [
       "array([0, 0, 0, ..., 0, 0, 0], dtype=int64)"
      ]
     },
     "execution_count": 88,
     "metadata": {},
     "output_type": "execute_result"
    }
   ],
   "source": [
    "# sparce_matrix[18]"
   ]
  },
  {
   "cell_type": "code",
   "execution_count": 86,
   "metadata": {},
   "outputs": [
    {
     "data": {
      "text/plain": [
       "matrix([[0, 0, 0, ..., 0, 0, 0],\n",
       "        [0, 0, 0, ..., 0, 0, 0],\n",
       "        [0, 0, 0, ..., 0, 0, 0],\n",
       "        ...,\n",
       "        [0, 0, 0, ..., 0, 0, 0],\n",
       "        [0, 0, 0, ..., 0, 0, 0],\n",
       "        [0, 0, 0, ..., 0, 0, 0]], dtype=int64)"
      ]
     },
     "execution_count": 86,
     "metadata": {},
     "output_type": "execute_result"
    }
   ],
   "source": [
    "# sparce_matrix"
   ]
  },
  {
   "cell_type": "code",
   "execution_count": 63,
   "metadata": {},
   "outputs": [
    {
     "data": {
      "text/plain": [
       "['tennessee we re the best state nobody even come close elevennessee walk into the room tennessee oh shit',\n",
       " 'a man inserted an advertisement in the classified wife wanted the next day he received of reply all reading you can have mine free delivery also available at your door step',\n",
       " 'how many men doe it take to open a can of beer none it should be open by the time she brings it to the couch',\n",
       " 'told my mom i hit twitter follower she pointed out how my brother owns a house and i m wanted by several collection agency oh ma',\n",
       " 'rose are dead love is fake wedding are basically funeral with cake',\n",
       " 'trabajo the spanish word for work come from the latin term trepaliare meaning torture',\n",
       " 'i enrolled on some skill training and extra curriculum activity that added shape to my weekend and after work schedule the more day passed the more exposed i wa to how blindly in love i wa with an obsession it s been month now and we are just cool a men',\n",
       " 'me i m such an original truly one of a kind also me holding a glass of white wine i love to laugh',\n",
       " 'men who ejaculated time or more a month had a lower risk of prostate cancer than those who ejaculated four to seven time a month according to researcher at harvard t h chan school of public health',\n",
       " 'i got really angry today and it wasn t about nothing but you re going to have to take my word for that',\n",
       " 'a dog in mexico named frida saved the life of people who were trapped under rubble after an earthquake in she ha identified a total of body throughout her career and is considered a national heroine she s officially retired',\n",
       " 'what s the difference between a mormon man and a muslim man a mormon man get virgin and then kill himself',\n",
       " 'stop calling because you ve run out of toilet paper yes if you re running out of toilet paper don t dial the number for that is stephen colbert',\n",
       " 'when you march the street shouting with people it s civil disobedience but do it drunk by yourself and it s an involuntary hour hold',\n",
       " 'balsamic vinegar help slowing the appearance of ageing sign healthy healthy food health',\n",
       " 'when you stand in your struggle and share your story it will heal you and it will heal someone else iyanla vanzant',\n",
       " 'grief come in it own time for everyone in it own way so the best we can do the best anyone can do is try for honesty',\n",
       " 'you can make any sentence creepier by adding consenting to it just two consenting adult riding a tandem kayak',\n",
       " 'the better life go to those who have to work harder for it because nothing is taken for granted',\n",
       " 'me if ant man shrink by making the space between atom smaller then how doe he go subatomic guy in the stall next to me shut the fuck up',\n",
       " 'i m not saying my pubes are getting too long but when i get an erection it look like pinocchio ha gone and joined the taliban',\n",
       " 'you have an active gay account on twitter yet you spit hate against fellow gay dude in public shame on you',\n",
       " 'we spend a long time focused on the future planning it working toward it but at some point u start to realize your life is happening now',\n",
       " 'my girlfriend is like the square root of she s a but she s imaginary',\n",
       " 'when in fact this is a condition doctor are calling chromatica sickness',\n",
       " 'my wife left me because she said i made a meal out of everything i intend to make her eat those word',\n",
       " 'how do the chinese select their baby name they chuck a tin can down the stair ping wong ching pang',\n",
       " 'what a relief i went into the doctor to have him look at a large mole on my chest turn out it wasn t cancerous mostly because it wa a dollop of bbq sauce and not a mole',\n",
       " 'my father doesn t trust anyone in fact he ha a saying but he won t tell me',\n",
       " 'what s a specimen mama mia it s an italian astronaut',\n",
       " 'i asked a pretty young homeless woman if i could take her home and she said yes with a big smile the look on her face soon changed when i walked off with her cardboard box',\n",
       " 'i had a vasectomy so i won t have kid but when i got home they were still there',\n",
       " 'we should have not only candy cane but candy wheelchair candy walker etc so the other mobility aid don t feel discriminated against',\n",
       " 'billy joel doesn t sell the front row seat to his show he give them away to random people in the cheap seat so the real fan are in front of him instead of just wealthy people',\n",
       " 'learn from the scar of others',\n",
       " 'damn girl your name must be ebola all i can think about is you spreading',\n",
       " 'i once interviewed for a position to become a blacksmith they asked if i had ever shooed a horse i said no but i ve told a donkey to fuck off',\n",
       " 'anybody that eats tide pod is an idiot they could go to costco and get the generic brand for half the price',\n",
       " 'maybe if my heart stop beating it won t hurt this much paramore',\n",
       " 'meth wa used a a top line antidepressant throughout the s and s gordon alles a los angeles chemist patented the medication after injecting it himself he became more talkative and described a feeling of well being',\n",
       " 'all i got ta say don t miss next week s midseason finale queen sugar',\n",
       " 'biker what should we name the gang other biker who is actually a really talented writer but wa never encouraged a a child to pursue his gift so he found community with a rough but loyal group of guy how about the hell s angel biker damn man yes',\n",
       " 'some bond defy distance and time and logic because some tie are simply meant to be',\n",
       " 'thomas jefferson helped popularize mac and cheese in america he would serve it to dinner guest during his presidency and he even had his own recipe',\n",
       " 'whoever find a friend find a treasure car',\n",
       " 'what do you call bad breath that sneak up on you ninjavitis',\n",
       " 'what doe a gay rooster say anycockledoooooo rofl',\n",
       " 'how can you tell when an italian car ha a flat tire dago wop wop wop',\n",
       " 'what help me with these thing is using that awareness a fuel fuel to teach others to help me better navigate these system better because and to do what i can to impact my corner of the world',\n",
       " 'i never finish anything i have a black belt in partial art',\n",
       " 'in a missouri deer poacher wa ordered to watch bambi once a month for the entirety of his year long prison sentence',\n",
       " 'two meth head start a relationship is that considered speed dating or just mething around',\n",
       " 'why doe kim jong un love book because he s the glorious reader',\n",
       " 'when i wa in college i used to live on a houseboat and started dating the girl next door eventually we drifted apart',\n",
       " 'no matter what new adventure you re embarking on you re still you you bring you into every new beginning so how different can it be',\n",
       " 'the most unbelievable part about sesame street a show with an foot bird is that there is only one grouch in the whole neighborhood',\n",
       " 'be peaceful be courteous obey the law respect everyone but if someone put his hand on you send him to the cemetery malcolm x',\n",
       " 'ten year after my death my best friend finally open the package i left him in my will he s confused by the empty box he wonder if there s been a mistake then he smell the fart laughing my ghost can now rest in peace',\n",
       " 'choose your word wisely because you can t ask the angel to erase them',\n",
       " 'we don t give enough credit to the dad who spend their waking hour continually turning off light and adjusting thermostat these are the real unsung hero of fighting climate change and reducing humanity s carbon footprint',\n",
       " 'roman scholar marcus terentius varro predicted microbiology over year ago he wrote there are bred certain minute creature which can not be seen by the eye but which float in the air and enter the body through the mouth and nose and cause serious disease',\n",
       " 'i am not a smart man but i know what love is forrest gump',\n",
       " 'hellen keller walk into a bar and then a table and then a stool',\n",
       " 'the year is we are touring the american ruin the zombie are too fat to be of any immediate threat',\n",
       " 'the tobacco industry give ton of money to group like the united negro college fund buying the silence of our greatest leader',\n",
       " 'i m a year old woman who is currently unemployed and i feel hopeless is there advice you can give me on way i can set a track for my life auntie red tweet tea',\n",
       " 'my girlfriend got a new tattoo on her inner thigh it s a seashell when you put your ear on it you can smell the ocean',\n",
       " 'some exciting ting are happening and i can t say nothin yet stay tuned',\n",
       " 'i only believe of the bible which mean that i m an eightheist',\n",
       " 'my wife just found a pretzel in her hair and then she ate it and i didn t know i could love her more',\n",
       " 'why do american have good computer because they have no troubleshooting',\n",
       " 'what do you think is the biggest threat to black mental health',\n",
       " 'replacing his statue is a waste of state fund and a waste of an opportunity to do the right thing',\n",
       " 'i want to watch a chick flick with my chick a we eat chick fil a on a sunday',\n",
       " 'went to petit trois tonight and it wa delicious man though sitting in a high stool for all of dinner wa tough on the old girl',\n",
       " 'i met a girl who said she liked imagine dragon i asked her if she could imagine dragon these nut across her chin',\n",
       " 'avoid tea coffee with meal tannin in tea coffee prevents absorption of some nutrient tea half the iron u get orange juice double it',\n",
       " 'i m waiting for them to invent a pleasure robot that s so lifelike it won t have sex with me',\n",
       " 'it s not my farting that bother my wife it s me yelling release the kraken right before i do it',\n",
       " 'my wife wa disappointed to find out why my nickname in college wa the love machine i sucked at tennis',\n",
       " 'january is the monday of month',\n",
       " 'arnold schwarzenegger wasn t allowed to dub his own role for the movie terminator in the german language his accent wa considered very rural by their standard and it wouldn t make sense for a machine from the future to sound like they were from the middle of nowhere',\n",
       " 'i woke up with a pinched nerve in my back the pain is bad but even worse is the sick feeling from being betrayed by my most trusted friend my bed',\n",
       " 'twitter you need to have more conversation with other user in order to be successful on twitter me close twitter account',\n",
       " 'a lumberjack went in to a magic forest to cut a tree when he got there he started to swing at a tree when it suddenly shouted wait i m a talking tree the lumberjack laughed and said and you will dialogue',\n",
       " 'our child can t breathe they can t be child and just play dr cheryl grill black mind matter',\n",
       " 'there come a point in your life when you need someone to speak to someone to love and make you feel loved i ve reached that point',\n",
       " 'you know what suck about falling for a guy you re not right for you fall anyway because you think he might turn out to be different',\n",
       " 'barack obama go to a costume party while giving his wife a piggyback ride someone asks him what he s dressed up a and he responds i m a snail that s m shell on my back',\n",
       " 'just learned there s people who don t clean their sink regularly',\n",
       " 'i m so angry at facebook i can t believe they would leak my information after i signed up without reading any of the legal documentation volunteered all the personal detail about my life and let them track my internet activity how could they do this to me',\n",
       " 'actor hugh laurie realized he had severe clinical depression when he felt neither excited nor frightened after seeing two car collide and explode in front of him at a charity demolition derby he commented boredom is not an appropriate response to exploding car',\n",
       " 'brad pitt should have his own line of deodorant called brad s pit',\n",
       " 'in celebration of getting k on twitter i m going to be holding a virtual meet and greet on my instagram live at est just tune in request to join and you get to all one question then we ll do a screen grab picture',\n",
       " 'self worth stem from first thinking you are worthy',\n",
       " 'what do you call mockingbird two kilomockingbirds credit go to my old physic book',\n",
       " 'why do bird fly south in the winter because it too far to walk',\n",
       " 'first date her i want a man who give me butterfly me pull out shoebox of preserved dead butterfly you are in luck',\n",
       " 'i used to get so upset by this one twitter account that went out of their way to shade me constantly they knew everything i d ever done and read every article about me and had a criticism for all of it then i realized they re watching everything i do they re my biggest fan',\n",
       " 'what do you call india s top tv show dan singh with the sitar',\n",
       " 'last night my wife and i watched hour of cooking show before she hugged me and went to bed i m pretty sure i m in the friend zone',\n",
       " 'my girlfriend left a note on the fridge this is not working i m going to my mom s house i opened the fridge the light came on the beer wa cold what the hell is she talking about',\n",
       " 'did you find it difficult being queer in a black greek letter org auntie red tweet tea',\n",
       " 'lavender essential oil ha a calming scent it reduces migraine headache anxiety nervous tension stress increase mental activity',\n",
       " 'why are gay men always first to check out of a hotel they had their shit packed the night before',\n",
       " 'my girlfriend s father is pretty religious and said we couldn t make love which is rather disappointing because he s extremely handsome',\n",
       " 'there are an estimated galaxy in the known universe for every human on earth',\n",
       " 'someone is suing canada dry ginger ale because it contains no ginger so i d like to formally announce my lawsuit against panda express',\n",
       " 'always remember who wa still with you when you were struggling',\n",
       " 'group therapy in insane asylum therapist let s talk about the desire we have to hurt people psycho i want to kill people psycho i want to eat people psycho i want to post game of throne spoiler psycho and what is wrong with you that is really messed up',\n",
       " 'baby yoda delight ancient yoda enchanting teen yoda friggin impossible',\n",
       " 'the wise are not always quiet but they know when to be',\n",
       " 'a researcher from providence college found that over time we become better friend with people who have similar level of social anxiety',\n",
       " 'time to fulfill my dream of marketing my own line of artisanal antifreeze',\n",
       " 'i really enjoyed jimcarrey s memoir like jim the book is wildly comic inventive subversive and made primarily of compressed paper pulp',\n",
       " 'me oh my god like the spaghetti guy dr boyardee do you want me to treat your snake bite or do you want to talk about my brother',\n",
       " 'i just saw a sign in a shop window that read i would rather have a muslim customer than have one u soldier in my shop the funeral director crack me up',\n",
       " 'a boy wa born of an indian chinese irish and italian grandmother they couldn t settle on a name until it hit them they named him ravi o lee',\n",
       " 'what do you call a sad terrorist a crisis',\n",
       " 'when restaurant ask if they can pack up my leftover food for me i say no and then stuff it in my cheek like a hamster and leave',\n",
       " 'my friend asked me to describe myself in word lazy',\n",
       " 'a parody of the mandalorian but it s the mindalorian am i m in the whole costume but doing mindy type stuff',\n",
       " 'cowboy give me three pack of condom please cashier do you need a paper bag with that sir cowboy nah she s purty good lookin',\n",
       " 'my girlfriend dressed up a a policewoman and told me i wa under arrest on suspicion of being good in bed after minute all charge were dropped due to a lack of evidence',\n",
       " 'so i heard lady like bad boy lucky for them i m bad at everything',\n",
       " 'interviewer what s your greatest weakness me i m partially deaf interviewer is that right me why would it be tight',\n",
       " 'giving up doesn t come easy for u so we do everything in our power not to',\n",
       " 'when i wa a kid my mother stopped breast feeding me i asked her why and she say hey i just wan na be friend',\n",
       " 'my best chance of catching up on all the great tv show is a non fatal skiing accident',\n",
       " 'you already have something in common with every girl you see the context you re in use that to start the conversation and her response to keep it going',\n",
       " 'girl dont dress up to impress guy we dress up to impress other girl if we wanted to impress guy we would just run around naked all day',\n",
       " 'one generation plant a seed so that the next generation can receive the shade',\n",
       " 'bedroom wife do that thing i like me put on sleep apnea mask',\n",
       " 'my wife and i were blissfully happy for magical year and then we met',\n",
       " 'i ve been going through a really rough period at work this week it s my own fault for swapping my tampax for sand paper',\n",
       " 'eid mubarak i personally wanted to wish you all a blessed eid nowadays everyone is overwhelmed by the amount of impersonal message most people just copy paste and send to get the job done not me anyway i wish you all the best for your brother abdul',\n",
       " 'i ve been so stressed recently i ve been doing that chinese thing with the needle you know heroin',\n",
       " 'when human lose weight about of the fat is converted into carbon dioxide and exhaled through the lung',\n",
       " 'people really do respect those who are willing to speak their truth',\n",
       " 'all these people getting email from the prince of nigeria i got one from an egyptian pharaoh but it turned out to just be a pyramid scheme',\n",
       " 'about to invent social medium what if there wa a way to be overwhelmed with politics all the time instead of just every year at the election',\n",
       " 'hospital doctor we re giving you iv drug to help with the pain do you have any question me why do you use roman numeral to number your drug doctor',\n",
       " 'grape don t cry when they re crushed but they do wine',\n",
       " 'black woman make the best wife you can t see their bruise',\n",
       " 'they have free mint in the movie theater bathroom wife gross who eats mint from the bathroom me mouth full of mint i know',\n",
       " 'men stop treating y all baby mother like crap just because y all couldn t be happy together doesn t mean she doesn t deserve to be happy',\n",
       " 'this one time i shot a defenseless black guy and got arrested for impersonating an officer of the law',\n",
       " 'my town never change population everytime a girl get pregnant a guy leaf town',\n",
       " 'me this spider who keep building a web in my front doorway every day is annoying spider the human who keep walking through my web look hilarious every single time remind me to rebuild this thing tomorrow',\n",
       " 'banning cig flavor like cherry work in preventing youth smoking saving young life ban menthol to save black life tobacco free hbcu',\n",
       " 'my wife packed a kale and quinoa salad for lunch for me today so now i have to eat it hiding in the bathroom so people don t think i m a hipster',\n",
       " 'to formally reintroduce ourselves we are a group of radical bipoc interpreter across multiple intersection bringing access to social justice movement in southern california our time our love our hand will fight for what is right',\n",
       " 'an english man asked an american how he liked his tea the american replied in the harbor',\n",
       " 'most bird chirp chirp chirp one very stuck up kind of bird that forgot where it came from hoo',\n",
       " 'stephen sondheim getting some sweet royalty from joker and marriage story for send in the clown and being alive happy for him i m his entertainment attorney',\n",
       " 'i can t believe i m saying this again in a week prayer to louisiana what the hell is happening to our world stop this',\n",
       " 'banana protect the eye against macular degeneration and build strong bone by increasing calcium absorption health diet',\n",
       " 'it s hard following a clown act my girlfriend dated a clown before we started going together i ve got some pretty big shoe to fill',\n",
       " 'why do girl wear makeup and perfume because they are ugly and they smell',\n",
       " 'why do girl always get mad when i try to read their shirt it s not my fault i m blind',\n",
       " 'back when tim and i were living in denver we always wanted a heart healthy way to start our day before a brisk colorado morning this wa before i wa diagnosed with gerd and just after we adopted pepper our black lab just give me the frittata recipe goddamnit',\n",
       " 'time fly time wait for no man time heals all wound all any of u want is more time time to stand up time to grow time to let go',\n",
       " 'my bos said you re the worst train driver ever how many have you derailed this year i said i m not sure it s hard to keep track',\n",
       " 'why doesn t the south have many subway because they hate underground railroad',\n",
       " 'switch friend i finished super mario odyssey and loved it what do i play next',\n",
       " 'a fat man wa standing in front of a kindergarten one of the teacher come and asks him are you expecting a child no i am a bit fat that s all',\n",
       " 'auntie red do you think an age gap in a lesbian relationship will work my girlfriend and i are year apart and i have no issue with it but my family and friend think i m crazy auntie red tweet tea',\n",
       " 'i love matthew macfayden in succession and i ve been so curious what he s like a darcy in prideand prejudice so today i m gon na watch but there s no cousin greg in pandp mr bingley',\n",
       " 'when human make mistake it doesn t mean they re evil it mean they re human',\n",
       " 'interviewer how do you deal with high stress situation me remembering holding one of those vibrating pager they give you at restaurant mostly cry',\n",
       " 'how many muslim woman doe it take to screw in a light bulb silly muslim woman aren t allowed to screw in light bulb',\n",
       " 'heading to chinatown after work i heard it s erection day',\n",
       " 'me get up from movie dog want me to paw it for you me oh sure wait did you say paw dog lol me oh my god lmao',\n",
       " 'bird fly in my house through the chimney i calmly walk out the front door and lock it goodbye house',\n",
       " 'i got thrown out a strip club last night for using monopoly money i don t see why i should pay real money to see fake boob',\n",
       " 'i wan na tell my girlfriend she s using way too much teeth when she go down on me but i don t want to hurt her feeling how do i soften the blow',\n",
       " 'what do you do when a blonde throw a grenade at you pull the pin and throw it back',\n",
       " 'did you hear about the girl who went fishing with three guy she came back with a red snapper',\n",
       " 'take a piece of my heart and make it all your own so when we are apart you ll never be alone shawn mendes',\n",
       " 'male human tend to produce more sperm and ejaculate during intercourse when there is a perceived rival competing with them',\n",
       " 'mattel released a muslim barbie it s a blow up doll',\n",
       " 'the state of new york helped the nra buy it first official shooting range in',\n",
       " 'rmscs yr old elena harrison in the breast final finished strong at today s junior olympics bk junior olympics',\n",
       " 'take cute picture with child for instagram writes inspirational post about being a good parent while ignoring child for min',\n",
       " 'what do multiculturalism and the movie jaw have in common they both made american despise great white',\n",
       " 'here s a fedex joke actually you ll get it tomorrow',\n",
       " 'someone told me i m condescending that mean i talk down to people',\n",
       " 'of all the way to go to hell in a hand basket sound the most pleasant',\n",
       " 'what did the cannibal s wife say when he came home late for dinner i m giving you the cold shoulder',\n",
       " 'statistic say that out of people in a relationship is unfaithful i just need to work out if that s my wife or my girlfriend',\n",
       " 'do what is right not what is easy',\n",
       " 'long term dehydration lead to wrinkle make sure you drink enough water every day even if you don t feel thirsty water wrinkle health',\n",
       " 'how much wood would a woodchuck chuck if a woodchuck did crossfit my guess is more',\n",
       " 'whenever i get new follower i try to tweet something really disappointing so they know what they re in for',\n",
       " 'me seeing a picture of the mar rover i love you mar rover me watching an episode of planet earth i love you david attenborough me seeing my dad in person hey dude',\n",
       " 'just finished watching that evil genius series on netflix bruh i might not sleep tonight',\n",
       " 'three blonde are sitting on a park bench eating ice cream cone one is sucking hers one is biting hers one is licking hers which one is married the one with the wedding ring you sick o',\n",
       " 'green tea ha antioxidant called catechin are what help speed metabolism and fat burning diet',\n",
       " 'i realize your laugh is the best sound i have ever heard taylor swift',\n",
       " 'i didn t know what to wear to the premature ejaculation club so i just came in my pant',\n",
       " 'comic book plot idea catwoman dy after having the uncontrollable urge to chase after superman s laser vision',\n",
       " 'the best part of going to a d movie is how everyone in the theater look like roy orbison',\n",
       " 'sitting here wondering when a spiderweb becomes a cob like plato aristotle and the others',\n",
       " 'professor osmium is the densest material on earth gram in cubic centimeter me so you re saying professor nodding thicc a fuck',\n",
       " 'this girl i like said she didn t like bondage me either but you re the one who said no',\n",
       " 'let go to city hall tomorrow i don t wan na spend another day not being married to you',\n",
       " 'i believe that for the most part love is about choice it s about putting down the poison and the dagger and making your own happy ending',\n",
       " 'what do you call someone who clean a vaccum cleaner a vacuum cleaner',\n",
       " 'sometimes everything seems out of my reach no matter how hard i try tarzan',\n",
       " 'i think my friend might be gay his dick taste like shit',\n",
       " 'what did the french chef give his wife on valentine s day a hug and a little quiche',\n",
       " 'what do you call a tall obese computer nerd with a bladder control problem a big fat geek wetting',\n",
       " 'abc news bee fly and make honey fox islamic insect attacking texas cnn flying warbirds create liquid yellow weapon of mass destruction',\n",
       " 'what do they call mosquito in pakistan churchitoes',\n",
       " 'i can t contain this anymore i m all yours i ve got no control no controol no control',\n",
       " 'look for the girl with the broken smile maroon',\n",
       " 'how is playing a bagpipe like throwing a javelin blindfolded you don t have to be very good to get people s attention',\n",
       " 'in norway it take three year of higher education to become a police officer graduate are awarded a bachelor s degree in police study',\n",
       " 'there is more value in promoting who we are instead of just defending who we are not',\n",
       " 'first date her i like bad boy me trying to impress sometimes i reply to do not reply email',\n",
       " 'two cheese truck ran into each other de brie wa everywhere',\n",
       " 'at john krasinski is the shortest of his brother one of them is and the other is',\n",
       " 'if you get a divorce in arkansas is she still your sister',\n",
       " 'in conclusion don t run from awareness run on it and surround yourself with people who are doing the same ourselves black mag black mental health ask dr v',\n",
       " 'what do you think hope will happen with your favorite couple character in the last episode of season share your thought with me',\n",
       " 'human we re not like snake also human mmmm egg',\n",
       " 'dark chocolate stimulates endorphin in brain that bring on feeling of pleasure it also contains serotonin which act a antidepressant',\n",
       " 'you deserve the love you would give to someone else',\n",
       " 'bee can store information in long term memory while they sleep just like human do when we dream',\n",
       " 'faking a smile can trick your brain into thinking you re happy actually boosting your mood',\n",
       " 'yo mama s like the sun you look at her to long you will go blind',\n",
       " 'whats a word that white people can call white people but black people can not call black people dad',\n",
       " 'golfer a i got a set of golf club for my wife golfer b good trade',\n",
       " 'of kid in state juvenile facility have a mental illness disorder let s stop criminalizing behavior caused by health issue',\n",
       " 'what sex position produce the ugliest child ask your mother',\n",
       " 'you think that true love is the only thing that can crush your heart the thing that will take your life and light it up or destroy it',\n",
       " 'anxiety and excessive stress can lead to hair loss',\n",
       " 'you have to eliminate what doesn t work you have to figure out what is important and hold on tight to the thing that matter most',\n",
       " 'don t you think that when people take the hyphen out of a smiley it look like someone with down syndrome',\n",
       " 'stretch ur muscle in bed in the morning it increase blood flow release stress stretching the muscle give u better posture stretch',\n",
       " 'me what doe ama mean friend ask me anything me what doe ama mean',\n",
       " 'what do u call a hilarious mexican herb sillyantro',\n",
       " 'classic song classic car and classic dean covered in grease and drinking warm coffee i love it classic supernatural',\n",
       " 'what s the difference between a caucasian and an asian the cauc',\n",
       " 'what do you call an irishman who bounce off of wall rick o shea',\n",
       " 'what did mick jagger say to the guy who hacked into his dropbox account hey you get off of my cloud',\n",
       " 'beautiful job cast and crew take your bow y all greenleaf',\n",
       " 'sit with that feeling and tolerate it for a sec guy',\n",
       " 'part of your world wa almost cut from the little mermaid',\n",
       " 'when she fart with you there consider that a compliment she is comfortable with you now',\n",
       " 'nyc begin pilot program help teen deal with stress anxiety fear our shero of black mental health chiara de blasio is front and center',\n",
       " 'just got a phone call that my name is trending and being trolled for some awful fake thing it s not true haven t been raided or arrested just sanitizing and self distancing with the rest of the world stay safe everybody',\n",
       " 'you know what they say once you go black you re a single mother',\n",
       " 'it s weird how i can come up with the wittiest thing to say when i m in the shower too bad none of the other guy showering at the gym appreciate my humor',\n",
       " 'two condom walk by a gay bar one say to the other wan na go inside and get shitfaced',\n",
       " 'everyone retweet this video and i ll send you a love letter dm',\n",
       " 'go the extra mile it s never crowded',\n",
       " 'shakespeare and pocahontas were alive at the same time',\n",
       " 'hey grandson what s the name of that german man who make me go crazy alzheimer grandma alzheimer',\n",
       " 'you can t count on pleasing everyone so focus on pleasing the only one that count',\n",
       " 'we enter the world alone and we leave it alone and everything that happens in between we owe it to ourselves to find a little company',\n",
       " 'what do you call a black man flying a plane the pilot',\n",
       " 'how can you tell the inventor of the toothbrush wa from west virginia if he wa from anywhere else it would be called a teethbrush',\n",
       " 'apple cider vinegar is a good toner that help to clear up the scar and acne mark acne scar',\n",
       " 'what did the amputee say to his mom when he learned to ride a bike look ma no hand',\n",
       " 'i punched a feminist today and a she hit the floor she screeched somebody call the cop in other word get some men to help me',\n",
       " 'i wa blocked by the game of throne twitter account because i said i m rooting for the white walker because they re white',\n",
       " 'more plane were destroyed in world war ii than there are plane on earth today',\n",
       " 'duck dynasty guy is right if we baptize all those isi guy iraq will be safe because christian never start war for bullshit reason',\n",
       " 'i accidentally put my wallet in the freezer last night wa a good job really i needed some cold hard cash',\n",
       " 'what do you call an ethiopian with a dog stupid',\n",
       " 'i only drink on day beginning with t tuesday thursday today and tomorrow',\n",
       " 'why do only of men make it to heaven because if they all went it would be hell',\n",
       " 'the average american consumes about pound of cheese every year',\n",
       " 'my muslim wife left me the other day i guess she didn t know what jihad',\n",
       " 'real change involves the loss of power anand giridharadas',\n",
       " 'i googled how to start a wildfire i got match',\n",
       " 'my new girlfriend told me i m terrible in bed i told her it s unfair to make a judgement in le than a minute',\n",
       " 'self praise lead to self destructive',\n",
       " 'my wife just gave birth to a ginger baby we ve shaved it s head and told everyone it ha cancer',\n",
       " 'i want to open a gay poker bar and call it the space of aid',\n",
       " 'a texas man once went to the er with a blood alcohol level of but he hadn t been drinking people suspected he wa a closet drinker for year because he often became unexpectedly drunk until doctor found he had auto brewery syndrome he got drunk whenever he ate carbs',\n",
       " 'a a gay man you don t need cheer leader a friend their duty is to cheer you on even for bad choice a a gay man you need mean friend to keep you on your toe when you make risky bad choice',\n",
       " 'instead of murder suicide i m contemplating the rare suicide murder whereby i jump out a high window and land on my girlfriend',\n",
       " 'what do you call a mexican guy with one rubber toe roberto',\n",
       " 'green tea ha anti inflammatory property to protect the cell membrane and reduces the risk of damage from ultraviolet light skin health',\n",
       " 'the original big bird ha retired from sesame street i m told he wa delicious',\n",
       " 'why did the blonde have a sore belly button because she had a blond boyfriend',\n",
       " 'which branch of the united state military is the most patriotic the air force they re u af',\n",
       " 'angel and demon having a drink together wtf bad idea suck sandwich',\n",
       " 'so many people these day are too judgmental i can tell just by looking at them',\n",
       " 'all that i know is i m breathing and all i can do is keep breathing now',\n",
       " 'the worst pub i ve ever been in wa called the fiddle it wa a vile inn',\n",
       " 'girlfriend promise you won t do anything weird me ok later at the funeral me to the tune of my sharona m m m my condolence',\n",
       " 'my father once told me son you re not an african t american you re an african american t just kidding i m black i don t have a father',\n",
       " 'chooses paper towel instead of the hand dryer right a a tree walk into the bathroom',\n",
       " 'i met a vaping vampire from romania he called himself vlad the inhaler',\n",
       " 'mental health of young black men is a growing concern one way to reach out is to reach in to their world by listening to music together',\n",
       " 'how do you figure out which contestant in a m america pageant is a prostitute look for the one with the sash that say i da ho',\n",
       " 'my iphone just autocorrected the word nigga to nigga like whoa iphone you can t just go around yelling the n word jesus',\n",
       " 'it s cool to be nice to people',\n",
       " 'how do you get rid of a fat ghost exorcise it',\n",
       " 'between hour in the make up chair every day with these genius thank you bill corso and all who worked so hard on this transformation',\n",
       " 'guy always make sure shes happy first cause when she s happy youll be happy',\n",
       " 'are you willing to force the power that be to put the resource back into the black community that s your challenge naesm',\n",
       " 'in the end people will judge you anyway so don t live your life impressing others live your life impressing yourself',\n",
       " 'you re on the other side a the skyline split in two i m mile away from seeing you ed sheeran',\n",
       " 'i don t understand why woman want to be equal when they could be better that show a lack of ambition to me it s no wonder they re paid le',\n",
       " 'i don t like american spelling i don t like color i don t like neighbor and i really don t like colored neighbor',\n",
       " 'i got down on one knee in the middle of a busy restaurant and pulled out the ring the whole place wa in tear marry me and i ll put it back in the grenade',\n",
       " 'i wa going to visit bangkok but then i said phuket rofl',\n",
       " 'getting better with girl and relationship is always tough at first and anything worth having is worth working for stay the course',\n",
       " 'what do you call the argument between two vegan a plant based beef',\n",
       " 'being single is a sign that you re strong enough to wait on what you deserve',\n",
       " 'what do you call a constipated detective no shit sherlock',\n",
       " 'who you are when you re alone is a better indication than who you are when you re in public',\n",
       " 'never underestimate the power of a big heart piglet',\n",
       " 'what do you do when you see a space man park your car man',\n",
       " 'nebraska designated kool aid a the official state soft drink in',\n",
       " 'what doe a dildo and a selfie stick have in common they both have a cunt at the other end',\n",
       " 'henry redcliffe',\n",
       " 'it s only the fifth inning but both the astros and the dodger just left early to beat the traffic',\n",
       " 'welcome to your forty your eyebrow are now bushy enough you can see them without using a mirror',\n",
       " 'i got my wife something special for our anniversary she looked after my down syndrome cousin while i went to the pub with my mate',\n",
       " 'serious question when did the dark web and the normal one switch place',\n",
       " 'i am all about deadtome',\n",
       " 'the only bathroom law i m interested in is one that ban loud sighing',\n",
       " 'to the young death is nothing but a rumor but to the old it s a promise they ve been expecting',\n",
       " 'my wife is refusing to fry any food and is insisting on eating healthier she is turning into a kitchen nazi she keep sticking everything in the oven',\n",
       " 'farting in a packed elevator is wrong on so many level',\n",
       " 'have you traveled internationally where wa your most memorable visit auntie red tweet tea',\n",
       " 'on this previous episode stephan erdman and i talked about approaching woman during the day you ll learn why daytime is the best time to approach how to reframe your association with cold approaching and how to start a conversation by aligning with what she s already thinking',\n",
       " 'use pure aloe vera gel a a pretreatment before shampoo to help in relieving itching and dandruff dandruff hair',\n",
       " 'okay here we go showtime',\n",
       " 'reality is nothing like we hope the reality is at the end of the day more often than not turned inside out and upside down',\n",
       " 'except for my tendency to screech at flying spark i would have made an excellent blacksmith',\n",
       " 'when someone compliment me me i m not sure how to respond to the reverse ball busting that is happening right now',\n",
       " 'me posing cute for a picture mugshot photographer i said stop it',\n",
       " 'wife you act like a child with that phone me child i m a grown as man wife let me see your phone me no snatch phone me mine',\n",
       " 'my wife always accuses me of having a favourite child it s not true i love matthew and not matthew equally',\n",
       " 'i know you can t see this cause you re in it but you can t help her now you ll only make it worse walk away leave her to mend',\n",
       " 'what do you call a redhead with a yeast infection gingerbread',\n",
       " 'me goodnight kid kid goodnight dad me goodnight monster that eats child who are bad wife through radio under the bed goodnight',\n",
       " 'what do you call a muslim flying an airplane a pilot',\n",
       " 'lung cancer is the leading cancer killer across racial and ethnic group but there is a higher rate in black men',\n",
       " 'remember the conversation doesn t stop here we having to keep talking about mental health and breaking the stigma saving u',\n",
       " 'i once had a friend who wa addicted to drinking break fluid but he said he could stop whenever he wanted',\n",
       " 'a baby s laughter can be the most beautiful sound you will ever hear unless it s am and you re home alone and you don t have a baby',\n",
       " 'q what do peroxide blond and black men have in common a they both have black root',\n",
       " 'did you hear about the leper going for the masturbation world record eventually he pulled it off',\n",
       " 'go to my kitchen i understand vi queen sugar',\n",
       " 'what happened to the blind circumcisor he got the sack',\n",
       " 'the two most popular gift woman receive on valentine s day are a box of thing that make her fat and a bouquet of thing she can watch die',\n",
       " 'what s the hardest part of washing a vegetable putting them back in the wheelchair',\n",
       " 'the second world war ended in',\n",
       " 'for the most part we still have the same problem we had we when we were no matter how much we grow older we re still stumbling',\n",
       " 'if jew had a planet i would call it jewpiter',\n",
       " 'stephen king ha a son named joe i m not joking but he is',\n",
       " 'in nearly of all death in black male age were due to homicide dr reese at morehouse med chp m summit',\n",
       " 'choosing team in real life is nothing like it wa in gym class being st pick can be terrifying and being chosen last isn t the worst thing',\n",
       " 'wife in labor i press play on cassette ice cube you can do it wife what the hell me sorry hun ff to saltnpeppa push it',\n",
       " 'don t you know all night i ve been waiting for a girl like you to come around stole my heart',\n",
       " 'the main reason i can t get ahead in life is because the system is set up against people like me who are unmotivated and lazy',\n",
       " 'only company control almost every large food and beverage brand in the world nestle pepsico coca cola unilever danone general mill kellogg s mar associated british food and mondelez',\n",
       " 'affordable great style should not break the bank where possible the line wa created using responsible method and material because we love our mother i have some exciting news to share about this in particular so stay tuned now genx kohl',\n",
       " 'i like joke about the eye the cornea the better',\n",
       " 'what do you call a pile of kitten a meowntain',\n",
       " 'me i don t think these drug are working dog me neither me well at least that genie made you able to talk all those year ago',\n",
       " 'before going to the hairdresser my wife asked me what cut do you think would make me more attractive a fucking power cut wa apparently wa the wrong answer',\n",
       " 'i love when they drop the ball in time square it s a nice reminder of what i did all year',\n",
       " 'killing spider is easy and fulfilling if you imagine them whispering you look fat in those pant',\n",
       " 'which country ha the fastest growing capitol ireland it s dublin every year',\n",
       " 'midnight sky best miley song ever',\n",
       " 'dad what s a lion and a witch doing in your wardrobe me it s narnia business',\n",
       " 'how do you know when you re drowning in milk when it s pasteurise',\n",
       " 'her if you make one more joke about millennials having to rent thing i m leaving you me idk i m not buying it',\n",
       " 'rolled my first joint last night fuck my ankle hurt this morning',\n",
       " 'where is the worst place to hide in a hospital in the icu',\n",
       " 'woman boycott twitter',\n",
       " 'what type of wife always know where her husband is a widow',\n",
       " 'they should have never given you girl fake eyelash this chick just blinked and it sounded like a flock of pigeon took off',\n",
       " 'why did the feminist cross the road to suck my cock',\n",
       " 'my white hot take is that i love the star war movie but i like the mandalorian more',\n",
       " 'headless mannequin are great because they let you see how you ll look wearing a new shirt after you ve been decapitated',\n",
       " 'what s the difference between a police officer and a bullet when a bullet kill someone else you know it s been fired',\n",
       " 'do you ever finish a book and think damn and then that s all you can say because you re speechless trying to process everything thank you delia owen for where the crawdad sing',\n",
       " 'lonely and awkward people are waiting to talk to you on twitter right now',\n",
       " 'how many mexican doe it take to pave a driveway six if you slice them thin enough',\n",
       " 'it a boy i shouted a boy i don t believe it it a boy and with tear streaming down my face i swore i d never visit another thai brothel',\n",
       " 'this video conversation is not to be taken a medical advice and it is for informational purpose only if you or someone you know ha mental symptom that are distressing or causing ailment then please seek professional help from a local licensed provider or emergency room',\n",
       " 'but every time i tell her that i want more she close the door she s not afraid',\n",
       " 'my christian friend told me he doesn t believe in gay marriage he said there should be no such thing a a happy marriage',\n",
       " 'what did the bee say to his wife no on know it s a mister bee',\n",
       " 'okay here we go supernatura i spn family live tweeting',\n",
       " 'just cause you always see my mistake love that line queen sugar',\n",
       " 'compared to white youth blk youth w no prior arrest and the same crime are x more likely to be incarcerated prof waldman chp m summit',\n",
       " 'what if stephen hawking is the real slim shady but we ll never know because he can t stand up',\n",
       " 'when someone love you the way they talk about you is different you feel safe and comfortable',\n",
       " 'teacher alright today we have a speaker to talk about why drug are bad me rollerblade through the door but i m so high i run straight into the wall',\n",
       " 'this is an unbelievable statistic of all statistic are falsely inflated of the time',\n",
       " 'how doe bill clinton get an intern into his office he call her on his sexyphone',\n",
       " 'me headbanging to the radio my barber fuckin stop it',\n",
       " 'one smile can start a friendship one word can end a fight one look can save a relationship one person can change your life',\n",
       " 'my wife found out i wa cheating on her after she found all the letter i wa hiding she got so mad and said she s never gon na play scrabble with me ever again',\n",
       " 'wan na crazy your crazy try killing a fly while carrying on a serious conversation',\n",
       " 'damn girl are your clothes comcast customer because i can see them getting ripped off tonight',\n",
       " 'turn a regular sofa into a sofa bed by simply forgetting your wife s birthday',\n",
       " 'all gay people open this god is a woman',\n",
       " 'bob told his wife i can t work for him anymore after what he said to me wife what did he say bob you re fired',\n",
       " 'no matter what never compare your girlfriend to another woman',\n",
       " 'my wife wear my t shirt around the house sometimes but the minute i put on one of her business suit to mow the lawn i get in trouble',\n",
       " 'getting le than the recommended eight hour of sleep a night can make you more susceptible to intrusive and repetitive thought increasing feeling of anxiety and depression',\n",
       " 'couple therapy me she think i make bad decision wife he traded our car for a skateboard therapist writing note this guy rule',\n",
       " 'yo moma so stupid she climbed over a glass wall to see what wa on the other side',\n",
       " 'ok cool i hear ya all stay tuned',\n",
       " 'webster s defines cliche a starting a speech with webster s defines',\n",
       " 'when i put the left airpod in my left ear on the first try i know it s gon na be a great day',\n",
       " 'squirrel are omnivore in addition to nut they also eat insect and mouse',\n",
       " 'a leading rabbi ha ruled that marijuana is kosher now we know what kid are gon na be doing for the jewish high holiday',\n",
       " 'did you hear about the vietnam veteran who became a sewage worker he s seen some shit',\n",
       " 'i should have predicted this would happen my kid saw kong skull island and now they want their own pet hiddleston',\n",
       " 'get rid of bad breath with yoghurt a few spoonful of natural yoghurt neutralizes halitosis bad breath yoghurt',\n",
       " 'amazon is hiring new employee for corporate and tech role on average the job will offer a total yearly compensation of',\n",
       " 'fitness expert say you build more muscle on rest day than you do on workout day which is good because that s pretty much all i do',\n",
       " 'don t miss kevin and sam sorbo s new movie let there be light it s in theater this weekend and they need our support let there be light',\n",
       " 'i tried telling a joke my friend from baghdad told me unfortunately iraqed it',\n",
       " 'the news is currently that spinning image of a newspaper but it never stop spinning',\n",
       " 'how many gay men doe it take to change a lightbulb ummm forget about the changing the lightbulb honey maybe let s start with changing those curtain',\n",
       " 'sometimes i wake up grumpy but other time i let her sleep in',\n",
       " 'people like to have a hero it make them feel better to think that if they re in the middle of that horror that there s someone special',\n",
       " 'i bet deaf people get really confused when they talk to someone who is applying hand lotion',\n",
       " 'life is like riding a bike to keep your balance you must keep moving',\n",
       " 'i had surgery to change myself from asian to caucasian it wa a real eye opening experience haha',\n",
       " 'maybe the more we try to will ourselves to state of bliss the more confused we get to the point where we don t recognize ourselves',\n",
       " 'it s funny how all the people whining that we need to destroy cancel culture are the one whose point of view minimize and invalidate the experience of other human being',\n",
       " 'if i make you breakfast in bed a simple thank you is all i need not all this how did you get in my house business',\n",
       " 'it a blessing in disguise when your kid look more like your partner than they do you you can distance yourself from them when they embarrass you in public',\n",
       " 'is anyone else listening to that podcast in their car the one with the sobbing woman who say i m not a podcast damn it i m your wife what s wrong with you',\n",
       " 'guy it s simple treat your girl how you would want your dad to treat your mom',\n",
       " 'what do you call a bad mexican restaurant shitpotle',\n",
       " 'what do you call an irish man sitting in his garden paddy o furniture haha',\n",
       " 'which country is filled with very poor singer singapore',\n",
       " 'snack on pine nut or add em to salad single serving of pine nut provides gm protein rich in vit e k niacin magnesium potassium',\n",
       " 'on this episode you re going to learn the biggest frustration that woman have expressed about the men they used to date knowing what these complaint are and why woman find them so unattractive will ensure that you are always the one who is in control of your dating life',\n",
       " 'me i weighed myself before and after i used the bathroom and i wa heavier after wife how m eating pie on the toilet w you re disgusting',\n",
       " 'why did the scarecrow win a nobel prize because he wa outstanding in his field rofl',\n",
       " 'surgery like life is a sport and eventually you ve got to get off the bench and decide which team are you playing for',\n",
       " 'taking down statue isn t going to fix century of systemic oppression violence and hatred that black people have had to endure but it might bring u one small step closer to making all tennessean and visitor to our state feel safe not just the white one',\n",
       " 'just make sure the baby are not hungry cuz the wolf know when they re hungry e nina jay we re in the mist of the holiday season how are you reaching back to help the lgbt youth in your life drop a pic or share a story on how you plan on helping your community',\n",
       " 'this year i m breaking with tradition a little and stuffing my turkey with delusion of grandeur',\n",
       " 'i got an e mail saying at google earth we can read map backwards and i thought that s just spam',\n",
       " 'have you ever heard of the lady who wa accused of being the infamous quilted killer she s innocent until proven quilty',\n",
       " 'are you really happy or just really comfortable this is definitely a question worth asking yourself from time to time',\n",
       " 'today i saw blind people fighting i shouted i support the one with the knife they both ran away',\n",
       " 'i wa at the vet with my cat cat meow me i know that s why i brought you here',\n",
       " 'my heart is with everyone in tennessee who ha been affected by the tornado sending you my love and prayer',\n",
       " 'if it were a country california would be the fifth richest in the world and the th most populated a of',\n",
       " 'in three word you can sum up everything there is to know about life it go on',\n",
       " 'i have a very specific kind of ocd where i like to buy a dozen donut and a dozen donut hole and then reunite them',\n",
       " 'i m trying so hard to let you off the hook i m trying to make it right what i did to you can t you see that',\n",
       " 'why are african american so good at sport because of hard work and dedication',\n",
       " 'do all black people have a problem with slavery or just mine',\n",
       " 'what would you find on a german fire truck ladder hosen',\n",
       " 'this morning my kitten wa riding around the house on my dog s back like he wa on a horse i d post a video of it but i made it up',\n",
       " 'i wa recently burgled they took my life preserver my aed and my portable oxygen tank it wa my entire life saving',\n",
       " 'so this week on the podcast we received a letter from a young queer person concerned with life after death and how her queerness fit into all of that so now we re curious how have y all navigate your relationship with death and the afterlife a a queer person',\n",
       " 'just realized i ve been calling somebody ty who wa just signing his text thank you im',\n",
       " 'what do you call a kinky dinosaur a doyouhaveasoreass',\n",
       " 'who decided to call them pallbearer and not dead lifter',\n",
       " 'keanu reef wa once sued for assault by a paparazzo who slipped while taking his picture it took month for the case to go to trial and just hour for the jury to dismiss it',\n",
       " 'sometimes the past is something you just can t let go of and sometimes the past is something we ll do anything to forget',\n",
       " 'what do you call child born in brothel whorephans',\n",
       " 'two nun walking through the park were confronted by a flasher the year old nun immediately had a stroke the younger one didn t touch it',\n",
       " 'mugger pull a knife mugger gim me your money me well this night took a sharp turn later doctor it s a record for amount of stab',\n",
       " 'sincerity can make small deed gigantic',\n",
       " 'how did s german men pick up jewish girl with a broom and a dustpan',\n",
       " 'you owe no one an apology for being gay they owe you an apology for being homophobic',\n",
       " 'dyk excessive caregiving isn t healthy and can lead to mental and emotional health issue for black woman how can we break free of this',\n",
       " 'some plant can hear bee coming and respond by making sweeter nectar',\n",
       " 'hell hath no fury like your kid catching you throwing away anything ever i smuggle out broken crayon like a mexican drug lord',\n",
       " 'what do you call a group of confused spanish speaking racist the qu qu qu',\n",
       " 'in a man paid for a golden egg at a sale it turned out to be one of only a few original faberge egg still known to exist and wa once owned by russia s tsar alexander iii it wa seized during the russian revolution and wa worth million',\n",
       " 'do not be passive about this work it s about saving life be bold be daring you are our future naesm',\n",
       " 'protip buy your toddler a king sized bed you re going to be spending a lot of time laying in that bed so you might a well be comfortable',\n",
       " 'when i am with you there s no place i d rather be clean bandit ft jess glynne',\n",
       " 'when people ask if the carpet match the drape i say it s all hardwood baby or maybe laminate i ll put you in touch with my designer',\n",
       " 'me gasp santa what are you doing here santa oh ho ho i wa just my mom turning on light you get the fuck out of here santa linda he deserves to know who his dad is',\n",
       " 'my girlfriend complained that i treat her like a slave so i sold her',\n",
       " 'canada s lake river stream and wetland hold of the world s freshwater',\n",
       " 'don t buy whitening toothpaste it say guaranteed whiteness in day day have come and gone and i am still asian',\n",
       " 'what did the muslim terminator say allah be back',\n",
       " 'what do you call a black canadian just canadian',\n",
       " 'my epileptic brother won the dancing competition at our local pub last night he wa only walking across the dance floor to get a pint',\n",
       " 'you know how annoying it is when your toddler continually asks stupid question that s how google feel about all of u',\n",
       " 'in job interview and what would you say is your best quality i silently stand and start moving chair to make room to do the split',\n",
       " 'unusual honesty is not the same old b you hear people saying when they first meet it is talking to the person like they re a close friend',\n",
       " 'to the dad out there today and all day may your docker be wrinkle free',\n",
       " 'don t make fun of anyone trying to better themselves',\n",
       " 'the canadian election is happening and it s getting ugly i just saw two people supporting opposing party arguing on facebook and they both forgot to say please and thank you',\n",
       " 'have you seen the passion of the christ spoiler alert he dy in the end rofl',\n",
       " 'harry truman went from being a senator to the vice president to the president to dropping the first atomic bomb all within week',\n",
       " 'movie pitch millenials buy a house that turn out to be haunted but they re just grateful they were able to afford something in a good school district',\n",
       " 'the only thing keeping me from starting my own doomsday sex cult is that i look terrible in sunglass',\n",
       " 'orca can teach themselves how to communicate with dolphin in california researcher discovered that orca living beside dolphin adapted their vocalization by adding in more click and whistle to match the dolphin language',\n",
       " 'what s the easiest animal to shoot fish because they re always found in school',\n",
       " 'i wan na be the reason you get out of bed in the morning even if it is to make sure the door is locked',\n",
       " 'me when a normal bug is on me eww me when a ladybug is on me evening ma am',\n",
       " 'life can be tough sometimes but so are you chin up you got this',\n",
       " 'if life s so hard already then why do we bring so much trouble on ourselves what s up with the need to hit the self destruct button',\n",
       " 'by waving the flag she became an icon for the gay community and a subsequent target for state violence after this there wa a week long anti gay crackdown where hegazi wa the only woman arrested and she remained in detention for month',\n",
       " 'how do you know if a black woman is pregnant stick a banana up her cooter if it come out half eaten you ve got a monkey on the way',\n",
       " 'date contain oil calcium sulphur iron potassium phosphorous manganese copper and magnesium health',\n",
       " 'maybe i never learned to commit but i m here now and i m staying cause i m gon na fight to make sure you know i m committed to this thing',\n",
       " 'it s not about following your heart and it s not about keeping your promise it s about security the notebook',\n",
       " 'i learn from the mistake made by people who took my advice',\n",
       " 'there are two type of men those who ve had their dick sucked by a tranny those who don t know they have',\n",
       " 'i m one of those lucky people who can eat whatever they want and get a huge gut',\n",
       " 'what did barack obama say when he dropped his shell at the beach oh no michelle corny',\n",
       " 'in the decade i ve been using usb connector i don t think i have ever put one in properly without having to flip it over not one time',\n",
       " 'yo mama so lazy she think a two income family is where yo daddy ha two job',\n",
       " 'i found lying on the street i thought what would jesus do so i turned it into wine',\n",
       " 'doing prison visitation death row inmate i am so scared of dying me i know exactly what you re going through inmate how could you possibly me show phone with text from my wife saying we need to talk later inmate oh wow i m actually kind of glad i m in here now',\n",
       " 'straight outta compton by nwa wa chosen for preservation by the library of congress a being culturally historically or artistically significant',\n",
       " 'the nobel foundation rule prohibit the public or private disclosure of nominee information until year after the prize ha been awarded',\n",
       " 'good thing girl started uploading picture next to a pool with the caption summer is finally here or we wouldn t have known it s summer',\n",
       " 'today i want to honor the indigenous people of this land hopefully one day they ll have true independence stolen land',\n",
       " 'got asked by two thai girl if i wanted a threesome they said it would be like winning the lottery to my horror they were right we had six matching ball',\n",
       " 'if living without sport ha taught me anything it s that i could live without woman sport forever',\n",
       " 'hater will gladly broadcast your failure but quietly whisper your success',\n",
       " 'doing what you need to do to get the girl you want come down to facing your fear fear of rejection embarrassment and failure so be fearless',\n",
       " 'how do you say constipated in german farfrompoopin',\n",
       " 'tyler wilmore of delaware swim team finish st in free black kid swim nbhcsm black kid swimcary',\n",
       " 'the average child learns the truth about santa at the age of',\n",
       " 'at the gym him hey man could you spot me me sure what do you need buck him uhh me just kidding i have no money',\n",
       " 'a woman wa taking a shower when the doorbell rang it s the blind man he called that s ok she thought so she quickly ran downstairs naked to open the door nice tit he said now where do you want those blind',\n",
       " 'so i m gay and single doe that make me homolone',\n",
       " 'what do you call a sad strawberry a blueberry corny',\n",
       " 'the best part of being a ninja would be being able to use smoke bomb to assassinate someone or get away from an awkward conversation',\n",
       " 'i just came out of my first relationship and it wa toxic my question is how do i move on and find not relapse into another unhealthy relationship auntie red tweet tea',\n",
       " 'wow amara is growing quickly could get interesting thanks for watching everyone next week baby action ackles spn fami iy',\n",
       " 'why is islam called the religion of peace after you leave the religion you rest in peace',\n",
       " 'how much doe it cost to buy a large singing group a choir ok fine how much doe it cost to acquire a large singing group',\n",
       " 'i asked my mom if by any chance i wa adopted she said why would we choose you',\n",
       " 'what s up with black people they re not black and they re not people',\n",
       " 'there are very few thing in life i get offended about but getting a call from a private number is certainly one of them',\n",
       " 'not good with girl not all guy are born seducer but any man can learn these technique in fact most coach and teacher learned it just like you are doing',\n",
       " 'i had to take the battery out of the carbon monoxide detector last night the loud beeping wa giving me a headache and made me feel dizzy',\n",
       " 'what do you say when your lesbian daughter brings home her girlfriend are you going to be staying for dinner or eating out',\n",
       " 'ain t no sandwich when she s gone',\n",
       " 'i saw my wife slightly drunk yelling at the tv don t go in there don t go in the church you moron she s watching our wedding video again',\n",
       " 'doctor looking at my x ray doctor this is exactly what i wa afraid of me what doctor skeleton',\n",
       " 'u are one of ireland s most successful band or according to their tax return one of netherlands least successful hardware store owner',\n",
       " 'what s a cannibal s favourite game swallow the leader',\n",
       " 'stranger thing capture the s so well there s even a scene of me not getting laid in college',\n",
       " 'there are stage of grief they look different on all of u but there are always denial anger bargaining depression acceptance',\n",
       " 'people with adhd have the ability to hyper focus on thing they find interesting according to expert however it can t be reliably controlled and can make switching task even harder',\n",
       " 'wayyyyy too many woman are out here trying to fix men they didn t break',\n",
       " 'it s normal for married couple to fight the trick is for you and your spouse to find a couple you can easily beat up',\n",
       " 'what do you call riot police in germany kraut control',\n",
       " 'you guy keep talking about drinking alcohol out of a brown bag how doe it work mine keep leaking like crazy when i pour it in there',\n",
       " 'especially when i started getting very harsh comment from him on my youtube video where he would tell people that me performing poetry wa a biddah and i wa leading youth astray',\n",
       " 'everybody love the thing you do from the way you talk to the way you move adele',\n",
       " 'every time spellcheck corrects doe to dy for a split second i panic that the subject of the sentence that ha passed away',\n",
       " 'an astronaut didn t comprehend why he couldn t take off his spacesuit on the moon guess he didn t understand the gravity of the situation',\n",
       " 'day hath september same for some month that i can t remember a bunch of the month have they need a better rhyme that rhyme is dumb',\n",
       " 'lady take him with you shopping and ask him to choose some outfit which he would like you to wear',\n",
       " 'never been to a cotillion this wa all new to me green leaf',\n",
       " 'the average adult silverback gorilla can deadlift lb they re approximately to time stronger than an average human male',\n",
       " 'wasting your life fearing death is to die now auntie red drop knowledge about living for the here and now and doing our best not to fixate on the inevitable looking back on ya life what are some way you ve focus on living in the now share ya tip',\n",
       " 'i told my friend that jewish people call god by a different name he said no way to which i replied yahweh',\n",
       " 'is there actually a correlation between the time between thunder and lightning and the distance of the storm or is that just something all of our dad told u',\n",
       " 'a man walk into a doctor office what seems to be the problem asks the doc it s um well i have five penis reply the man blimey say the doctor how do your trouser fit like a glove',\n",
       " 'why are black people palm white because there s a little bit of good in everyone',\n",
       " 'me i m so excited to get a good night sleep tonight brain actually how about we recap all the thing you screwed up today',\n",
       " 'kiwi improves eyesight it s rich in lutein which is an antioxidant that protects the vision eye health fruit',\n",
       " 'everybody changed their job title to sound le threatening but not landlord those little lord still lordin those land',\n",
       " 'me can you make sure i come back a something other than a human dalai lama i am not in charge of that me slipping him i m tired of bathing',\n",
       " 'who can drink litre of petrol and not become ill jerry can',\n",
       " 'bruce in finding nemo wa named after the animatronic great white shark used in the movie jaw',\n",
       " 'here in california catholic use non fat high fiber communion wafer they call them i can t believe it s not jesus',\n",
       " 'bird in a birdbath chirp chirp chirp bird in a puddle on the ground you fucking sellout',\n",
       " 'breaking news husband murder wife with cancer i ve heard of a gun or a knife but never cancer impressive',\n",
       " 'accidentally used my gf s razor and now i feel fat and i m pretty pissed about something you guy did year ago',\n",
       " 'if a group of dolphin is called a pod and a group of crow is called a murder what is a group of small child called annoying',\n",
       " 'why did god make fart smell so that deaf people could enjoy them too',\n",
       " 'you the bomb no you the bomb in america a compliment in the middle east an argument',\n",
       " 'i call my girlfriend dumbledore she s a head master',\n",
       " 'can anyone help me find the movie citizen i m not losing my mind i m giving it away',\n",
       " 'my hot take is that a lot of movie everyone s raving about are meh but have an amazing last minute and that s what you leave remembering',\n",
       " 'research from harvard university found that having no friend could be a deadly a smoking',\n",
       " 'picked up a hitchhiker last night he said thanks how do you know i m not a serial killer i replied the chance of two serial killer being in the same car are astronomical',\n",
       " 'my girlfriend in college left me for another woman i completely misunderstood her when she said she wa going to study a broad',\n",
       " 'why is a lesbian tea green slimy and give you a great buzz because it s algae bee tea',\n",
       " 'last weekend my dad caught me smoking a cigarette and for punishment made me smoke until i puked this weekend i made sure he caught me in bed with my girlfriend',\n",
       " 'a scammer named emmanuel nwude once sold a fake airport to an international bank for million between and',\n",
       " 'welp time to watch eastern promise',\n",
       " 'water cooler look like you had a wild weekend how d you get the scratch flash back to me bathing my cat uh this chick bro yeah',\n",
       " 'why don t feminist work cash register they can t make change',\n",
       " 'first day a a undercover police officer drug dealer are you a cop me absolutely not why drug dealer you tried to buy marijuana by calling it wacky tabacky me oh okay good i thought it wa cause you saw my squad car parked outside drug dealer what me what',\n",
       " 'my landlord say he need to come talk to me about how high my heating bill is i told him my door is always open',\n",
       " 'for example black mother have identified anxiety and fear over the safety of their kid a the stressor in their life what can be done',\n",
       " 'jackie chan is actually a classically trained opera singer',\n",
       " 'my friend asked me how i got so good at guitar i told him i m use to fingering minor',\n",
       " 'why wa the wife worried that her husband wa a light drinker every night he d go out and drink until it wa light',\n",
       " 'if you want something you ve never had be prepared to do something you ve never done',\n",
       " 'what do you call a caveman s fart a blast from the past',\n",
       " 'welcome to probonoasl s deaf awareness month celebratory educational series this thread will be the hub for all happening this month each week will have a special topic and series of guest for each day of the week',\n",
       " 'i m making a film about emos i really need to stop saying cut at the end of each scene',\n",
       " 'last night i dreamt i wa a muffler it wa exhausting',\n",
       " 'out of doctor recommended for child to drink water instead of soda that doctor life in flint michigan',\n",
       " 'a priest and a rabbi are walking down the street an they see a young boy the priest say you want to screw him the rabbi say out of what',\n",
       " 'i ve been giving out chance every time and all you do is let me down taylor swift',\n",
       " 'i use a wheelchair whenever i m at a job interview and they ask me what my greatest weakness is i always want to say stair',\n",
       " 'date i like guy who are mysterious me afraid she may have learned my horrible secret haha isn t it great that neither of u ha ever made love to a snowman',\n",
       " 'not gon na lie the steve kerr michael jordan fight sound kinda hot',\n",
       " 'what s the proper way to pronounce mormon the second m is silent',\n",
       " 'why is italy shaped like a boot well can t fit that much shit in a sneaker',\n",
       " 'billy west who voice philip j fry on futurama intentionally made fry s voice close to his natural voice for increased job security it would be more difficult to replace him',\n",
       " 'notice due to overwhelming political pressure cracker barrel will now be known a caucasian barrel',\n",
       " 'you know it s time to move on when she develops an immunity to rohypnol',\n",
       " 'la croix taste like orange crush that gave up on it dream and got a job at a car dealership',\n",
       " 'i ve been writing a joke about the white black and asian but it s a bit racey',\n",
       " 'black people have thing that are white their eyeball their teeth and their master',\n",
       " 'we shot this entire scene in an actual year old barn that wa still being used for livestock it smelled lovely realistic film making',\n",
       " 'i ve heard seven cancer joke today if i hear tumor it s gon na benign',\n",
       " 'i imagine the overwhelming feeling of freedom a prisoner feel when they escape from jail is a lot like what i feel when we drop the kid off with their grandparent',\n",
       " 'what did the mexican say to the italian que pasta',\n",
       " 'job interview bos what s your greatest strength me i have a booty that won t quit bos how s the rest of you me very noncommittal',\n",
       " 'the lion king is the best selling vhs tape of all time',\n",
       " 'where did the mexican man hide when robber entered his home hispanic room',\n",
       " 'my wife ha threatened to leave me because of my obsession with horoscope it s taurus apart',\n",
       " 'how doe a muslim close a door islam it',\n",
       " 'when i ship something to a small town the address is always like happy sun crescent when i ship something to a big city the address is always like needle road widdow maker building north of the badlands buzzer ask for the reaper',\n",
       " 'what s the difference between a transformer robot and a transgender person one is living in a spaceship and one is living a lie',\n",
       " 'i don t know who need to hear this but being gay is a blessing',\n",
       " 'by design many casino avoid forcing patron to make right angle turn a doing so force u to call upon the decision making part of the brain the carpet tend to be ugly and disorienting a well so you re more inclined to look up',\n",
       " 'maxim model francoise boufhal wa my guest on a previous episode where she shared what it s like to be a beautiful woman who constantly get hit on why she friend zone nice guy and why she go out with guy who aren t good looking and even older men who aren t nice to her',\n",
       " 'listen to your instinct your gut is always right it may be a little bloated sometimes but it s right',\n",
       " 'i just got a new job at a gay magazine i m a poofreader',\n",
       " 'i won million on the lottery this weekend so i decided to donate a quarter of it to charity now i have',\n",
       " 'today i saw a little boy wearing rag sitting on a curb i said awww are you an orphan he said yes what gave me away i said your parent',\n",
       " 'happiness is a common feeling rare to many of u are you happy a a gay man like truly happy deep down your soul let s get talking',\n",
       " 'when talking to her ask open question not closed open question start with how why who what closed question are one she can answer with just yes or no',\n",
       " 'please follow u for update on where we are providing access and feel free to tag u this account a a point of contact for folk looking for access to blm event and other social justice action',\n",
       " 'i told my kid that at their age i had to watch vhs tape on school safety and they said what s school safety',\n",
       " 'what do you call a woman on a cruise ship in mexico using the diving board at the pool a broad abroad on a board aboard',\n",
       " 'the horse favored to win the kentucky derby had to pull out of the race apparently someone dug up some of his homophobic tweet',\n",
       " 'about one in eight american eat pizza on any given day',\n",
       " 'wife please come out of there so we can talk me from cardboard box i m sorry come out of where wife sigh please exit the spacecraft',\n",
       " 'got fired from the wonka factory because i refused to let that hack name the result of eight year of intensive nougat science a rim tim timbly jimbly bar',\n",
       " 'this is the future of the world where sustainability meet the globalization and inter connectivity of tomorrow so that more people can benefit from israel and jewish national fund jnfnc powered by jnf love grows in israel',\n",
       " 'people overcome adversity all the time look at beethoven they told him he wa deaf but did he listen',\n",
       " 'george and amal i couldn t agree with you more i am joining force with you and will match your donation to march for our life these inspiring young people remind me of the freedom rider of the s who also said we ve had enough and our voice will be heard',\n",
       " 'sweet potato r rich in beta carotene help balance skin s ph to combat dryness promotes cell turnover health skin potato',\n",
       " 'the word photography come from two greek word that mean writing with light',\n",
       " 'on october st charles darwin wrote in his journal i am very poorly today and very stupid and hate everybody and everything',\n",
       " 'while roald dahl wa a student the nearby cadbury chocolate factory would occasionally send box of new chocolate to his school for the student to try it s believed that this likely inspired him to write his third child s book charlie and the chocolate factory',\n",
       " 'america is a country where half the money is spent buying food and the other half is spent trying to lose weight fucking idiot',\n",
       " 'me herman melville wasn t appreciated until he died writer thanks that mean a lot me in my head i need to make my threat clearer',\n",
       " 'nevermind i ll find someone like you adele',\n",
       " 'what s the difference between a deaf dog and a one night stand the one never come when he s called and the other never call after he come',\n",
       " 'one of my favorite way to warm up on a cold day is by having an intense panic attack',\n",
       " 'the u government once set a bunch of beer next to an atomic blast to see if it would still be drinkable after turn out in the event of a nuclear war beer is still safe to drink',\n",
       " 'watching the olympics i could probably do that if i practiced watching auctioneer wow i could never talk that fast in a million year',\n",
       " 'couple who poke innocent fun at each other tend to have happier and stronger relationship according to researcher',\n",
       " 'abulia a complete inability to make decision',\n",
       " 'i think my girlfriend would be a great presidential candidate because she s so awesome at bringing up shit from the past',\n",
       " 'you know you re watching star war with catholic when every time you hear may the force be with you you hear and also with you',\n",
       " 'kid mom some kid is calling me gay mama hit him in the face kid i cant mom why kid cause he s so cute',\n",
       " 'people with stronger friendship are better able to communicate strictly through facial expression',\n",
       " 'what is a polish person s favorite weapon a warsaw',\n",
       " 'my dad you ll take care of me when i get older right me thinking about when i wa little and he used to scrub the shampoo into my hair too hard we ll see',\n",
       " 'why are there no transvestite in space because there is zero drag',\n",
       " 'just seen a burglar kicking his own door in i asked what are you doing he said working from home',\n",
       " 'we are very grateful to jnf for sponsoring our work gedeon dagan professor emeritus at tel aviv university powered by jnf love grows in israel water series',\n",
       " 'today and every day we celebrate the innovation talent and resilience of black trans gnc people no matter who try to erase our community know that you are loved cherished and valued happy trans day of visibility from the okra project',\n",
       " 'what do u call a gay dinosaur a mega sore as',\n",
       " 'making the arrangement for my wife s funeral is tough she keep asking what i m doing',\n",
       " 'my girlfriend period is on my birthday why doe she always have to be so anal about everything',\n",
       " 'you can t have a relationship without fight but you can make a relationship worth the fight',\n",
       " 'when he filmed superbad christopher mintz plasse wa just year old so his mom had to be on set for his sex scene a mclovin',\n",
       " 'jupiter s outermost moon hasn t been seen since it wa discovered in it s currently considered lost',\n",
       " 'to people like jk rowling i have a serious question where are all of these hypothetical bathroom attack from trans woman',\n",
       " 'what wa your best pride experience wa it different from today s time auntie red tweet tea',\n",
       " 'george lucas pitched the idea of indiana jones to steven spielberg while they were building a sandcastle together in hawaii',\n",
       " 'guy come home with a flower bouquet guess i ll have to spread my leg now say the wife why don t you have a vase the husband reply',\n",
       " 'i yelled cow at a woman on a bike a she rode by she looked at me gave me the finger and turned back around and promptly plowed her bike into the cow well i tried',\n",
       " 'people with the highest iq are le likely to have child than people with the lowest iq',\n",
       " 'me yes i d like the mexican massage masseuse the what me hand him taco seasoning and sour cream masseuse me let s go chop chop',\n",
       " 'dude hey bro dude yeah bro dude can you pas me that pamphlet dude brochure',\n",
       " 'many people keep mint flavored product or even mint oil with them to avoid nausea also rub some mint oil on your forehead for headache',\n",
       " 'the worst part about working for the department of unemployment is when you get fired you still have to show up the next day',\n",
       " 'i wished i loved anything a much a white people love saying gracias at mexican restaurant',\n",
       " 'god remove some people from your life to protect you don t run after them',\n",
       " 'god put you here for a reason your purpose will find you when it come embrace it don t reject it',\n",
       " 'i owned a wife beater once i can t believe i let someone else have all the fun haha',\n",
       " 'god bless every firefighter and their family fighting week straight still going imagine their exhaustion thomas fire',\n",
       " 'people come in and go that s life',\n",
       " 'tb of mayonnaise provide percent of the daily required intake of vitamin k which is essential for blood to clot properly',\n",
       " 'i m organising a charity ball next week for people who struggle to reach orgasm just let me know if you can t come',\n",
       " 'the word literally ha been used figuratively for hundred of year charlotte bronte jane austen mark twain and charles dickens have all used it for hyperbole',\n",
       " 'what do you call an airplane that fly backwards a receding airline corny',\n",
       " 'sometimes at night i peek my head into my child s room and say to myself man i am so blessed that they re sleeping right now',\n",
       " 'bee are the only insect in the world that produce something human can actually eat',\n",
       " 'i made a new app for muslim wrestler islam',\n",
       " 'all nicety aside i need a soulmate not fuck boy someone i can forge into the future with someone i can challenge my potential talent with someone who is loving in bed and in public i m ready to find love again',\n",
       " 'me did you hear that amazon ha a new service where they ll be delivering christmas tree wife oh really that s cool me they re calling it amazon pine wife i want a divorce',\n",
       " 'a woman complained to hr that a coworker wa always complimenting how nice her hair smell hr why is that a problem employee he s a midget',\n",
       " 'i never chase a man i always go for the one who are too fat to run',\n",
       " 'i ordered my dream vintage lakers tee and it say delivered yesterday but it is no where to be found doe usps ever mark a package a delivered before it s actually delivered',\n",
       " 'i hold the door open for people because i m courteous and also because i like to make them walk faster',\n",
       " 'your life is a gift accept it no matter how screwed up or painful it seems to be',\n",
       " 'any fool can know the point is to understand',\n",
       " 'what do you call a monkey with a stick of dynamite up his as a ba boom rofl',\n",
       " 'oooh lovely jehovas witness i said a i answered the door come inside and sit down while i put the kettle on you don t have to do that they said i do if i m going to pour boiling water over you',\n",
       " 'what do you call a waffle on a california beach a sandy eggo',\n",
       " 'tokyo is very efficient when it come to reducing waste whatever can t be recycled is incinerated the exhaust gas go through an extensive treatment process to reduce it environmental impact then the leftover ash is used to make clay for cement',\n",
       " 'my dad thought it would be a good idea to show my girlfriend my baby photo you haven t changed at all she laughed that s enough of the naked one please i told him',\n",
       " 'the okra project is in search of a black trans gnc chef to lead the okra academy this chef will teach other black trans folk how to cook and expand their employment opps and guess what you don t have to be in nyc we re happy to fly you to u interested dm u asap thread',\n",
       " 'what s the difference between mashed potato and pea soup anyone can mash potato',\n",
       " 'your soul is attracted to people the same way flower are attracted to the sun surround yourself only with those who want to see you grow',\n",
       " 'so grateful i grew up in the s when dick pic had to be developed at the drug store by a guy named jim',\n",
       " 'ok don t let her know ur jesus girl meet my dad they shake hand dad stand up from wheelchair dad it s a miracle jesus facepalm',\n",
       " 'i m buying a sofa and the option are poly fill v feather down help me',\n",
       " 'just found out my wife ha cootie i m headed to the clinic to get tested so many emotion right now',\n",
       " 'the year is president cooterpie ha declared war on that island of plastic garbage in the pacific and the stone are still touring',\n",
       " 'flamin hot cheetos were invented by richard montanez a janitor at frito lay who sprinkled chili powder on regular cheetos that hadn t been dusted after creating a new product he swiftly rose up the rank eventually becoming an executive at pepsico',\n",
       " 'there is no crueler creature than a gay man kennedy warner',\n",
       " 'teamfollowback retweet if i dont folow you back immediately',\n",
       " 'people who write could of instead of could have should of listened more in english class',\n",
       " 'standing in solidarity with the black community a community that the lgbt community is deeply rooted in we will be taking part in black out tuesday today we stand against racism and will be taking this time to reflect support and consider the change that need to be made',\n",
       " 'santa know if i ve been bad or good so he and my browser history have a lot in common',\n",
       " 'i m headed out now to the record store to buy the raconteur new album then i m going to the pharmacy for a chocolate malt i live in a small town in',\n",
       " 'marriage is all about compromise my wife told me i need to stop eating so much mcdonalds so i switched over to burger king',\n",
       " 'i like to say toodles when i leave work so my coworkers know the workplace alpha male ha just left',\n",
       " 'i got arrested for killing a black man they charged me with impersonating a police officer',\n",
       " 'in the middle of difficulty lie ease',\n",
       " 'i think it s time we drop the charade and stop pretending rhode island is real',\n",
       " 'crap why is dean always gettin beat to hell supernatura i baby',\n",
       " 'phone call wife you want the white or the black me the black and if she wasn t tablet shopping this would be awkward',\n",
       " 'i have a friend who everyone know is gay but he won t admit it he ll swallow everything but his pride',\n",
       " 'add value to your worth never settle for le respect yourself',\n",
       " 'everyone ha a story left untold so never judge someone a if you know their entire life story because the truth is you probably don t',\n",
       " 'eventually the entire written english language will be taken over by emoticon teenage girl will bring u back to egyptian hieroglyphic',\n",
       " 'kiwi fruit contains more vitamin c than orange and is especially effective against respiratory health problem',\n",
       " 'me rolling over for the th time in the middle of the night the monster under my bed will you shut the fuck up',\n",
       " 'i recently went on shark tank and did terribly because i thought it wa dancing with the star',\n",
       " 'the benefit of drinking more water include having to go to the bathroom more where you can be on your phone in peace and that s it',\n",
       " 'what bird never know the lyric to a song a hummingbird',\n",
       " 'everybody s a gangster until they get punched in the mouth mike tyson and after that everybody s a gangthter',\n",
       " 'after outkast told u to shake it like a polaroid picture polaroid released a statement warning people shaking or waving can actually damage the image',\n",
       " 'i secretly bought some new trouser without telling my girlfriend do you think chino',\n",
       " 'stick bug wife we can t seem to get pregnant doc well we ran numerous test stick bug wife and doc your husband s an actual stick',\n",
       " 'the loudest word ever shouted wa quiet',\n",
       " 'can someone recommend a great at home online workout where i just need some hand weight and a mat also i have a treadmill not like band and a trampoline please i am only one human woman',\n",
       " 'those who criticize our generation seem to forget who raised it',\n",
       " 'feeling for all the fire evacuee and responder having been thru it a few time it s so unsettling even when you get to safety praying for peace be still with those santa ana wind',\n",
       " 'don t get overprotective but still be protective enough to show you care',\n",
       " 'sometimes i saunter in front of the tattoo parlor just to make the artist mouth water look at how much skin i have it would be like doing a mural i know what you want you dirty dog',\n",
       " 'i told my chef wife that if she were to leave me please leave me one of your incredible cupcake she replied i won t dessert you',\n",
       " 'what do you call an african american in a piece suit the defendant',\n",
       " 'the oldest child in family tend to have the highest iq according to research published in the journal of human resource',\n",
       " 'ep we discus finding the courage to go to therapy being accessible a a therapist navigating family and coming out exit strategy for unsafe family situation using the five sens to boost healing the importance of presenting authentically and thought on robyn whitney',\n",
       " 'what doe a gay horse eat haaaaay',\n",
       " 'looking for a way to help those affected by hurricane dorian text redcross to to make an automatic donation to the redcross',\n",
       " 'common sense is like deodorant those who need it never use it',\n",
       " 'niacin a specific b vitamin help skin look more plump younger looking soothes dry and irritated skin in a short time',\n",
       " 'call your blonde friend your black friend your asian friend every cellphone ad ever',\n",
       " 'nobody love you baby the way i do fireproof',\n",
       " 'don t compare whale to feminist it s very offensive to whale',\n",
       " 'if i had a time machine i would go back to certain conversation with my wife to see if she really said the thing she s told me i forgot',\n",
       " 'big thank you to the owner of goodman septic tank svc and blair brother inc of suffolk va for funding swim scholarship black kid swim',\n",
       " 'a few month ago while in israel i met a man named ofer aloni he shared a moving story about the loss of his daughter and a song he co wrote about her with thekin it s called the power to choose life please take a listen http t co gwiivdcfbf',\n",
       " 'what do you call a homeless man a hobo sapien',\n",
       " 'the way i see it it doesn t matter how you got here you re either in this thing or you re not there is no in between bomb squad guy',\n",
       " 'i thought my son would like that i bought him a trampoline but oh no he just want to sit and cry in his wheelchair',\n",
       " 'genie you sure most people would end world hunger or something me going in for my rd hug i m sure',\n",
       " 'in a room with people there s a chance of at least two people having the same birthday in a room with people there s a chance',\n",
       " 'why are there no black people at the north pole because there is nothing to steal there',\n",
       " 'how do you blindfold an asian person you put floss over his eye',\n",
       " 'what do you call a mushroom who strongly belief in radical islamism a fungimentalist',\n",
       " 'me some people see that traffic signal a a don t walk sign but i m more of an optimist i see it a an open hand inviting me to run across the street and give it a high five cop handing me a jaywalking ticket let s also check this guy for drug',\n",
       " 'sometimes i think scientology wa secretly started by mormon so they could have a religion to make fun of',\n",
       " 'finally my winter fat is gone now i have spring roll',\n",
       " 'if there are three gay guy in a bath and a lump of cum float to the surface what do they say who farted',\n",
       " 'my favorite part of true crime podcasts is the incredible suspense i feel when i m waiting for the meundies promo code',\n",
       " 'what are your best resource or most recommended group listservs for woman of color in sale and brand partnership',\n",
       " 'the blue whale ejaculate over gallon of sperm when mating only enters the female and you always wondered why the sea tasted salty',\n",
       " 'what s the difference between an asian and a dumb white girl the asian try to get the a but the white girl try to get the d',\n",
       " 'me jimmy falon very cool very laughing way to hard that is incredible really wow',\n",
       " 'why did the hippie stick his penis in the chick pea because he wa a hummusexual',\n",
       " 'me it hurt when i do this doctor sit on a table me no share a room with the man my wife is sleeping with the silence is a new pain',\n",
       " 'it s like we re going on a train that s going mile an hour it d be so nice to get off to stand on the platform for just a minute',\n",
       " 'context matter and can help u see thing for what they are not just the way we re told to see them but it can come at a cost',\n",
       " 'when humidity is at the air can not hold any more water vapor a humidity increase the harder it becomes for your body s sweat to evaporate efficiently causing the temperature to feel hotter',\n",
       " 'dad on deathbed i i see the light who left that on',\n",
       " 'only one plane wa allowed to take off after all others were grounded on september th it wa a plane carrying antivenin to a man who wa bitten by a highly venomous snake the plane wa escorted by two fighter jet',\n",
       " 'it s exciting that the la dodger will be playing in the world series unless of course their pilot get picked up',\n",
       " 'my wife told me i wa immature so i told her to get out of my fort',\n",
       " 'true love is going through all page of my wedding album and using a sharpie to blacken my orange crocs',\n",
       " 'when you eat the food at the bottom of the food pyramid all the food on the top make money',\n",
       " 'policeman i ve had my eye on you for some time now young lady that s funny i thought you were arresting me for speeding',\n",
       " 'my life completely changed after i learned morse code last night for example i couldn t fall asleep because the rain kept telling me to go fuck myself',\n",
       " 'here s some advice stay alive hunger game',\n",
       " 'an old lady in front of me dropped a note so i asked myself what would jesus do so i turned it into wine i bought wine',\n",
       " 'i can t never remember if i m lisdexic or epileptikjlfasd md dsaf aaaaafddasfrwe',\n",
       " 'feeling the love from you all for our new show thanks for showing up here and spreading the word owner you rock lov eis',\n",
       " 'pm pst',\n",
       " 'your pastor can t pray the gay out of you church can t make you straight stop wounding your soul with the pressure from homophobic people and live your life jesus love you the same he knew you before you were born happy sunday',\n",
       " 'what is the best way to break up with a partner have your method evolved over time auntie red tweet tea',\n",
       " 'six of the dwarf have personality and one of them just sneeze a lot',\n",
       " 'most female cheetah live their entire life without ever raising a cub to maturity their specie is dependent on supermom female cheetah who are particularly adept at caring for cub one supermom eleanor ha mothered about of all cheetah in the southern serengeti',\n",
       " 'i used to think all black people had boomboxes then i realized that wa just a stereo type',\n",
       " 'how do you make helen keller cry turn the stool upside down',\n",
       " 'first gay marriage what s next people marrying dog nervous glance at dog dog frank we ve been over this i like you a a friend',\n",
       " 'i ll fight for the thing that are worth it if it make me feel complete the wanted',\n",
       " 'did you know that the earth used to be water that wa until yo momma got thirsty',\n",
       " 'there s nothing more manly than wearing a sport jersey with another grown man s name written on it',\n",
       " 'pirate captain what should we do with this all this treasure skinny pirate spend it on wench fat pirate spend it on grog four legged furry pirate bury it',\n",
       " 'i don t even like you why d you want to go and make me feel this way so',\n",
       " 'you can never replace anyone because everyone is made up of such beautiful specific detail before sunset',\n",
       " 'my new girlfriend say that a small penis will not affect our relationship that s all well and good but i d be a lot happier if she didn t have one at all',\n",
       " 'what did the baby chick say when he saw his mother sitting on an orange dad dad look what marma laid',\n",
       " 'sometimes you have to be the first to walk away from drama it s not called giving up it s called growing up',\n",
       " 'correction it is world prematurity day woman w increased risk low income african american or birthing b yr old or after yo',\n",
       " 'a hard a we try to move forward a tempting a it is to never look back the past always come back to bite u in the as',\n",
       " 'in the new james bond movie bond apologizes to woman for his behavior and is never seen again',\n",
       " 'i can t think about anything or anybody and and i can t sleep i can t breathe i can t eat i love you all the time every minute of every day',\n",
       " 'i am amazing at managing my credit card my bank keep sending me letter saying my account is outstanding',\n",
       " 'you may not be happy with the beginning of your story but you can still take control of the ending',\n",
       " 'strong man rip phone book in half me that s amazing where did you get a phone book',\n",
       " 'a horse walk into a bar barman say why the long face the horse clearly unable to understand eats a beer mat shit on the floor',\n",
       " 'the tooth fairy teach child that they can sell body part for money what a woman',\n",
       " 'to the hater on twitter if you don t like me or my tweet i have an important message for you would buck change your mind i need people to like me because it boost my low self esteem',\n",
       " 'you should never ask a woman if she s pregnant the best way to find out is by subtly asking her for a urine sample so you can test it with a pregnancy stick',\n",
       " 'i m the michael jordan of lazy sport analogy',\n",
       " 'what is long black and dangerous to cut into the line at kfc',\n",
       " 'a my feminism ha deepened i ve been trying to understand why he remained someone i still loved and frankly i m still figuring that out',\n",
       " 'my wife just gave birth today and after thanking the doctor i pulled him aside and sheepishly asked how soon do you think we ll be able to have sex he winked at me and said i m off duty in minute meet me in the car park',\n",
       " 'what did the son corn say to the mama corn where s pop corn',\n",
       " 'are you a muscular gay dude how do you respond to concern by some bruvs of the community that you re full of yourself unfaithful and generally self serving this is a growing stereotype of muscular gay dude your thought',\n",
       " 'the reason you have to wait so long at the hospital is because the doctor are busy flirting and having relation with each other just like on grey s anatomy',\n",
       " 'the only time i regret having cat is fairly often',\n",
       " 'two arab are on a plane one order a bottle of champagne and asks the other do you want some the other reply no thanks i ll have to drive soon',\n",
       " 'cucumber contains erepsin the enzyme that help to digest protein health protein',\n",
       " 'when is the worst time to have a heart attack during a game of charade haha',\n",
       " 'despite being considered a promiscuous generation quite often millennials tend to have le sexual partner than previous generation they typically have le sex overall than their own parent',\n",
       " 'tinder made it first match on the continent of antarctica in both people were research scientist',\n",
       " 'def missed my connecting flight due to some delay so i guess i m spending the night in dc i need a drank',\n",
       " 'if we re going to arm the teacher at least give the librarian silencer',\n",
       " 'scientist discovered trace of cannabis on the pipe found in william shakespeare s garden',\n",
       " 'i deleted all the german contact out of my phone now it han free',\n",
       " 'when u get older monster are different self doubt loneliness regret you may be olderandwiser you still find yourself afraid of the dark',\n",
       " 'what s black and white and red all over and can t get through a revolving door a nun with a spear through her head',\n",
       " 'why black people are so good with basketball they can shoot and steal without being arrested',\n",
       " 'i wa driving my date to her house and told her that i wasn t good with direction she just laughed at me so i right her left there',\n",
       " 'he who establishes his argument by noise and command show that his reason is weak',\n",
       " 'having recently given up drug life is quite boring i now need a wife of substance to abuse',\n",
       " 'spelling word to my wife so our child doesn t get scared i heard on the news that the s u n is going to explode and kill u all tonight',\n",
       " 'what s good on a woman but not on a pizza crust',\n",
       " 'don t depend too much on anyone in this world because even your own shadow leaf you when you are in darkness',\n",
       " 'i went to a cannibal wedding the groom toasted the bridesmaid the best man toasted the bride and groom and the father of the bride toasted absent friend it wa a helluva barbecue',\n",
       " 'i lost my job at the bank on my very first day a woman asked me to check her balance so i pushed her over',\n",
       " 'zeal akaraiwai a financial consultant in nigeria regularly pay the medical bill of other nigerian that can not afford to do so only of the country ha health insurance and his motto is be the angel you hope to meet',\n",
       " 'fella don t go looking for a good woman until you re a good man',\n",
       " 'if you re reading this congratulation you re alive if that s not something to smile about then i don t know what is',\n",
       " 'my brother wait till the last minute to steal package off a porch',\n",
       " 'we will still need the help of our community to remain up and running a we said fund are dangerously low today and we don t want to stop before we ve really gotten started we hope that you ll give what you can',\n",
       " 'what did the mexican guy get for christmas his verdict',\n",
       " 'what do you get when you have tiger wood stephen hawking and dwayne johnson in the same room an animal a vegetable and a mineral',\n",
       " 'britain ended the practice of capital punishment after the unjust execution of timothy evans for the murder of his wife and daughter evans accused his neighbor of committing the crime who wa discovered to be a serial killer year later he had killed six other woman',\n",
       " 'therapist living with depression is a difficult thing depression actually living with him is worse me knock on door frame heyyyy just putting it out there we are officially out of dr pepper',\n",
       " 'why are there no casino in africa too many cheetah corny',\n",
       " 'me siri did the beatles ever use female backup singer in their song siri you have a lot of free time for a quote busy guy',\n",
       " 'max planck wa told by a professor not to go into physic because almost everything wa already discovered planck said he just wanted to learn the basic and not discover anything new he went on to develop quantum theory and win a nobel prize',\n",
       " 'love is free lust is expensive',\n",
       " 'what s the most confusing day in a mormon home mother s day',\n",
       " 'why did the cyclops quit teaching he had only one pupil corny',\n",
       " 'my wife asked me if i thought our kid are spoiled i told her no i think all kid smell like that',\n",
       " 'only human think it s easier to terraform a new planet than be a tiny bit accountable',\n",
       " 'creating daily to do list could help you fight boredom and give you a sense of achievement and confidence list',\n",
       " 'indian junky accidentally snorted curry powder instead of cocaine both in hospital one s in a korma',\n",
       " 'twitter ha been abuzz over selena gomez s spray tan at the met gala in other news we may be having a nuclear war with iran',\n",
       " 'what s the difference between a tyre and used condom one s a goodyear the other s a great year',\n",
       " 'mcmaster sound like what happens when a german guy make up an irish name',\n",
       " 'my wife say i act really immature and need to grow up i told her to get the hell out of my pillow fort with that negative attitude',\n",
       " 'knock knock whose there grandpa quick stop the cremation',\n",
       " 'i literally can t believe what i m watching',\n",
       " 'how do you make a chinese man no longer asian just spin him around in circle until he s disoriented',\n",
       " 'what s green and not heavy light green h',\n",
       " 'after a day of arguing with coworkers and family member it s nice at the end of the day to finally get some alone time to argue with stranger on the internet',\n",
       " 'what s a movie that ll make me cry',\n",
       " 'why did the mexican take xanax for hispanic attack',\n",
       " 'well i wa going to donate blood today until the lady got all personal and started asking who s blood is this and how did you get it',\n",
       " 'what s the difference between pussy and mashed potato mashed potato don t make their own gravy',\n",
       " 'it s embarrassing when you re the only one out on the dance floor and by dance floor i mean the electronics department in walmart',\n",
       " 'sit just found out my dog is on twitter',\n",
       " 'panda sometimes fake pregnancy to receive more food and special treatment from human',\n",
       " 'what do you call a zombified piece of toast the un bread',\n",
       " 'there s a man walking a tight rope ft below him there s a man getting a blowjob from an year old woman what are they both thinking don t look down',\n",
       " 'arthur guinness founder of guinness beer signed a year lease for per year at the st james s gate brewery in dublin back in',\n",
       " 'the mega million drawing is going to make someone an instant republican',\n",
       " 'what do a horny ornithologist and a na vi buff have in common they both get turned on by blue tit',\n",
       " 'google is definitely a woman it start suggesting thing before you can even finish your sentence',\n",
       " 'i m broken do you hear me more than this',\n",
       " 'i dropped my knife and cut off a toe at the hospital the surgeon mistook a piece of candy for my toe i now have a tic tac toe',\n",
       " 'and yes i ve let you use me from the day that we first met but i m not done yet falling for your fool s gold fool s gold',\n",
       " 'what do you call a fish wearing a tie sofishticated',\n",
       " 'a wombat can slam it butt against the roof or wall of a burrow and literally shatter a predator s head',\n",
       " 'welcome to your forty get ready to be too tired for pretty much everything that brings joy in life',\n",
       " 'it put the lotion in the basket then it call the wife to make sure it s the right brand so it doesn t get the hose again',\n",
       " 'a muslim a christian and a jew walk into a bar the muslim blow up the place before anyone could say anything',\n",
       " 'asking for and receiving help is essential for holistic mental health but must occur in context of trusted relationship and community',\n",
       " 'a flame at the hiroshima peace memorial park ha burned since it wa lit in it will stay lit until all nuclear bomb on the planet are destroyed and the world is free from the threat of nuclear destruction',\n",
       " 'i saw a man with one arm shopping at a second hand store i told him you re not going to find what you re looking for here',\n",
       " 'i don t envy mama bird for how they have to feed their baby but the pushing them out of the nest part sound fun',\n",
       " 'you ve been married a long time when the trail of rose petal she left you go to the lawn mower',\n",
       " 'currently trying out a new mindfulness meditation app can t wait to share it with you black girl smile',\n",
       " 'i will never forgive anyone who voted for him a long a i live',\n",
       " 'shaquille o neal wa one of the original investor in google and vitaminwater but passed on starbucks because he didn t drink coffee',\n",
       " 'human and honeybee are both social specie while human communicate through talking honeybee communicate by dancing wiggling their body at angle that point to the best nectar',\n",
       " 'me a a palm reader you need to wash your hand more',\n",
       " 'the honey badger is listed in the guinness book of world record a the world s most fearless creature they feast on porcupine and deadly snake attack beehive for honey steal baby cheetah and snatch food from hungry lion',\n",
       " 'in april of brazilian authority detained a parrot who had been taught to alert his drug dealing owner when police arrived',\n",
       " 'what do you call a chicken looking at a bowl of lettuce chicken see a salad',\n",
       " 'my girlfriend told me to choose between our relationship and my career a a reporter well i ve got some news for her',\n",
       " 'every time i drink german beer i wake up with a really bad hannover',\n",
       " 'how do we move forward so that black people other group le likely seek mental health help can utilize evidence based treatment etc',\n",
       " 'our main resource for desalination is sea waterwe are fortunate to have the sea right next to u abraham tenne head of desalination division israeli governmental water and sewage authority powered by jnf love grows in israel water series',\n",
       " 'since it started raining all my wife ha done is look sadly through the stupid window if it get any worse i ll have to let her in',\n",
       " 'q how do you know if a blonde ha been sending e mail a you see a bunch of envelope stuffed into the disk drive',\n",
       " 'mistake are a great educator when one is honest enough to admit them and willing to learn from them',\n",
       " 'to my bos who said the spelling mistake i make are going to hold me back in the company you have no idea how high i can fly watch me sore',\n",
       " 'i asked a chinese girl for her number and she said sex sex sex free sex tonigh i thought it wa a guaranteed fuck until her friend said she mean',\n",
       " 'in the middle of a mess don t forget how much you re blessed',\n",
       " 'cop you carrying any dangerous weapon i glance down at my hand which are naturally resting in the karate chop position me lying no',\n",
       " 'for black mental health let s talk more about therapy and counseling self care is great but we can break the barrier to professional care',\n",
       " 'the government had recently seized my pet jaguar bitey and the claw citing the endangered animal protection law the only thing they were in danger of wa getting too much kobe beef i wa furious but like a swordmaker i used the fire to tame steel',\n",
       " 'ok i wrote the rest i m gon na sing it',\n",
       " 'me welcome to ihop i m the singing waiter bos overhearing me no you re not i told you no',\n",
       " 'a heat dome ha developed over the great basin across nevada and other western state it s a high pressure system that function like a cap holding an ocean of hot air under it there are no sign that it will budge soon',\n",
       " 'what do you call an overweight homosexual jigglypuff',\n",
       " 'what s the difference between three dick and a joke your mom can t take a joke',\n",
       " 'yes a relationship is between two people but girl love it when you publicly let it be known that you all are dating',\n",
       " 'me officer why would i be high cop you were driving with your door open me my what cop your door wa ajar me well now it s a door',\n",
       " 'are there peloton message board to talk about treadmill and strength workout i want online pal to discus their favorite vids',\n",
       " 'so what if i don t know what armageddon mean it s not like it s the end of the world',\n",
       " 'i just noticed amazon ha reclassified george orwell s under the category of lighthearted romp',\n",
       " 'my wife told me don t get upset if people call you fat you re much bigger than that',\n",
       " 'my wife and i argued because she think i m a momma s boy i m pretty sure my mom will side with me a soon a she s done doing my laundry',\n",
       " 'they never prepare you in premarital counselling for how hard it will be to decide where to eat dinner',\n",
       " 'have ur blood tested for vitamin d deficiency the normal range is lower than can cause fatigue insomnia vision problem etc',\n",
       " 'omg fact it is possible to disagree with your chosen political party s decision you don t have to blindly support every bad choice they make',\n",
       " 'bull don t hate the color red they re actually color blind to it bull become irritated by a cape s movement a a matador whip it around',\n",
       " 'the man who voiced optimus prime also did the voice for eeyore and nintendo s mario',\n",
       " 'when chromatica ii transition to i ve never felt more gay and alive',\n",
       " 'first date her i like bad boy my dog walk away disappointedly because he is a good boy',\n",
       " 'a many a million bacteria are transferred during a second kiss',\n",
       " 'lying child tend to be more successful a adult',\n",
       " 'crow can recognize human face and have been known to hold grudge against people they don t like',\n",
       " 'instead of just looking for the right person be the right person',\n",
       " 'you can always see your nose but your brain mostly ignores it',\n",
       " 'every rose ha it thorn',\n",
       " 'people need a safe haven from their bitterness loneliness',\n",
       " 'my year old refused to wear her shoe and carried them around instead she can barely walk and she s already the drunk girl at the party',\n",
       " 'drinking a cup of hot coffee delicious drinking a cup of iced coffee fantastic drinking a cup of coffee at any temperature in between the devil is alive and he s winning',\n",
       " 'study have shown that consumption of green leafy vegetable such a spinach may slow the age related decline in brain function',\n",
       " 'where wa the first chicken fried in greece',\n",
       " 'four is the only number whose name in english ha the same amount of letter a it value',\n",
       " 'what did santa say to mr claus when he saw a thunderstorm look like reindeer',\n",
       " 'responding to stereotype of angry black woman by suppressing emotion isn t healthy and is part of strong black woman syndrome resist',\n",
       " 'in celebration of',\n",
       " 'gay love teasing their halloween costume like they re about to drop an album',\n",
       " 'a dog may well be a man s best friend but a cat will never tell the police where your marijuana is',\n",
       " 'my girlfriend just walked in and called me gay if my nail weren t drying i swear to god',\n",
       " 'all the pain and the fear and the crap maybe going through all that is what keep u moving forward',\n",
       " 'behavioral health equity includes connecting to underprivileged group instead of waiting for them to access the healthcare system mmh mchat',\n",
       " 'it s really important not to overlook how critical it is for people to be able to see others like them in leadership no representation is not all that matter but we can t act a if it doesn t matter at all she could be next pb all eye on ga',\n",
       " 'people died yesterday after a bus caught fire in mumbai india a local police spokesman said thank god it wa only a seater',\n",
       " 'why are european car the lightest because there s no american sitting in them',\n",
       " 'thought go out to those affected by the santa barbara shooting woman are human being they do not owe u anything please remember that',\n",
       " 'stress can result in more headache a a result of the body rerouting blood flow to other part of the body',\n",
       " 'i ve found that imitation is the sincerest form of flattery until you try to flatter someone in a wheelchair',\n",
       " 'if there s a crisis you don t freeze you move forward you get the rest of u to move forward because you ve seen worse',\n",
       " 'he refused and went on chatting his nonsense until i wa forced to block him now a few year later i see this fool ha left islam and is now calling muslim to leave their deen a well audhubillah',\n",
       " 'feeling rejected remember that s just a thought that you create failing is just another form of learning keep failing keep learning and improving until you succeed',\n",
       " 'why do pencil shave to look sharp corny',\n",
       " 'smoke from the west coast wildfire is spreading across the country and ha been detected in the sky above ohio and hawaii',\n",
       " 'gravity s one of the most fundamental force in the universe what do you get when you remove it gravy',\n",
       " 'dog are vulnerable when pooping so they often look to their owner for visual cue this is why they stare at you',\n",
       " 'remember everyone who said we ll have to see in the fall ya that s in week',\n",
       " 'listening to the radio right now and chasing car just came on i will be right back when i am done cry so many feeling',\n",
       " 'giving up alcohol for just one month can improve liver function decrease blood pressure and reduce your risk of diabetes according to researcher from university college london',\n",
       " 'i finally got a snowblower and what a difference it s made now instead of procrastinating shovelling the snow i procrastinate snowblowing it',\n",
       " 'if i loved you i wouldn t be up there waiting for you i would be letting you go',\n",
       " 'the guy who stole my diary just died my thought are with his family',\n",
       " 'two irish men talking i saw my girlfriend going to the movie with another guy the other night oh my god did you follow them no why not i had watched the movie before',\n",
       " 'arnold schwarzenegger wa paid approximately for every word he said in terminator',\n",
       " 'kid and another baby on the way with my wife of year this is the life i m running away from',\n",
       " 'sometimes you ignore it that s the reasonable thing to do but sometimes you listen you re supposed to trust your gut right',\n",
       " ...]"
      ]
     },
     "execution_count": 63,
     "metadata": {},
     "output_type": "execute_result"
    }
   ],
   "source": [
    "description_list"
   ]
  },
  {
   "cell_type": "code",
   "execution_count": 64,
   "metadata": {},
   "outputs": [],
   "source": [
    "from sklearn import preprocessing\n",
    "from sklearn import utils\n",
    "lab_enc = preprocessing.LabelEncoder()\n",
    "y = df_offense.iloc[:,1].values \n",
    "encoded = lab_enc.fit_transform(y)"
   ]
  },
  {
   "cell_type": "code",
   "execution_count": 30,
   "metadata": {},
   "outputs": [
    {
     "ename": "NameError",
     "evalue": "name 'final_bow_np' is not defined",
     "output_type": "error",
     "traceback": [
      "\u001b[1;31m---------------------------------------------------------------------------\u001b[0m",
      "\u001b[1;31mNameError\u001b[0m                                 Traceback (most recent call last)",
      "\u001b[1;32m<ipython-input-30-38fbd30a7324>\u001b[0m in \u001b[0;36m<module>\u001b[1;34m\u001b[0m\n\u001b[1;32m----> 1\u001b[1;33m \u001b[0mx\u001b[0m \u001b[1;33m=\u001b[0m \u001b[0mfinal_bow_np\u001b[0m\u001b[1;33m\u001b[0m\u001b[1;33m\u001b[0m\u001b[0m\n\u001b[0m\u001b[0;32m      2\u001b[0m \u001b[1;31m# train test split\u001b[0m\u001b[1;33m\u001b[0m\u001b[1;33m\u001b[0m\u001b[1;33m\u001b[0m\u001b[0m\n\u001b[0;32m      3\u001b[0m \u001b[1;32mfrom\u001b[0m \u001b[0msklearn\u001b[0m\u001b[1;33m.\u001b[0m\u001b[0mmodel_selection\u001b[0m \u001b[1;32mimport\u001b[0m \u001b[0mtrain_test_split\u001b[0m\u001b[1;33m\u001b[0m\u001b[1;33m\u001b[0m\u001b[0m\n\u001b[0;32m      4\u001b[0m \u001b[0mx_traine_offen\u001b[0m\u001b[1;33m,\u001b[0m \u001b[0mx_teste_offen\u001b[0m\u001b[1;33m,\u001b[0m \u001b[0my_traine_offen\u001b[0m\u001b[1;33m,\u001b[0m \u001b[0my_teste_offen\u001b[0m \u001b[1;33m=\u001b[0m \u001b[0mtrain_test_split\u001b[0m\u001b[1;33m(\u001b[0m\u001b[0mx\u001b[0m\u001b[1;33m,\u001b[0m\u001b[0mencoded\u001b[0m\u001b[1;33m,\u001b[0m \u001b[0mtest_size\u001b[0m \u001b[1;33m=\u001b[0m \u001b[1;36m0.1\u001b[0m\u001b[1;33m,\u001b[0m \u001b[0mrandom_state\u001b[0m \u001b[1;33m=\u001b[0m \u001b[1;36m42\u001b[0m\u001b[1;33m)\u001b[0m\u001b[1;33m\u001b[0m\u001b[1;33m\u001b[0m\u001b[0m\n",
      "\u001b[1;31mNameError\u001b[0m: name 'final_bow_np' is not defined"
     ]
    }
   ],
   "source": [
    "# x = final_bow_np\n",
    "# train test split\n",
    "# from sklearn.model_selection import train_test_split\n",
    "# x_traine_offen, x_teste_offen, y_traine_offen, y_teste_offen = train_test_split(x,encoded, test_size = 0.1, random_state = 42)"
   ]
  },
  {
   "cell_type": "code",
   "execution_count": 65,
   "metadata": {},
   "outputs": [],
   "source": [
    "x = sparce_matrix\n",
    "# train test split\n",
    "from sklearn.model_selection import train_test_split\n",
    "x_train_offen, x_test_offen, y_train_offen, y_test_offen = train_test_split(x,encoded, test_size = 0.1, random_state = 42)"
   ]
  },
  {
   "cell_type": "code",
   "execution_count": 66,
   "metadata": {},
   "outputs": [
    {
     "data": {
      "text/plain": [
       "array([ 4, 22, 48, ...,  0, 60,  0], dtype=int64)"
      ]
     },
     "execution_count": 66,
     "metadata": {},
     "output_type": "execute_result"
    }
   ],
   "source": [
    "encoded"
   ]
  },
  {
   "cell_type": "code",
   "execution_count": 28,
   "metadata": {},
   "outputs": [
    {
     "data": {
      "text/plain": [
       "<7200x12096 sparse matrix of type '<class 'numpy.int64'>'\n",
       "\twith 67305 stored elements in Compressed Sparse Row format>"
      ]
     },
     "execution_count": 28,
     "metadata": {},
     "output_type": "execute_result"
    }
   ],
   "source": [
    "# x_train_offen"
   ]
  },
  {
   "cell_type": "code",
   "execution_count": 69,
   "metadata": {},
   "outputs": [
    {
     "data": {
      "text/plain": [
       "GaussianNB()"
      ]
     },
     "execution_count": 69,
     "metadata": {},
     "output_type": "execute_result"
    }
   ],
   "source": [
    "from sklearn.naive_bayes import GaussianNB\n",
    "nb = GaussianNB()\n",
    "nb.fit(x_train_offen,y_train_offen)"
   ]
  },
  {
   "cell_type": "code",
   "execution_count": 70,
   "metadata": {},
   "outputs": [
    {
     "name": "stdout",
     "output_type": "stream",
     "text": [
      "accuracy:  0.12375\n"
     ]
    }
   ],
   "source": [
    "y_pred = nb.predict(x_test_offen)\n",
    "print(\"accuracy: \",nb.score(y_pred.reshape(-1,1),y_test_offen))"
   ]
  },
  {
   "cell_type": "code",
   "execution_count": 72,
   "metadata": {},
   "outputs": [
    {
     "data": {
      "text/plain": [
       "MultinomialNB()"
      ]
     },
     "execution_count": 72,
     "metadata": {},
     "output_type": "execute_result"
    }
   ],
   "source": [
    "from sklearn.naive_bayes import MultinomialNB\n",
    "clf = MultinomialNB()\n",
    "clf.fit(x_train_offen,y_train_offen)"
   ]
  },
  {
   "cell_type": "code",
   "execution_count": 73,
   "metadata": {},
   "outputs": [],
   "source": [
    "y_pred = clf.predict(x_test_offen)"
   ]
  },
  {
   "cell_type": "code",
   "execution_count": 74,
   "metadata": {},
   "outputs": [
    {
     "data": {
      "text/plain": [
       "24.391212556984534"
      ]
     },
     "execution_count": 74,
     "metadata": {},
     "output_type": "execute_result"
    }
   ],
   "source": [
    "from sklearn.metrics import mean_squared_error\n",
    "\n",
    "rms = mean_squared_error(y_test_offen, y_pred, squared=False)\n",
    "rms"
   ]
  },
  {
   "cell_type": "code",
   "execution_count": 75,
   "metadata": {},
   "outputs": [
    {
     "name": "stdout",
     "output_type": "stream",
     "text": [
      "lr accuracy:  0.3925\n"
     ]
    },
    {
     "name": "stderr",
     "output_type": "stream",
     "text": [
      "C:\\Users\\User\\anaconda3\\lib\\site-packages\\sklearn\\linear_model\\_logistic.py:762: ConvergenceWarning: lbfgs failed to converge (status=1):\n",
      "STOP: TOTAL NO. of ITERATIONS REACHED LIMIT.\n",
      "\n",
      "Increase the number of iterations (max_iter) or scale the data as shown in:\n",
      "    https://scikit-learn.org/stable/modules/preprocessing.html\n",
      "Please also refer to the documentation for alternative solver options:\n",
      "    https://scikit-learn.org/stable/modules/linear_model.html#logistic-regression\n",
      "  n_iter_i = _check_optimize_result(\n"
     ]
    }
   ],
   "source": [
    "from sklearn.linear_model import LogisticRegression\n",
    "lr=LogisticRegression(max_iter=60)\n",
    "lr.fit(x_train_offen,y_train_offen)\n",
    "print(\"lr accuracy: \",lr.score(x_test_offen,y_test_offen))"
   ]
  },
  {
   "cell_type": "code",
   "execution_count": 87,
   "metadata": {},
   "outputs": [
    {
     "name": "stdout",
     "output_type": "stream",
     "text": [
      "lm accuracy:  -2.8513631151185744e+21\n"
     ]
    }
   ],
   "source": [
    "from sklearn.linear_model import LinearRegression\n",
    "lm=LinearRegression()\n",
    "lm.fit(x_train_offening,y_train_offening)\n",
    "print(\"lm accuracy: \",lm.score(x_test_offening,y_test_offening))"
   ]
  },
  {
   "cell_type": "code",
   "execution_count": 88,
   "metadata": {},
   "outputs": [
    {
     "data": {
      "text/plain": [
       "array([[0, 0, 0, ..., 0, 0, 0],\n",
       "       [0, 0, 0, ..., 0, 0, 0],\n",
       "       [0, 0, 0, ..., 0, 0, 0],\n",
       "       ...,\n",
       "       [0, 0, 0, ..., 0, 0, 0],\n",
       "       [0, 0, 0, ..., 0, 0, 0],\n",
       "       [0, 0, 0, ..., 0, 0, 0]], dtype=int64)"
      ]
     },
     "execution_count": 88,
     "metadata": {},
     "output_type": "execute_result"
    }
   ],
   "source": [
    "x_train_offening"
   ]
  },
  {
   "cell_type": "code",
   "execution_count": 89,
   "metadata": {},
   "outputs": [
    {
     "data": {
      "text/plain": [
       "array([0.  , 0.  , 0.  , ..., 0.  , 0.1 , 2.25])"
      ]
     },
     "execution_count": 89,
     "metadata": {},
     "output_type": "execute_result"
    }
   ],
   "source": [
    "y_train_offening"
   ]
  },
  {
   "cell_type": "code",
   "execution_count": 47,
   "metadata": {},
   "outputs": [],
   "source": [
    "# lm_pred=lm.predict(x_test_offen)"
   ]
  },
  {
   "cell_type": "code",
   "execution_count": 49,
   "metadata": {},
   "outputs": [
    {
     "data": {
      "text/plain": [
       "1121357440067.0234"
      ]
     },
     "execution_count": 49,
     "metadata": {},
     "output_type": "execute_result"
    }
   ],
   "source": [
    "# rms = mean_squared_error(y_test_offen, lm_pred, squared=False)\n",
    "# rms"
   ]
  },
  {
   "cell_type": "code",
   "execution_count": 67,
   "metadata": {},
   "outputs": [],
   "source": [
    "y_pred_offen=lr.predict(x_test_offen)"
   ]
  },
  {
   "cell_type": "code",
   "execution_count": 72,
   "metadata": {},
   "outputs": [],
   "source": [
    "from sklearn.metrics import mean_squared_error\n",
    "\n",
    "rms = mean_squared_error(y_test_offen, y_pred_offen, squared=False)"
   ]
  },
  {
   "cell_type": "code",
   "execution_count": 76,
   "metadata": {},
   "outputs": [
    {
     "data": {
      "text/plain": [
       "24.391212556984534"
      ]
     },
     "execution_count": 76,
     "metadata": {},
     "output_type": "execute_result"
    }
   ],
   "source": [
    "rms"
   ]
  },
  {
   "cell_type": "code",
   "execution_count": null,
   "metadata": {},
   "outputs": [],
   "source": [
    "from sklearn.svm import SVC   \n",
    "clf = SVC(kernel='linear')  \n",
    "  \n",
    "# fitting x samples and y classes  \n",
    "clf.fit(x_train_offen,y_train_offen)"
   ]
  },
  {
   "cell_type": "code",
   "execution_count": null,
   "metadata": {},
   "outputs": [],
   "source": [
    "clf.predict(x_test_offen)"
   ]
  },
  {
   "cell_type": "code",
   "execution_count": 18,
   "metadata": {},
   "outputs": [],
   "source": [
    "sc = StandardScaler()"
   ]
  },
  {
   "cell_type": "code",
   "execution_count": 86,
   "metadata": {},
   "outputs": [],
   "source": [
    "x = sparce_matrix\n",
    "# train test split\n",
    "from sklearn.model_selection import train_test_split\n",
    "x_train_offening, x_test_offening, y_train_offening, y_test_offening = train_test_split(x,y, test_size = 0.1, random_state = 42)"
   ]
  },
  {
   "cell_type": "code",
   "execution_count": 19,
   "metadata": {},
   "outputs": [],
   "source": [
    "X_train = sc.fit_transform(x_train_offen)\n",
    "X_test = sc.fit_transform(x_test_offen)"
   ]
  },
  {
   "cell_type": "code",
   "execution_count": 55,
   "metadata": {},
   "outputs": [],
   "source": [
    "from sklearn.ensemble import RandomForestClassifier\n",
    "from sklearn.svm import SVC\n",
    "from sklearn.linear_model import SGDClassifier\n",
    "from sklearn.metrics import confusion_matrix, classification_report\n",
    "from sklearn.preprocessing import StandardScaler, LabelEncoder\n",
    "from sklearn.model_selection import train_test_split, GridSearchCV, cross_val_score"
   ]
  },
  {
   "cell_type": "code",
   "execution_count": 35,
   "metadata": {},
   "outputs": [],
   "source": [
    "rfc = RandomForestClassifier(n_estimators=20)\n",
    "rfc.fit(x_train_offen, y_train_offen)\n",
    "pred_rfc = rfc.predict(x_test_offen)"
   ]
  },
  {
   "cell_type": "code",
   "execution_count": 36,
   "metadata": {},
   "outputs": [
    {
     "data": {
      "text/plain": [
       "array([35,  0,  9,  0,  0,  0,  0,  0,  0,  0,  0,  0,  3,  0, 24, 26,  0,\n",
       "        0,  0,  0,  0,  0,  0,  0,  0,  0,  0,  0, 20,  0,  0,  0,  0,  0,\n",
       "        0,  0,  0,  0,  0, 47,  5,  0,  0, 30,  0,  0,  0,  0,  2,  4,  0,\n",
       "        0,  0,  0,  0,  0,  0,  0,  0,  0,  0,  0,  3,  0,  0,  0,  4,  0,\n",
       "        0, 34,  0,  0,  5,  0, 39,  0,  0,  0,  0,  0,  0,  0,  0,  0,  0,\n",
       "        0,  0,  0,  0,  0,  0,  4,  0,  0,  0,  0,  0, 25,  0,  0, 34,  0,\n",
       "        0,  0, 18,  0,  0,  0,  0,  0,  0,  0,  0,  1,  0,  0,  0,  0,  0,\n",
       "        0, 42,  0,  0,  0,  0,  0,  0,  0,  0,  0, 44,  0,  0,  0,  0,  0,\n",
       "        0,  0,  0,  0,  0,  0,  0,  0,  0,  0,  0,  0,  0,  0,  0,  0,  0,\n",
       "        0,  0,  0,  0,  3,  0,  0,  0,  0,  0,  0,  0,  0,  0,  0,  2,  0,\n",
       "        0,  0,  0,  0,  0,  0,  0,  0,  0,  0,  0,  0,  0,  0,  0,  0,  0,\n",
       "       48, 42,  0,  0,  0,  0,  0,  0,  0,  0,  0,  0,  0,  0,  0,  0,  0,\n",
       "        0,  0,  0,  0,  0,  0,  0, 17,  0,  0,  0,  0, 25,  0,  0,  0,  0,\n",
       "        0,  0,  0,  0,  0,  0,  0,  0,  0,  0, 34,  0,  0,  0,  0,  0,  0,\n",
       "       49,  0,  0,  0,  0,  0,  0, 37,  0,  0,  0, 10,  0,  0,  0,  0, 10,\n",
       "        2,  0,  6,  0,  0,  1,  0, 26,  0,  0,  0,  0,  0,  0,  0, 45,  0,\n",
       "        0,  0,  0,  0,  0,  0,  0,  0,  0,  0,  0,  0,  0,  0,  0,  0,  0,\n",
       "        0,  0,  0, 74,  0,  0,  0,  0,  0,  0,  0,  0,  0,  0, 24,  5,  5,\n",
       "        0,  0,  0,  0,  0,  0,  0,  0,  0,  0,  3,  9,  0,  0,  0,  0,  0,\n",
       "        0,  0, 47,  0,  0,  0, 78,  0, 72,  0, 24,  0,  9,  0,  0,  0,  0,\n",
       "        0, 12, 44,  0, 37,  0,  0,  0,  0,  0,  0,  0,  0, 21, 22,  0,  0,\n",
       "        2,  0,  0,  0,  0,  0,  0, 65,  0,  0,  0,  0,  0,  2,  0,  0, 33,\n",
       "        0,  0,  0,  0,  3,  0,  0,  0,  0,  0,  0,  1,  0,  0,  0,  0,  0,\n",
       "        0,  0,  6,  0,  0,  0,  0,  0,  0,  0,  0,  0,  0, 24, 47,  0,  0,\n",
       "        0,  0,  0,  0,  0,  0,  0,  0,  0,  0,  0,  0,  0,  0,  0,  0,  0,\n",
       "       21,  0,  0,  0,  0,  0, 75,  9, 43,  0,  0, 54,  0,  0,  0,  0,  0,\n",
       "        0,  0,  0, 26, 82,  0,  0,  0,  0,  0,  0,  0,  0,  0,  0,  4, 33,\n",
       "       38,  0,  0,  0,  0,  0,  0, 38,  0,  0,  0, 72, 39,  0,  0,  0,  0,\n",
       "        0,  0,  0,  0,  0,  0,  5,  3,  0,  0,  0,  0,  0, 29,  0,  0,  0,\n",
       "        0,  2, 11,  0,  0,  0,  0,  0,  0,  0,  0,  0,  0,  0,  0,  0,  0,\n",
       "        0, 38,  0,  0,  0,  0,  0, 47,  0,  0,  0,  0,  1,  0,  0,  0,  0,\n",
       "        0,  0,  0,  0,  0,  0,  0,  0,  0,  0,  0,  0,  0, 16,  0,  0,  0,\n",
       "        0,  0, 77,  0,  0,  0, 54,  0,  0,  0, 10,  0,  0, 45,  0,  0,  0,\n",
       "        0,  0,  0,  0, 57,  0, 21,  0,  0,  0,  0,  0,  0,  0,  0,  0,  0,\n",
       "        0,  0,  0,  0,  0,  3,  0,  0,  0,  0,  0,  0,  0,  0,  0, 77,  0,\n",
       "        0,  0,  0, 53, 71,  0,  0,  0,  8,  0,  0,  0,  0,  0,  0,  0,  0,\n",
       "        0,  0,  0,  0, 62,  0,  0,  0,  0,  0,  0,  0,  0, 52,  0,  0,  0,\n",
       "        0,  0,  0,  0, 38,  0,  0, 82, 18,  8,  0,  0,  0,  0,  0,  0,  0,\n",
       "        0,  0,  0,  0,  0,  0,  0, 33, 24,  0,  0,  3, 47,  0,  0,  3,  0,\n",
       "        0,  0,  0,  0,  0,  0,  0,  0, 80,  0,  0,  0,  0,  0,  0, 39,  0,\n",
       "        0,  0,  0,  0,  0,  2,  0,  0,  0,  0,  0, 39,  0,  0,  0,  0,  0,\n",
       "        0,  0,  0, 24,  0,  0,  0,  0,  0, 47,  0, 12,  0,  0,  0,  0,  0,\n",
       "        0,  0,  0,  0,  0,  0,  0,  0,  0, 45,  0,  0,  3,  0,  0,  0,  0,\n",
       "        0,  0,  0,  0,  0,  0,  0,  0,  0,  0,  0,  0, 57,  0,  0,  0, 24,\n",
       "        0,  0,  0,  0,  0,  0,  0,  0,  0,  0,  0,  0,  0,  0, 38,  0,  0,\n",
       "        0,  0,  0,  0,  0,  0,  0,  0,  0,  0,  0,  0,  0,  0,  0,  0,  0,\n",
       "        0,  0,  0,  0,  0,  3,  0,  0,  0,  0,  0,  0,  0,  0,  0, 52,  0,\n",
       "        0], dtype=int64)"
      ]
     },
     "execution_count": 36,
     "metadata": {},
     "output_type": "execute_result"
    }
   ],
   "source": [
    "pred_rfc"
   ]
  },
  {
   "cell_type": "code",
   "execution_count": 37,
   "metadata": {},
   "outputs": [
    {
     "data": {
      "text/plain": [
       "array([ 3, 10, 16,  0,  6, 12, 47, 26,  8,  0,  0,  0,  0,  0, 17, 34, 52,\n",
       "        0, 10, 20, 27,  0,  4,  0,  0,  0,  2,  0, 28,  2,  0,  1,  0,  0,\n",
       "       30,  0,  0, 10, 55, 59, 10, 18, 36, 54,  1,  0,  3,  0, 12,  3,  0,\n",
       "        0,  3,  2,  0,  0, 36,  0, 24,  8, 28,  0, 11,  0, 14,  2,  6,  8,\n",
       "       86, 46,  0,  0,  2,  3, 69,  0,  5, 62,  0,  5,  0,  1, 17,  0, 66,\n",
       "        4,  0,  5,  0,  0,  4, 22,  0,  3,  3,  0, 10, 20, 14, 10, 23,  0,\n",
       "        0,  0, 27,  0,  1,  2,  0,  5,  5,  0,  0, 26,  1, 21,  0,  4,  0,\n",
       "        0, 46, 28,  4,  0,  5,  0, 13,  0,  1,  0, 91,  0,  0, 39,  0, 31,\n",
       "        2,  0,  0,  0, 18,  0,  0,  0, 55, 14, 18,  0,  4, 15, 90,  4,  0,\n",
       "        0,  0, 26,  3, 74,  2, 35,  1,  0,  1,  0,  3, 46, 13,  0,  0,  5,\n",
       "       31,  0,  0,  6, 44,  0,  0,  5,  0,  0,  0,  0,  0,  0,  0,  0,  0,\n",
       "       34, 34,  3,  0, 25,  6,  5, 53, 29, 17,  0,  0,  0,  0, 24, 28,  0,\n",
       "       37,  0,  0,  0,  2,  0,  0, 46,  3, 53,  7,  3, 54,  0,  5,  5,  1,\n",
       "        4,  0,  0, 12,  4,  0, 21, 28,  9,  0,  0, 37, 24, 80, 80,  0,  1,\n",
       "       54,  5,  0,  5,  0,  4,  0, 78,  3,  3,  4, 10,  3,  0,  3,  1, 52,\n",
       "        3,  0, 10,  1,  0, 13,  1, 68,  0,  2,  0, 26,  0,  9,  0,  7, 22,\n",
       "       14,  0,  0,  0,  0, 19,  0,  0, 12,  0,  0,  0,  2,  0,  6,  0, 69,\n",
       "        8,  4, 29, 51,  0,  0, 19,  3, 47, 57,  0,  0,  0,  0, 22,  0, 14,\n",
       "        0, 13,  0,  0, 10,  0,  0,  0,  0,  3, 16,  9, 57,  0,  0,  3,  1,\n",
       "        5,  5, 24,  3,  6,  2, 24,  0, 77, 56,  0,  7, 16,  4,  0, 51,  0,\n",
       "        4,  0, 73, 86, 37,  2, 36,  0, 20,  4, 47,  5, 30,  4, 75,  4,  0,\n",
       "        0, 13,  0, 28,  0,  0,  0, 45, 38,  5, 17,  0,  0,  0,  3, 42, 41,\n",
       "       57,  6,  4,  0, 15,  0,  8,  0,  7,  3,  6, 17,  8,  4,  5, 12,  1,\n",
       "        2,  2,  3,  0, 21, 94, 33,  0,  0,  0,  0, 17,  0, 54, 46,  0,  0,\n",
       "        0,  4,  0,  0,  0,  4,  0,  0,  0,  0, 52,  5,  0,  3,  0,  0, 69,\n",
       "       32,  1, 23,  0, 15,  0,  0, 59, 42,  0,  1, 38,  4,  0,  4, 21, 54,\n",
       "        1, 19, 94,  6, 92,  4,  0,  0,  0, 30,  4,  9,  0, 14,  0, 54, 72,\n",
       "        8,  2, 21,  2,  0,  7,  2, 30,  4, 41,  2, 43,  5,  6,  0,  4,  6,\n",
       "       82, 13, 47,  0,  1,  6,  0, 15,  7, 68,  0, 24,  0, 25, 30,  0, 54,\n",
       "        4, 10, 21, 13,  0,  3,  0,  0,  0, 73,  0,  0,  0,  0,  0,  0,  0,\n",
       "        3, 74,  0,  0,  0,  2,  7, 65,  0, 14,  0,  1,  0,  3,  0,  0,  0,\n",
       "        1, 15,  3,  0,  0, 44,  1, 40,  0,  7, 13,  1, 10, 31,  0, 11,  2,\n",
       "       59, 12, 38,  0,  0, 75, 46,  0, 84,  0, 45,  0, 80,  5,  0,  0,  0,\n",
       "        0,  0, 52, 35, 64,  2, 11,  3,  0,  0, 52,  0,  7,  0,  0,  0,  4,\n",
       "        0,  0,  0,  0,  3,  0, 40,  1,  6,  0, 59,  6,  0,  0, 53, 86,  0,\n",
       "       42,  0,  4, 31, 59,  0,  4, 10, 24,  9,  7,  0,  0,  0,  0, 12, 34,\n",
       "        0,  0,  0, 35, 97,  3,  9,  0,  0,  4,  0,  4,  0, 43,  4,  0, 15,\n",
       "        9,  0,  0,  0, 50,  3,  6,  6, 65,  4,  0, 75,  0,  0,  0,  6, 56,\n",
       "       17,  0, 56,  0, 14,  4, 13,  3, 29,  0, 26, 81, 33,  4,  0, 93,  1,\n",
       "        2,  0, 10,  0,  5, 36,  0,  0, 69,  8,  1, 12,  0,  0,  4, 45,  2,\n",
       "        0,  0, 25,  0,  0,  0,  3, 10,  0,  0,  0, 42,  0,  0,  6, 10, 18,\n",
       "        0,  0,  7,  4,  0,  5,  0,  0,  0, 15, 34, 82,  8, 10,  0, 75, 31,\n",
       "        7,  3,  0,  0,  0,  2,  1, 14,  3, 37,  7,  0, 11,  8,  0,  0,  3,\n",
       "        0,  0,  1,  0,  0,  0, 46, 71, 11,  5,  0,  0, 54, 17,  0, 65, 22,\n",
       "        0,  0,  0,  0,  3,  0,  0,  0,  5, 16,  0,  5,  0,  0, 40, 36,  7,\n",
       "        0,  3,  0,  0,  7,  1,  0, 14,  3,  1,  0,  0,  0,  0,  3,  0, 26,\n",
       "        0,  5,  1, 28,  4,  2,  0,  0,  0,  2,  0,  4,  5,  0,  0, 51,  0,\n",
       "        0], dtype=int64)"
      ]
     },
     "execution_count": 37,
     "metadata": {},
     "output_type": "execute_result"
    }
   ],
   "source": [
    "y_test_offen"
   ]
  },
  {
   "cell_type": "code",
   "execution_count": 40,
   "metadata": {},
   "outputs": [],
   "source": [
    "from sklearn.metrics import mean_squared_error\n",
    "\n",
    "rmse = mean_squared_error(y_test_offen, pred_rfc, squared=False)"
   ]
  },
  {
   "cell_type": "code",
   "execution_count": 41,
   "metadata": {},
   "outputs": [
    {
     "data": {
      "text/plain": [
       "21.174660563985434"
      ]
     },
     "execution_count": 41,
     "metadata": {},
     "output_type": "execute_result"
    }
   ],
   "source": [
    "rmse"
   ]
  },
  {
   "cell_type": "code",
   "execution_count": 156,
   "metadata": {},
   "outputs": [
    {
     "name": "stdout",
     "output_type": "stream",
     "text": [
      "              precision    recall  f1-score   support\n",
      "\n",
      "           0       0.48      0.96      0.64       329\n",
      "           1       0.00      0.00      0.00        31\n",
      "           2       0.00      0.00      0.00        27\n",
      "           3       0.00      0.00      0.00        42\n",
      "           4       0.50      0.02      0.05        41\n",
      "           5       0.00      0.00      0.00        28\n",
      "           6       0.00      0.00      0.00        18\n",
      "           7       0.00      0.00      0.00        15\n",
      "           8       0.00      0.00      0.00        10\n",
      "           9       1.00      0.14      0.25         7\n",
      "          10       0.25      0.12      0.17        16\n",
      "          11       0.00      0.00      0.00         5\n",
      "          12       0.00      0.00      0.00         8\n",
      "          13       0.00      0.00      0.00         9\n",
      "          14       0.00      0.00      0.00        10\n",
      "          15       0.00      0.00      0.00         7\n",
      "          16       0.00      0.00      0.00         4\n",
      "          17       0.00      0.00      0.00         8\n",
      "          18       0.00      0.00      0.00         4\n",
      "          19       0.00      0.00      0.00         3\n",
      "          20       0.00      0.00      0.00         3\n",
      "          21       0.00      0.00      0.00         6\n",
      "          22       0.00      0.00      0.00         4\n",
      "          23       0.00      0.00      0.00         2\n",
      "          24       0.00      0.00      0.00         7\n",
      "          25       0.00      0.00      0.00         3\n",
      "          26       0.00      0.00      0.00         6\n",
      "          27       0.00      0.00      0.00         2\n",
      "          28       0.00      0.00      0.00         7\n",
      "          29       0.00      0.00      0.00         3\n",
      "          30       0.00      0.00      0.00         5\n",
      "          31       0.00      0.00      0.00         5\n",
      "          32       0.00      0.00      0.00         1\n",
      "          33       0.00      0.00      0.00         2\n",
      "          34       0.00      0.00      0.00         5\n",
      "          35       0.00      0.00      0.00         3\n",
      "          36       0.00      0.00      0.00         5\n",
      "          37       1.00      0.25      0.40         4\n",
      "          38       0.00      0.00      0.00         3\n",
      "          39       0.00      0.00      0.00         1\n",
      "          40       0.00      0.00      0.00         3\n",
      "          41       0.00      0.00      0.00         2\n",
      "          42       0.00      0.00      0.00         4\n",
      "          43       0.00      0.00      0.00         2\n",
      "          44       0.00      0.00      0.00         2\n",
      "          45       0.00      0.00      0.00         3\n",
      "          46       0.00      0.00      0.00         7\n",
      "          47       0.00      0.00      0.00         4\n",
      "          49       0.00      0.00      0.00         0\n",
      "          50       0.00      0.00      0.00         1\n",
      "          51       0.00      0.00      0.00         3\n",
      "          52       0.00      0.00      0.00         5\n",
      "          53       0.00      0.00      0.00         3\n",
      "          54       0.00      0.00      0.00         8\n",
      "          55       0.00      0.00      0.00         2\n",
      "          56       0.00      0.00      0.00         3\n",
      "          57       0.00      0.00      0.00         3\n",
      "          59       0.00      0.00      0.00         5\n",
      "          61       0.00      0.00      0.00         0\n",
      "          62       0.00      0.00      0.00         1\n",
      "          63       0.00      0.00      0.00         0\n",
      "          64       0.00      0.00      0.00         1\n",
      "          65       0.00      0.00      0.00         3\n",
      "          66       0.00      0.00      0.00         1\n",
      "          67       0.00      0.00      0.00         0\n",
      "          68       0.00      0.00      0.00         2\n",
      "          69       0.00      0.00      0.00         4\n",
      "          70       0.00      0.00      0.00         0\n",
      "          71       0.00      0.00      0.00         1\n",
      "          72       0.00      0.00      0.00         1\n",
      "          73       0.00      0.00      0.00         2\n",
      "          74       0.00      0.00      0.00         2\n",
      "          75       0.00      0.00      0.00         4\n",
      "          77       0.00      0.00      0.00         1\n",
      "          78       0.00      0.00      0.00         1\n",
      "          79       0.00      0.00      0.00         0\n",
      "          80       0.00      0.00      0.00         3\n",
      "          81       0.00      0.00      0.00         1\n",
      "          82       0.00      0.00      0.00         2\n",
      "          83       0.00      0.00      0.00         0\n",
      "          84       0.00      0.00      0.00         1\n",
      "          86       0.00      0.00      0.00         3\n",
      "          90       0.00      0.00      0.00         1\n",
      "          91       0.00      0.00      0.00         1\n",
      "          92       0.00      0.00      0.00         1\n",
      "          93       0.00      0.00      0.00         1\n",
      "          94       0.00      0.00      0.00         2\n",
      "          97       0.00      0.00      0.00         1\n",
      "\n",
      "    accuracy                           0.40       800\n",
      "   macro avg       0.04      0.02      0.02       800\n",
      "weighted avg       0.24      0.40      0.27       800\n",
      "\n"
     ]
    },
    {
     "name": "stderr",
     "output_type": "stream",
     "text": [
      "C:\\Users\\User\\anaconda3\\lib\\site-packages\\sklearn\\metrics\\_classification.py:1221: UndefinedMetricWarning: Precision and F-score are ill-defined and being set to 0.0 in labels with no predicted samples. Use `zero_division` parameter to control this behavior.\n",
      "  _warn_prf(average, modifier, msg_start, len(result))\n",
      "C:\\Users\\User\\anaconda3\\lib\\site-packages\\sklearn\\metrics\\_classification.py:1221: UndefinedMetricWarning: Recall and F-score are ill-defined and being set to 0.0 in labels with no true samples. Use `zero_division` parameter to control this behavior.\n",
      "  _warn_prf(average, modifier, msg_start, len(result))\n"
     ]
    }
   ],
   "source": [
    "print(classification_report(y_test_offen, pred_rfc))"
   ]
  },
  {
   "cell_type": "code",
   "execution_count": 15,
   "metadata": {},
   "outputs": [],
   "source": [
    "from sklearn.neighbors import KNeighborsClassifier"
   ]
  },
  {
   "cell_type": "code",
   "execution_count": 23,
   "metadata": {},
   "outputs": [
    {
     "data": {
      "text/plain": [
       "KNeighborsClassifier()"
      ]
     },
     "execution_count": 23,
     "metadata": {},
     "output_type": "execute_result"
    }
   ],
   "source": [
    "knn = KNeighborsClassifier(n_neighbors = 5) #setting up the KNN model to use 5NN\n",
    "knn.fit(x_train_offen, y_train_offen) #fitting the KNN"
   ]
  },
  {
   "cell_type": "code",
   "execution_count": null,
   "metadata": {},
   "outputs": [],
   "source": [
    "knn.predict(x_test_offen)"
   ]
  },
  {
   "cell_type": "code",
   "execution_count": 26,
   "metadata": {},
   "outputs": [
    {
     "ename": "KeyboardInterrupt",
     "evalue": "",
     "output_type": "error",
     "traceback": [
      "\u001b[1;31m---------------------------------------------------------------------------\u001b[0m",
      "\u001b[1;31mKeyboardInterrupt\u001b[0m                         Traceback (most recent call last)",
      "\u001b[1;32m<ipython-input-26-83d0abbd43ca>\u001b[0m in \u001b[0;36m<module>\u001b[1;34m\u001b[0m\n\u001b[1;32m----> 1\u001b[1;33m \u001b[0mprint\u001b[0m\u001b[1;33m(\u001b[0m\u001b[1;34m\"knn\"\u001b[0m\u001b[1;33m,\u001b[0m\u001b[0mknn\u001b[0m\u001b[1;33m.\u001b[0m\u001b[0mpredict\u001b[0m\u001b[1;33m(\u001b[0m\u001b[0mx_test_offen\u001b[0m\u001b[1;33m)\u001b[0m\u001b[1;33m)\u001b[0m\u001b[1;33m\u001b[0m\u001b[1;33m\u001b[0m\u001b[0m\n\u001b[0m",
      "\u001b[1;32m~\\anaconda3\\lib\\site-packages\\sklearn\\neighbors\\_classification.py\u001b[0m in \u001b[0;36mpredict\u001b[1;34m(self, X)\u001b[0m\n\u001b[0;32m    173\u001b[0m         \u001b[0mX\u001b[0m \u001b[1;33m=\u001b[0m \u001b[0mcheck_array\u001b[0m\u001b[1;33m(\u001b[0m\u001b[0mX\u001b[0m\u001b[1;33m,\u001b[0m \u001b[0maccept_sparse\u001b[0m\u001b[1;33m=\u001b[0m\u001b[1;34m'csr'\u001b[0m\u001b[1;33m)\u001b[0m\u001b[1;33m\u001b[0m\u001b[1;33m\u001b[0m\u001b[0m\n\u001b[0;32m    174\u001b[0m \u001b[1;33m\u001b[0m\u001b[0m\n\u001b[1;32m--> 175\u001b[1;33m         \u001b[0mneigh_dist\u001b[0m\u001b[1;33m,\u001b[0m \u001b[0mneigh_ind\u001b[0m \u001b[1;33m=\u001b[0m \u001b[0mself\u001b[0m\u001b[1;33m.\u001b[0m\u001b[0mkneighbors\u001b[0m\u001b[1;33m(\u001b[0m\u001b[0mX\u001b[0m\u001b[1;33m)\u001b[0m\u001b[1;33m\u001b[0m\u001b[1;33m\u001b[0m\u001b[0m\n\u001b[0m\u001b[0;32m    176\u001b[0m         \u001b[0mclasses_\u001b[0m \u001b[1;33m=\u001b[0m \u001b[0mself\u001b[0m\u001b[1;33m.\u001b[0m\u001b[0mclasses_\u001b[0m\u001b[1;33m\u001b[0m\u001b[1;33m\u001b[0m\u001b[0m\n\u001b[0;32m    177\u001b[0m         \u001b[0m_y\u001b[0m \u001b[1;33m=\u001b[0m \u001b[0mself\u001b[0m\u001b[1;33m.\u001b[0m\u001b[0m_y\u001b[0m\u001b[1;33m\u001b[0m\u001b[1;33m\u001b[0m\u001b[0m\n",
      "\u001b[1;32m~\\anaconda3\\lib\\site-packages\\sklearn\\neighbors\\_base.py\u001b[0m in \u001b[0;36mkneighbors\u001b[1;34m(self, X, n_neighbors, return_distance)\u001b[0m\n\u001b[0;32m    660\u001b[0m                 \u001b[0mdelayed_query\u001b[0m \u001b[1;33m=\u001b[0m \u001b[0mdelayed\u001b[0m\u001b[1;33m(\u001b[0m\u001b[0m_tree_query_parallel_helper\u001b[0m\u001b[1;33m)\u001b[0m\u001b[1;33m\u001b[0m\u001b[1;33m\u001b[0m\u001b[0m\n\u001b[0;32m    661\u001b[0m                 \u001b[0mparallel_kwargs\u001b[0m \u001b[1;33m=\u001b[0m \u001b[1;33m{\u001b[0m\u001b[1;34m\"prefer\"\u001b[0m\u001b[1;33m:\u001b[0m \u001b[1;34m\"threads\"\u001b[0m\u001b[1;33m}\u001b[0m\u001b[1;33m\u001b[0m\u001b[1;33m\u001b[0m\u001b[0m\n\u001b[1;32m--> 662\u001b[1;33m             chunked_results = Parallel(n_jobs, **parallel_kwargs)(\n\u001b[0m\u001b[0;32m    663\u001b[0m                 delayed_query(\n\u001b[0;32m    664\u001b[0m                     self._tree, X[s], n_neighbors, return_distance)\n",
      "\u001b[1;32m~\\anaconda3\\lib\\site-packages\\joblib\\parallel.py\u001b[0m in \u001b[0;36m__call__\u001b[1;34m(self, iterable)\u001b[0m\n\u001b[0;32m   1027\u001b[0m             \u001b[1;31m# remaining jobs.\u001b[0m\u001b[1;33m\u001b[0m\u001b[1;33m\u001b[0m\u001b[1;33m\u001b[0m\u001b[0m\n\u001b[0;32m   1028\u001b[0m             \u001b[0mself\u001b[0m\u001b[1;33m.\u001b[0m\u001b[0m_iterating\u001b[0m \u001b[1;33m=\u001b[0m \u001b[1;32mFalse\u001b[0m\u001b[1;33m\u001b[0m\u001b[1;33m\u001b[0m\u001b[0m\n\u001b[1;32m-> 1029\u001b[1;33m             \u001b[1;32mif\u001b[0m \u001b[0mself\u001b[0m\u001b[1;33m.\u001b[0m\u001b[0mdispatch_one_batch\u001b[0m\u001b[1;33m(\u001b[0m\u001b[0miterator\u001b[0m\u001b[1;33m)\u001b[0m\u001b[1;33m:\u001b[0m\u001b[1;33m\u001b[0m\u001b[1;33m\u001b[0m\u001b[0m\n\u001b[0m\u001b[0;32m   1030\u001b[0m                 \u001b[0mself\u001b[0m\u001b[1;33m.\u001b[0m\u001b[0m_iterating\u001b[0m \u001b[1;33m=\u001b[0m \u001b[0mself\u001b[0m\u001b[1;33m.\u001b[0m\u001b[0m_original_iterator\u001b[0m \u001b[1;32mis\u001b[0m \u001b[1;32mnot\u001b[0m \u001b[1;32mNone\u001b[0m\u001b[1;33m\u001b[0m\u001b[1;33m\u001b[0m\u001b[0m\n\u001b[0;32m   1031\u001b[0m \u001b[1;33m\u001b[0m\u001b[0m\n",
      "\u001b[1;32m~\\anaconda3\\lib\\site-packages\\joblib\\parallel.py\u001b[0m in \u001b[0;36mdispatch_one_batch\u001b[1;34m(self, iterator)\u001b[0m\n\u001b[0;32m    845\u001b[0m                 \u001b[1;32mreturn\u001b[0m \u001b[1;32mFalse\u001b[0m\u001b[1;33m\u001b[0m\u001b[1;33m\u001b[0m\u001b[0m\n\u001b[0;32m    846\u001b[0m             \u001b[1;32melse\u001b[0m\u001b[1;33m:\u001b[0m\u001b[1;33m\u001b[0m\u001b[1;33m\u001b[0m\u001b[0m\n\u001b[1;32m--> 847\u001b[1;33m                 \u001b[0mself\u001b[0m\u001b[1;33m.\u001b[0m\u001b[0m_dispatch\u001b[0m\u001b[1;33m(\u001b[0m\u001b[0mtasks\u001b[0m\u001b[1;33m)\u001b[0m\u001b[1;33m\u001b[0m\u001b[1;33m\u001b[0m\u001b[0m\n\u001b[0m\u001b[0;32m    848\u001b[0m                 \u001b[1;32mreturn\u001b[0m \u001b[1;32mTrue\u001b[0m\u001b[1;33m\u001b[0m\u001b[1;33m\u001b[0m\u001b[0m\n\u001b[0;32m    849\u001b[0m \u001b[1;33m\u001b[0m\u001b[0m\n",
      "\u001b[1;32m~\\anaconda3\\lib\\site-packages\\joblib\\parallel.py\u001b[0m in \u001b[0;36m_dispatch\u001b[1;34m(self, batch)\u001b[0m\n\u001b[0;32m    763\u001b[0m         \u001b[1;32mwith\u001b[0m \u001b[0mself\u001b[0m\u001b[1;33m.\u001b[0m\u001b[0m_lock\u001b[0m\u001b[1;33m:\u001b[0m\u001b[1;33m\u001b[0m\u001b[1;33m\u001b[0m\u001b[0m\n\u001b[0;32m    764\u001b[0m             \u001b[0mjob_idx\u001b[0m \u001b[1;33m=\u001b[0m \u001b[0mlen\u001b[0m\u001b[1;33m(\u001b[0m\u001b[0mself\u001b[0m\u001b[1;33m.\u001b[0m\u001b[0m_jobs\u001b[0m\u001b[1;33m)\u001b[0m\u001b[1;33m\u001b[0m\u001b[1;33m\u001b[0m\u001b[0m\n\u001b[1;32m--> 765\u001b[1;33m             \u001b[0mjob\u001b[0m \u001b[1;33m=\u001b[0m \u001b[0mself\u001b[0m\u001b[1;33m.\u001b[0m\u001b[0m_backend\u001b[0m\u001b[1;33m.\u001b[0m\u001b[0mapply_async\u001b[0m\u001b[1;33m(\u001b[0m\u001b[0mbatch\u001b[0m\u001b[1;33m,\u001b[0m \u001b[0mcallback\u001b[0m\u001b[1;33m=\u001b[0m\u001b[0mcb\u001b[0m\u001b[1;33m)\u001b[0m\u001b[1;33m\u001b[0m\u001b[1;33m\u001b[0m\u001b[0m\n\u001b[0m\u001b[0;32m    766\u001b[0m             \u001b[1;31m# A job can complete so quickly than its callback is\u001b[0m\u001b[1;33m\u001b[0m\u001b[1;33m\u001b[0m\u001b[1;33m\u001b[0m\u001b[0m\n\u001b[0;32m    767\u001b[0m             \u001b[1;31m# called before we get here, causing self._jobs to\u001b[0m\u001b[1;33m\u001b[0m\u001b[1;33m\u001b[0m\u001b[1;33m\u001b[0m\u001b[0m\n",
      "\u001b[1;32m~\\anaconda3\\lib\\site-packages\\joblib\\_parallel_backends.py\u001b[0m in \u001b[0;36mapply_async\u001b[1;34m(self, func, callback)\u001b[0m\n\u001b[0;32m    206\u001b[0m     \u001b[1;32mdef\u001b[0m \u001b[0mapply_async\u001b[0m\u001b[1;33m(\u001b[0m\u001b[0mself\u001b[0m\u001b[1;33m,\u001b[0m \u001b[0mfunc\u001b[0m\u001b[1;33m,\u001b[0m \u001b[0mcallback\u001b[0m\u001b[1;33m=\u001b[0m\u001b[1;32mNone\u001b[0m\u001b[1;33m)\u001b[0m\u001b[1;33m:\u001b[0m\u001b[1;33m\u001b[0m\u001b[1;33m\u001b[0m\u001b[0m\n\u001b[0;32m    207\u001b[0m         \u001b[1;34m\"\"\"Schedule a func to be run\"\"\"\u001b[0m\u001b[1;33m\u001b[0m\u001b[1;33m\u001b[0m\u001b[0m\n\u001b[1;32m--> 208\u001b[1;33m         \u001b[0mresult\u001b[0m \u001b[1;33m=\u001b[0m \u001b[0mImmediateResult\u001b[0m\u001b[1;33m(\u001b[0m\u001b[0mfunc\u001b[0m\u001b[1;33m)\u001b[0m\u001b[1;33m\u001b[0m\u001b[1;33m\u001b[0m\u001b[0m\n\u001b[0m\u001b[0;32m    209\u001b[0m         \u001b[1;32mif\u001b[0m \u001b[0mcallback\u001b[0m\u001b[1;33m:\u001b[0m\u001b[1;33m\u001b[0m\u001b[1;33m\u001b[0m\u001b[0m\n\u001b[0;32m    210\u001b[0m             \u001b[0mcallback\u001b[0m\u001b[1;33m(\u001b[0m\u001b[0mresult\u001b[0m\u001b[1;33m)\u001b[0m\u001b[1;33m\u001b[0m\u001b[1;33m\u001b[0m\u001b[0m\n",
      "\u001b[1;32m~\\anaconda3\\lib\\site-packages\\joblib\\_parallel_backends.py\u001b[0m in \u001b[0;36m__init__\u001b[1;34m(self, batch)\u001b[0m\n\u001b[0;32m    570\u001b[0m         \u001b[1;31m# Don't delay the application, to avoid keeping the input\u001b[0m\u001b[1;33m\u001b[0m\u001b[1;33m\u001b[0m\u001b[1;33m\u001b[0m\u001b[0m\n\u001b[0;32m    571\u001b[0m         \u001b[1;31m# arguments in memory\u001b[0m\u001b[1;33m\u001b[0m\u001b[1;33m\u001b[0m\u001b[1;33m\u001b[0m\u001b[0m\n\u001b[1;32m--> 572\u001b[1;33m         \u001b[0mself\u001b[0m\u001b[1;33m.\u001b[0m\u001b[0mresults\u001b[0m \u001b[1;33m=\u001b[0m \u001b[0mbatch\u001b[0m\u001b[1;33m(\u001b[0m\u001b[1;33m)\u001b[0m\u001b[1;33m\u001b[0m\u001b[1;33m\u001b[0m\u001b[0m\n\u001b[0m\u001b[0;32m    573\u001b[0m \u001b[1;33m\u001b[0m\u001b[0m\n\u001b[0;32m    574\u001b[0m     \u001b[1;32mdef\u001b[0m \u001b[0mget\u001b[0m\u001b[1;33m(\u001b[0m\u001b[0mself\u001b[0m\u001b[1;33m)\u001b[0m\u001b[1;33m:\u001b[0m\u001b[1;33m\u001b[0m\u001b[1;33m\u001b[0m\u001b[0m\n",
      "\u001b[1;32m~\\anaconda3\\lib\\site-packages\\joblib\\parallel.py\u001b[0m in \u001b[0;36m__call__\u001b[1;34m(self)\u001b[0m\n\u001b[0;32m    250\u001b[0m         \u001b[1;31m# change the default number of processes to -1\u001b[0m\u001b[1;33m\u001b[0m\u001b[1;33m\u001b[0m\u001b[1;33m\u001b[0m\u001b[0m\n\u001b[0;32m    251\u001b[0m         \u001b[1;32mwith\u001b[0m \u001b[0mparallel_backend\u001b[0m\u001b[1;33m(\u001b[0m\u001b[0mself\u001b[0m\u001b[1;33m.\u001b[0m\u001b[0m_backend\u001b[0m\u001b[1;33m,\u001b[0m \u001b[0mn_jobs\u001b[0m\u001b[1;33m=\u001b[0m\u001b[0mself\u001b[0m\u001b[1;33m.\u001b[0m\u001b[0m_n_jobs\u001b[0m\u001b[1;33m)\u001b[0m\u001b[1;33m:\u001b[0m\u001b[1;33m\u001b[0m\u001b[1;33m\u001b[0m\u001b[0m\n\u001b[1;32m--> 252\u001b[1;33m             return [func(*args, **kwargs)\n\u001b[0m\u001b[0;32m    253\u001b[0m                     for func, args, kwargs in self.items]\n\u001b[0;32m    254\u001b[0m \u001b[1;33m\u001b[0m\u001b[0m\n",
      "\u001b[1;32m~\\anaconda3\\lib\\site-packages\\joblib\\parallel.py\u001b[0m in \u001b[0;36m<listcomp>\u001b[1;34m(.0)\u001b[0m\n\u001b[0;32m    250\u001b[0m         \u001b[1;31m# change the default number of processes to -1\u001b[0m\u001b[1;33m\u001b[0m\u001b[1;33m\u001b[0m\u001b[1;33m\u001b[0m\u001b[0m\n\u001b[0;32m    251\u001b[0m         \u001b[1;32mwith\u001b[0m \u001b[0mparallel_backend\u001b[0m\u001b[1;33m(\u001b[0m\u001b[0mself\u001b[0m\u001b[1;33m.\u001b[0m\u001b[0m_backend\u001b[0m\u001b[1;33m,\u001b[0m \u001b[0mn_jobs\u001b[0m\u001b[1;33m=\u001b[0m\u001b[0mself\u001b[0m\u001b[1;33m.\u001b[0m\u001b[0m_n_jobs\u001b[0m\u001b[1;33m)\u001b[0m\u001b[1;33m:\u001b[0m\u001b[1;33m\u001b[0m\u001b[1;33m\u001b[0m\u001b[0m\n\u001b[1;32m--> 252\u001b[1;33m             return [func(*args, **kwargs)\n\u001b[0m\u001b[0;32m    253\u001b[0m                     for func, args, kwargs in self.items]\n\u001b[0;32m    254\u001b[0m \u001b[1;33m\u001b[0m\u001b[0m\n",
      "\u001b[1;32m~\\anaconda3\\lib\\site-packages\\sklearn\\neighbors\\_base.py\u001b[0m in \u001b[0;36m_tree_query_parallel_helper\u001b[1;34m(tree, *args, **kwargs)\u001b[0m\n\u001b[0;32m    490\u001b[0m     \u001b[0munder\u001b[0m \u001b[0mPyPy\u001b[0m\u001b[1;33m.\u001b[0m\u001b[1;33m\u001b[0m\u001b[1;33m\u001b[0m\u001b[0m\n\u001b[0;32m    491\u001b[0m     \"\"\"\n\u001b[1;32m--> 492\u001b[1;33m     \u001b[1;32mreturn\u001b[0m \u001b[0mtree\u001b[0m\u001b[1;33m.\u001b[0m\u001b[0mquery\u001b[0m\u001b[1;33m(\u001b[0m\u001b[1;33m*\u001b[0m\u001b[0margs\u001b[0m\u001b[1;33m,\u001b[0m \u001b[1;33m**\u001b[0m\u001b[0mkwargs\u001b[0m\u001b[1;33m)\u001b[0m\u001b[1;33m\u001b[0m\u001b[1;33m\u001b[0m\u001b[0m\n\u001b[0m\u001b[0;32m    493\u001b[0m \u001b[1;33m\u001b[0m\u001b[0m\n\u001b[0;32m    494\u001b[0m \u001b[1;33m\u001b[0m\u001b[0m\n",
      "\u001b[1;31mKeyboardInterrupt\u001b[0m: "
     ]
    }
   ],
   "source": [
    "print(\"knn\",knn.predict(x_test_offen))"
   ]
  },
  {
   "cell_type": "code",
   "execution_count": null,
   "metadata": {},
   "outputs": [],
   "source": [
    "print(\"knn accuracy: \",knn.score(X_test,y_test_offen))"
   ]
  },
  {
   "cell_type": "code",
   "execution_count": 95,
   "metadata": {},
   "outputs": [],
   "source": [
    "from sklearn.linear_model import ElasticNet\n",
    "from sklearn.datasets import make_regression"
   ]
  },
  {
   "cell_type": "code",
   "execution_count": 103,
   "metadata": {},
   "outputs": [
    {
     "data": {
      "text/plain": [
       "0.7"
      ]
     },
     "execution_count": 103,
     "metadata": {},
     "output_type": "execute_result"
    }
   ],
   "source": []
  },
  {
   "cell_type": "code",
   "execution_count": 104,
   "metadata": {},
   "outputs": [
    {
     "data": {
      "text/plain": [
       "ElasticNet(random_state=0)"
      ]
     },
     "execution_count": 104,
     "metadata": {},
     "output_type": "execute_result"
    }
   ],
   "source": [
    "regr = ElasticNet(random_state=0)\n",
    "regr.fit(x_train_offening, y_train_offening)"
   ]
  },
  {
   "cell_type": "code",
   "execution_count": 106,
   "metadata": {},
   "outputs": [
    {
     "data": {
      "text/plain": [
       "array([0.57922222, 0.57922222, 0.57922222, 0.57922222, 0.57922222,\n",
       "       0.57922222, 0.57922222, 0.57922222, 0.57922222, 0.57922222,\n",
       "       0.57922222, 0.57922222, 0.57922222, 0.57922222, 0.57922222,\n",
       "       0.57922222, 0.57922222, 0.57922222, 0.57922222, 0.57922222,\n",
       "       0.57922222, 0.57922222, 0.57922222, 0.57922222, 0.57922222,\n",
       "       0.57922222, 0.57922222, 0.57922222, 0.57922222, 0.57922222,\n",
       "       0.57922222, 0.57922222, 0.57922222, 0.57922222, 0.57922222,\n",
       "       0.57922222, 0.57922222, 0.57922222, 0.57922222, 0.57922222,\n",
       "       0.57922222, 0.57922222, 0.57922222, 0.57922222, 0.57922222,\n",
       "       0.57922222, 0.57922222, 0.57922222, 0.57922222, 0.57922222,\n",
       "       0.57922222, 0.57922222, 0.57922222, 0.57922222, 0.57922222,\n",
       "       0.57922222, 0.57922222, 0.57922222, 0.57922222, 0.57922222,\n",
       "       0.57922222, 0.57922222, 0.57922222, 0.57922222, 0.57922222,\n",
       "       0.57922222, 0.57922222, 0.57922222, 0.57922222, 0.57922222,\n",
       "       0.57922222, 0.57922222, 0.57922222, 0.57922222, 0.57922222,\n",
       "       0.57922222, 0.57922222, 0.57922222, 0.57922222, 0.57922222,\n",
       "       0.57922222, 0.57922222, 0.57922222, 0.57922222, 0.57922222,\n",
       "       0.57922222, 0.57922222, 0.57922222, 0.57922222, 0.57922222,\n",
       "       0.57922222, 0.57922222, 0.57922222, 0.57922222, 0.57922222,\n",
       "       0.57922222, 0.57922222, 0.57922222, 0.57922222, 0.57922222,\n",
       "       0.57922222, 0.57922222, 0.57922222, 0.57922222, 0.57922222,\n",
       "       0.57922222, 0.57922222, 0.57922222, 0.57922222, 0.57922222,\n",
       "       0.57922222, 0.57922222, 0.57922222, 0.57922222, 0.57922222,\n",
       "       0.57922222, 0.57922222, 0.57922222, 0.57922222, 0.57922222,\n",
       "       0.57922222, 0.57922222, 0.57922222, 0.57922222, 0.57922222,\n",
       "       0.57922222, 0.57922222, 0.57922222, 0.57922222, 0.57922222,\n",
       "       0.57922222, 0.57922222, 0.57922222, 0.57922222, 0.57922222,\n",
       "       0.57922222, 0.57922222, 0.57922222, 0.57922222, 0.57922222,\n",
       "       0.57922222, 0.57922222, 0.57922222, 0.57922222, 0.57922222,\n",
       "       0.57922222, 0.57922222, 0.57922222, 0.57922222, 0.57922222,\n",
       "       0.57922222, 0.57922222, 0.57922222, 0.57922222, 0.57922222,\n",
       "       0.57922222, 0.57922222, 0.57922222, 0.57922222, 0.57922222,\n",
       "       0.57922222, 0.57922222, 0.57922222, 0.57922222, 0.57922222,\n",
       "       0.57922222, 0.57922222, 0.57922222, 0.57922222, 0.57922222,\n",
       "       0.57922222, 0.57922222, 0.57922222, 0.57922222, 0.57922222,\n",
       "       0.57922222, 0.57922222, 0.57922222, 0.57922222, 0.57922222,\n",
       "       0.57922222, 0.57922222, 0.57922222, 0.57922222, 0.57922222,\n",
       "       0.57922222, 0.57922222, 0.57922222, 0.57922222, 0.57922222,\n",
       "       0.57922222, 0.57922222, 0.57922222, 0.57922222, 0.57922222,\n",
       "       0.57922222, 0.57922222, 0.57922222, 0.57922222, 0.57922222,\n",
       "       0.57922222, 0.57922222, 0.57922222, 0.57922222, 0.57922222,\n",
       "       0.57922222, 0.57922222, 0.57922222, 0.57922222, 0.57922222,\n",
       "       0.57922222, 0.57922222, 0.57922222, 0.57922222, 0.57922222,\n",
       "       0.57922222, 0.57922222, 0.57922222, 0.57922222, 0.57922222,\n",
       "       0.57922222, 0.57922222, 0.57922222, 0.57922222, 0.57922222,\n",
       "       0.57922222, 0.57922222, 0.57922222, 0.57922222, 0.57922222,\n",
       "       0.57922222, 0.57922222, 0.57922222, 0.57922222, 0.57922222,\n",
       "       0.57922222, 0.57922222, 0.57922222, 0.57922222, 0.57922222,\n",
       "       0.57922222, 0.57922222, 0.57922222, 0.57922222, 0.57922222,\n",
       "       0.57922222, 0.57922222, 0.57922222, 0.57922222, 0.57922222,\n",
       "       0.57922222, 0.57922222, 0.57922222, 0.57922222, 0.57922222,\n",
       "       0.57922222, 0.57922222, 0.57922222, 0.57922222, 0.57922222,\n",
       "       0.57922222, 0.57922222, 0.57922222, 0.57922222, 0.57922222,\n",
       "       0.57922222, 0.57922222, 0.57922222, 0.57922222, 0.57922222,\n",
       "       0.57922222, 0.57922222, 0.57922222, 0.57922222, 0.57922222,\n",
       "       0.57922222, 0.57922222, 0.57922222, 0.57922222, 0.57922222,\n",
       "       0.57922222, 0.57922222, 0.57922222, 0.57922222, 0.57922222,\n",
       "       0.57922222, 0.57922222, 0.57922222, 0.57922222, 0.57922222,\n",
       "       0.57922222, 0.57922222, 0.57922222, 0.57922222, 0.57922222,\n",
       "       0.57922222, 0.57922222, 0.57922222, 0.57922222, 0.57922222,\n",
       "       0.57922222, 0.57922222, 0.57922222, 0.57922222, 0.57922222,\n",
       "       0.57922222, 0.57922222, 0.57922222, 0.57922222, 0.57922222,\n",
       "       0.57922222, 0.57922222, 0.57922222, 0.57922222, 0.57922222,\n",
       "       0.57922222, 0.57922222, 0.57922222, 0.57922222, 0.57922222,\n",
       "       0.57922222, 0.57922222, 0.57922222, 0.57922222, 0.57922222,\n",
       "       0.57922222, 0.57922222, 0.57922222, 0.57922222, 0.57922222,\n",
       "       0.57922222, 0.57922222, 0.57922222, 0.57922222, 0.57922222,\n",
       "       0.57922222, 0.57922222, 0.57922222, 0.57922222, 0.57922222,\n",
       "       0.57922222, 0.57922222, 0.57922222, 0.57922222, 0.57922222,\n",
       "       0.57922222, 0.57922222, 0.57922222, 0.57922222, 0.57922222,\n",
       "       0.57922222, 0.57922222, 0.57922222, 0.57922222, 0.57922222,\n",
       "       0.57922222, 0.57922222, 0.57922222, 0.57922222, 0.57922222,\n",
       "       0.57922222, 0.57922222, 0.57922222, 0.57922222, 0.57922222,\n",
       "       0.57922222, 0.57922222, 0.57922222, 0.57922222, 0.57922222,\n",
       "       0.57922222, 0.57922222, 0.57922222, 0.57922222, 0.57922222,\n",
       "       0.57922222, 0.57922222, 0.57922222, 0.57922222, 0.57922222,\n",
       "       0.57922222, 0.57922222, 0.57922222, 0.57922222, 0.57922222,\n",
       "       0.57922222, 0.57922222, 0.57922222, 0.57922222, 0.57922222,\n",
       "       0.57922222, 0.57922222, 0.57922222, 0.57922222, 0.57922222,\n",
       "       0.57922222, 0.57922222, 0.57922222, 0.57922222, 0.57922222,\n",
       "       0.57922222, 0.57922222, 0.57922222, 0.57922222, 0.57922222,\n",
       "       0.57922222, 0.57922222, 0.57922222, 0.57922222, 0.57922222,\n",
       "       0.57922222, 0.57922222, 0.57922222, 0.57922222, 0.57922222,\n",
       "       0.57922222, 0.57922222, 0.57922222, 0.57922222, 0.57922222,\n",
       "       0.57922222, 0.57922222, 0.57922222, 0.57922222, 0.57922222,\n",
       "       0.57922222, 0.57922222, 0.57922222, 0.57922222, 0.57922222,\n",
       "       0.57922222, 0.57922222, 0.57922222, 0.57922222, 0.57922222,\n",
       "       0.57922222, 0.57922222, 0.57922222, 0.57922222, 0.57922222,\n",
       "       0.57922222, 0.57922222, 0.57922222, 0.57922222, 0.57922222,\n",
       "       0.57922222, 0.57922222, 0.57922222, 0.57922222, 0.57922222,\n",
       "       0.57922222, 0.57922222, 0.57922222, 0.57922222, 0.57922222,\n",
       "       0.57922222, 0.57922222, 0.57922222, 0.57922222, 0.57922222,\n",
       "       0.57922222, 0.57922222, 0.57922222, 0.57922222, 0.57922222,\n",
       "       0.57922222, 0.57922222, 0.57922222, 0.57922222, 0.57922222,\n",
       "       0.57922222, 0.57922222, 0.57922222, 0.57922222, 0.57922222,\n",
       "       0.57922222, 0.57922222, 0.57922222, 0.57922222, 0.57922222,\n",
       "       0.57922222, 0.57922222, 0.57922222, 0.57922222, 0.57922222,\n",
       "       0.57922222, 0.57922222, 0.57922222, 0.57922222, 0.57922222,\n",
       "       0.57922222, 0.57922222, 0.57922222, 0.57922222, 0.57922222,\n",
       "       0.57922222, 0.57922222, 0.57922222, 0.57922222, 0.57922222,\n",
       "       0.57922222, 0.57922222, 0.57922222, 0.57922222, 0.57922222,\n",
       "       0.57922222, 0.57922222, 0.57922222, 0.57922222, 0.57922222,\n",
       "       0.57922222, 0.57922222, 0.57922222, 0.57922222, 0.57922222,\n",
       "       0.57922222, 0.57922222, 0.57922222, 0.57922222, 0.57922222,\n",
       "       0.57922222, 0.57922222, 0.57922222, 0.57922222, 0.57922222,\n",
       "       0.57922222, 0.57922222, 0.57922222, 0.57922222, 0.57922222,\n",
       "       0.57922222, 0.57922222, 0.57922222, 0.57922222, 0.57922222,\n",
       "       0.57922222, 0.57922222, 0.57922222, 0.57922222, 0.57922222,\n",
       "       0.57922222, 0.57922222, 0.57922222, 0.57922222, 0.57922222,\n",
       "       0.57922222, 0.57922222, 0.57922222, 0.57922222, 0.57922222,\n",
       "       0.57922222, 0.57922222, 0.57922222, 0.57922222, 0.57922222,\n",
       "       0.57922222, 0.57922222, 0.57922222, 0.57922222, 0.57922222,\n",
       "       0.57922222, 0.57922222, 0.57922222, 0.57922222, 0.57922222,\n",
       "       0.57922222, 0.57922222, 0.57922222, 0.57922222, 0.57922222,\n",
       "       0.57922222, 0.57922222, 0.57922222, 0.57922222, 0.57922222,\n",
       "       0.57922222, 0.57922222, 0.57922222, 0.57922222, 0.57922222,\n",
       "       0.57922222, 0.57922222, 0.57922222, 0.57922222, 0.57922222,\n",
       "       0.57922222, 0.57922222, 0.57922222, 0.57922222, 0.57922222,\n",
       "       0.57922222, 0.57922222, 0.57922222, 0.57922222, 0.57922222,\n",
       "       0.57922222, 0.57922222, 0.57922222, 0.57922222, 0.57922222,\n",
       "       0.57922222, 0.57922222, 0.57922222, 0.57922222, 0.57922222,\n",
       "       0.57922222, 0.57922222, 0.57922222, 0.57922222, 0.57922222,\n",
       "       0.57922222, 0.57922222, 0.57922222, 0.57922222, 0.57922222,\n",
       "       0.57922222, 0.57922222, 0.57922222, 0.57922222, 0.57922222,\n",
       "       0.57922222, 0.57922222, 0.57922222, 0.57922222, 0.57922222,\n",
       "       0.57922222, 0.57922222, 0.57922222, 0.57922222, 0.57922222,\n",
       "       0.57922222, 0.57922222, 0.57922222, 0.57922222, 0.57922222,\n",
       "       0.57922222, 0.57922222, 0.57922222, 0.57922222, 0.57922222,\n",
       "       0.57922222, 0.57922222, 0.57922222, 0.57922222, 0.57922222,\n",
       "       0.57922222, 0.57922222, 0.57922222, 0.57922222, 0.57922222,\n",
       "       0.57922222, 0.57922222, 0.57922222, 0.57922222, 0.57922222,\n",
       "       0.57922222, 0.57922222, 0.57922222, 0.57922222, 0.57922222,\n",
       "       0.57922222, 0.57922222, 0.57922222, 0.57922222, 0.57922222,\n",
       "       0.57922222, 0.57922222, 0.57922222, 0.57922222, 0.57922222,\n",
       "       0.57922222, 0.57922222, 0.57922222, 0.57922222, 0.57922222,\n",
       "       0.57922222, 0.57922222, 0.57922222, 0.57922222, 0.57922222,\n",
       "       0.57922222, 0.57922222, 0.57922222, 0.57922222, 0.57922222,\n",
       "       0.57922222, 0.57922222, 0.57922222, 0.57922222, 0.57922222,\n",
       "       0.57922222, 0.57922222, 0.57922222, 0.57922222, 0.57922222,\n",
       "       0.57922222, 0.57922222, 0.57922222, 0.57922222, 0.57922222,\n",
       "       0.57922222, 0.57922222, 0.57922222, 0.57922222, 0.57922222,\n",
       "       0.57922222, 0.57922222, 0.57922222, 0.57922222, 0.57922222,\n",
       "       0.57922222, 0.57922222, 0.57922222, 0.57922222, 0.57922222,\n",
       "       0.57922222, 0.57922222, 0.57922222, 0.57922222, 0.57922222,\n",
       "       0.57922222, 0.57922222, 0.57922222, 0.57922222, 0.57922222,\n",
       "       0.57922222, 0.57922222, 0.57922222, 0.57922222, 0.57922222,\n",
       "       0.57922222, 0.57922222, 0.57922222, 0.57922222, 0.57922222,\n",
       "       0.57922222, 0.57922222, 0.57922222, 0.57922222, 0.57922222,\n",
       "       0.57922222, 0.57922222, 0.57922222, 0.57922222, 0.57922222,\n",
       "       0.57922222, 0.57922222, 0.57922222, 0.57922222, 0.57922222,\n",
       "       0.57922222, 0.57922222, 0.57922222, 0.57922222, 0.57922222,\n",
       "       0.57922222, 0.57922222, 0.57922222, 0.57922222, 0.57922222,\n",
       "       0.57922222, 0.57922222, 0.57922222, 0.57922222, 0.57922222,\n",
       "       0.57922222, 0.57922222, 0.57922222, 0.57922222, 0.57922222,\n",
       "       0.57922222, 0.57922222, 0.57922222, 0.57922222, 0.57922222,\n",
       "       0.57922222, 0.57922222, 0.57922222, 0.57922222, 0.57922222,\n",
       "       0.57922222, 0.57922222, 0.57922222, 0.57922222, 0.57922222,\n",
       "       0.57922222, 0.57922222, 0.57922222, 0.57922222, 0.57922222,\n",
       "       0.57922222, 0.57922222, 0.57922222, 0.57922222, 0.57922222,\n",
       "       0.57922222, 0.57922222, 0.57922222, 0.57922222, 0.57922222])"
      ]
     },
     "execution_count": 106,
     "metadata": {},
     "output_type": "execute_result"
    }
   ],
   "source": [
    "regr_pred"
   ]
  },
  {
   "cell_type": "code",
   "execution_count": null,
   "metadata": {},
   "outputs": [],
   "source": []
  },
  {
   "cell_type": "code",
   "execution_count": 101,
   "metadata": {},
   "outputs": [
    {
     "name": "stdout",
     "output_type": "stream",
     "text": [
      "accuracy:  -0.003378154383479881\n"
     ]
    }
   ],
   "source": [
    "print(\"accuracy: \",regr.score(x_test_offening,y_test_offening))"
   ]
  },
  {
   "cell_type": "code",
   "execution_count": 125,
   "metadata": {},
   "outputs": [
    {
     "data": {
      "text/plain": [
       "Ridge()"
      ]
     },
     "execution_count": 125,
     "metadata": {},
     "output_type": "execute_result"
    }
   ],
   "source": [
    "from sklearn.linear_model import Ridge\n",
    ">>> import numpy as np\n",
    ">>> clf = Ridge(alpha=1.0)\n",
    ">>> clf.fit(x_train_offening, y_train_offening)\n",
    "Ridge()"
   ]
  },
  {
   "cell_type": "code",
   "execution_count": 139,
   "metadata": {},
   "outputs": [],
   "source": [
    "import lightgbm as lgb\n",
    "lgb_train=lgb.Dataset(x_train_offening, y_train_offening)"
   ]
  },
  {
   "cell_type": "code",
   "execution_count": 153,
   "metadata": {},
   "outputs": [],
   "source": [
    "import numpy as np\n",
    "\n",
    "from scipy.stats import uniform, randint\n",
    "\n",
    "from sklearn.datasets import load_breast_cancer, load_diabetes, load_wine\n",
    "from sklearn.metrics import auc, accuracy_score, confusion_matrix, mean_squared_error\n",
    "from sklearn.model_selection import cross_val_score, GridSearchCV, KFold, RandomizedSearchCV, train_test_split\n",
    "\n",
    "import xgboost as xgb"
   ]
  },
  {
   "cell_type": "code",
   "execution_count": 152,
   "metadata": {},
   "outputs": [
    {
     "name": "stdout",
     "output_type": "stream",
     "text": [
      "Collecting xgboost\n",
      "  Downloading xgboost-1.2.1-py3-none-win_amd64.whl (86.5 MB)\n",
      "Requirement already satisfied: numpy in c:\\users\\user\\anaconda3\\lib\\site-packages (from xgboost) (1.18.5)\n",
      "Requirement already satisfied: scipy in c:\\users\\user\\anaconda3\\lib\\site-packages (from xgboost) (1.5.0)\n",
      "Installing collected packages: xgboost\n",
      "Successfully installed xgboost-1.2.1\n"
     ]
    }
   ],
   "source": [
    "!pip install xgboost"
   ]
  },
  {
   "cell_type": "code",
   "execution_count": 154,
   "metadata": {},
   "outputs": [
    {
     "name": "stdout",
     "output_type": "stream",
     "text": [
      "[20:04:04] WARNING: C:/Users/Administrator/workspace/xgboost-win64_release_1.2.0/src/objective/regression_obj.cu:174: reg:linear is now deprecated in favor of reg:squarederror.\n",
      "[20:07:37] WARNING: C:/Users/Administrator/workspace/xgboost-win64_release_1.2.0/src/objective/regression_obj.cu:174: reg:linear is now deprecated in favor of reg:squarederror.\n",
      "0.7372343878828921\n"
     ]
    }
   ],
   "source": [
    "xgb_model = xgb.XGBRegressor(objective=\"reg:linear\", random_state=42)\n",
    "\n",
    "xgb_model.fit(x_train_offening, y_train_offening)\n",
    "\n",
    "y_pred = xgb_model.predict(x_test_offening)\n",
    "\n",
    "mse=mean_squared_error( y_test_offening, y_pred)\n",
    "\n",
    "print(np.sqrt(mse))"
   ]
  },
  {
   "cell_type": "code",
   "execution_count": 156,
   "metadata": {},
   "outputs": [
    {
     "name": "stdout",
     "output_type": "stream",
     "text": [
      "[20:18:44] WARNING: C:/Users/Administrator/workspace/xgboost-win64_release_1.2.0/src/objective/regression_obj.cu:174: reg:linear is now deprecated in favor of reg:squarederror.\n",
      "[20:41:20] WARNING: C:/Users/Administrator/workspace/xgboost-win64_release_1.2.0/src/objective/regression_obj.cu:174: reg:linear is now deprecated in favor of reg:squarederror.\n",
      "0.7713949977766794\n"
     ]
    }
   ],
   "source": [
    "xgb2_model =xgb.XGBRegressor(learning_rate =0.1,\n",
    " n_estimators=1000,\n",
    " max_depth=4,\n",
    " min_child_weight=6,\n",
    " gamma=0,\n",
    " subsample=0.8,\n",
    " colsample_bytree=0.8,\n",
    " objective=\"reg:linear\",\n",
    " nthread=4,\n",
    " scale_pos_weight=1,\n",
    " seed=27)\n",
    "xgb2_model.fit(x_train_offening, y_train_offening)\n",
    "\n",
    "y_pred = xgb2_model.predict(x_test_offening)\n",
    "\n",
    "mse=mean_squared_error( y_test_offening, y_pred)\n",
    "\n",
    "print(np.sqrt(mse))"
   ]
  },
  {
   "cell_type": "code",
   "execution_count": 148,
   "metadata": {},
   "outputs": [
    {
     "name": "stdout",
     "output_type": "stream",
     "text": [
      "Starting training...\n",
      "[1]\tvalid_0's rmse: 1.04764\n",
      "Training until validation scores don't improve for 10 rounds\n",
      "[2]\tvalid_0's rmse: 1.04377\n",
      "[3]\tvalid_0's rmse: 1.03958\n",
      "[4]\tvalid_0's rmse: 1.03553\n",
      "[5]\tvalid_0's rmse: 1.03218\n",
      "[6]\tvalid_0's rmse: 1.02819\n",
      "[7]\tvalid_0's rmse: 1.02447\n",
      "[8]\tvalid_0's rmse: 1.02066\n",
      "[9]\tvalid_0's rmse: 1.01695\n",
      "[10]\tvalid_0's rmse: 1.01344\n",
      "[11]\tvalid_0's rmse: 1.01016\n",
      "[12]\tvalid_0's rmse: 1.00681\n",
      "[13]\tvalid_0's rmse: 1.00348\n",
      "[14]\tvalid_0's rmse: 1.00044\n",
      "[15]\tvalid_0's rmse: 0.997479\n",
      "[16]\tvalid_0's rmse: 0.994305\n",
      "[17]\tvalid_0's rmse: 0.991499\n",
      "[18]\tvalid_0's rmse: 0.988446\n",
      "[19]\tvalid_0's rmse: 0.98576\n",
      "[20]\tvalid_0's rmse: 0.98285\n",
      "[21]\tvalid_0's rmse: 0.980284\n",
      "[22]\tvalid_0's rmse: 0.977764\n",
      "[23]\tvalid_0's rmse: 0.975159\n",
      "[24]\tvalid_0's rmse: 0.972642\n",
      "[25]\tvalid_0's rmse: 0.970069\n",
      "[26]\tvalid_0's rmse: 0.967603\n",
      "[27]\tvalid_0's rmse: 0.965585\n",
      "[28]\tvalid_0's rmse: 0.963433\n",
      "[29]\tvalid_0's rmse: 0.961326\n",
      "[30]\tvalid_0's rmse: 0.959469\n",
      "[31]\tvalid_0's rmse: 0.957076\n",
      "[32]\tvalid_0's rmse: 0.954719\n",
      "[33]\tvalid_0's rmse: 0.952446\n",
      "[34]\tvalid_0's rmse: 0.951178\n",
      "[35]\tvalid_0's rmse: 0.948887\n",
      "[36]\tvalid_0's rmse: 0.947131\n",
      "[37]\tvalid_0's rmse: 0.945275\n",
      "[38]\tvalid_0's rmse: 0.943398\n",
      "[39]\tvalid_0's rmse: 0.941575\n",
      "[40]\tvalid_0's rmse: 0.939743\n",
      "[41]\tvalid_0's rmse: 0.937794\n",
      "[42]\tvalid_0's rmse: 0.93668\n",
      "[43]\tvalid_0's rmse: 0.934795\n",
      "[44]\tvalid_0's rmse: 0.933252\n",
      "[45]\tvalid_0's rmse: 0.931694\n",
      "[46]\tvalid_0's rmse: 0.929969\n",
      "[47]\tvalid_0's rmse: 0.928286\n",
      "[48]\tvalid_0's rmse: 0.92667\n",
      "[49]\tvalid_0's rmse: 0.925098\n",
      "[50]\tvalid_0's rmse: 0.92361\n",
      "[51]\tvalid_0's rmse: 0.922526\n",
      "[52]\tvalid_0's rmse: 0.921251\n",
      "[53]\tvalid_0's rmse: 0.920506\n",
      "[54]\tvalid_0's rmse: 0.919067\n",
      "[55]\tvalid_0's rmse: 0.917724\n",
      "[56]\tvalid_0's rmse: 0.916353\n",
      "[57]\tvalid_0's rmse: 0.9152\n",
      "[58]\tvalid_0's rmse: 0.913952\n",
      "[59]\tvalid_0's rmse: 0.912711\n",
      "[60]\tvalid_0's rmse: 0.911495\n",
      "[61]\tvalid_0's rmse: 0.909993\n",
      "[62]\tvalid_0's rmse: 0.908645\n",
      "[63]\tvalid_0's rmse: 0.907984\n",
      "[64]\tvalid_0's rmse: 0.906665\n",
      "[65]\tvalid_0's rmse: 0.905391\n",
      "[66]\tvalid_0's rmse: 0.904457\n",
      "[67]\tvalid_0's rmse: 0.903503\n",
      "[68]\tvalid_0's rmse: 0.902484\n",
      "[69]\tvalid_0's rmse: 0.90163\n",
      "[70]\tvalid_0's rmse: 0.900694\n",
      "[71]\tvalid_0's rmse: 0.899512\n",
      "[72]\tvalid_0's rmse: 0.898521\n",
      "[73]\tvalid_0's rmse: 0.897384\n",
      "[74]\tvalid_0's rmse: 0.896243\n",
      "[75]\tvalid_0's rmse: 0.895423\n",
      "[76]\tvalid_0's rmse: 0.894362\n",
      "[77]\tvalid_0's rmse: 0.893356\n",
      "[78]\tvalid_0's rmse: 0.892414\n",
      "[79]\tvalid_0's rmse: 0.89147\n",
      "[80]\tvalid_0's rmse: 0.890451\n",
      "[81]\tvalid_0's rmse: 0.889655\n",
      "[82]\tvalid_0's rmse: 0.889112\n",
      "[83]\tvalid_0's rmse: 0.88831\n",
      "[84]\tvalid_0's rmse: 0.887536\n",
      "[85]\tvalid_0's rmse: 0.886777\n",
      "[86]\tvalid_0's rmse: 0.886263\n",
      "[87]\tvalid_0's rmse: 0.885693\n",
      "[88]\tvalid_0's rmse: 0.885108\n",
      "[89]\tvalid_0's rmse: 0.88451\n",
      "[90]\tvalid_0's rmse: 0.884034\n",
      "[91]\tvalid_0's rmse: 0.883204\n",
      "[92]\tvalid_0's rmse: 0.88247\n",
      "[93]\tvalid_0's rmse: 0.881667\n",
      "[94]\tvalid_0's rmse: 0.880989\n",
      "[95]\tvalid_0's rmse: 0.880414\n",
      "[96]\tvalid_0's rmse: 0.879903\n",
      "[97]\tvalid_0's rmse: 0.879175\n",
      "[98]\tvalid_0's rmse: 0.878738\n",
      "[99]\tvalid_0's rmse: 0.878032\n",
      "[100]\tvalid_0's rmse: 0.877632\n",
      "[101]\tvalid_0's rmse: 0.87705\n",
      "[102]\tvalid_0's rmse: 0.876552\n",
      "[103]\tvalid_0's rmse: 0.875995\n",
      "[104]\tvalid_0's rmse: 0.875417\n",
      "[105]\tvalid_0's rmse: 0.874941\n",
      "[106]\tvalid_0's rmse: 0.874269\n",
      "[107]\tvalid_0's rmse: 0.873991\n",
      "[108]\tvalid_0's rmse: 0.873447\n",
      "[109]\tvalid_0's rmse: 0.872925\n",
      "[110]\tvalid_0's rmse: 0.872325\n",
      "[111]\tvalid_0's rmse: 0.87196\n",
      "[112]\tvalid_0's rmse: 0.87159\n",
      "[113]\tvalid_0's rmse: 0.871216\n",
      "[114]\tvalid_0's rmse: 0.870877\n",
      "[115]\tvalid_0's rmse: 0.870517\n",
      "[116]\tvalid_0's rmse: 0.870168\n",
      "[117]\tvalid_0's rmse: 0.869818\n",
      "[118]\tvalid_0's rmse: 0.869489\n",
      "[119]\tvalid_0's rmse: 0.869226\n",
      "[120]\tvalid_0's rmse: 0.868965\n",
      "[121]\tvalid_0's rmse: 0.868497\n",
      "[122]\tvalid_0's rmse: 0.867982\n",
      "[123]\tvalid_0's rmse: 0.867493\n",
      "[124]\tvalid_0's rmse: 0.867093\n",
      "[125]\tvalid_0's rmse: 0.866592\n",
      "[126]\tvalid_0's rmse: 0.866084\n",
      "[127]\tvalid_0's rmse: 0.865806\n",
      "[128]\tvalid_0's rmse: 0.865299\n",
      "[129]\tvalid_0's rmse: 0.864769\n",
      "[130]\tvalid_0's rmse: 0.864402\n",
      "[131]\tvalid_0's rmse: 0.863878\n",
      "[132]\tvalid_0's rmse: 0.863233\n",
      "[133]\tvalid_0's rmse: 0.862742\n",
      "[134]\tvalid_0's rmse: 0.862497\n",
      "[135]\tvalid_0's rmse: 0.861987\n",
      "[136]\tvalid_0's rmse: 0.861657\n",
      "[137]\tvalid_0's rmse: 0.861365\n",
      "[138]\tvalid_0's rmse: 0.861006\n",
      "[139]\tvalid_0's rmse: 0.860699\n",
      "[140]\tvalid_0's rmse: 0.860275\n",
      "[141]\tvalid_0's rmse: 0.859873\n",
      "[142]\tvalid_0's rmse: 0.859543\n",
      "[143]\tvalid_0's rmse: 0.85919\n",
      "[144]\tvalid_0's rmse: 0.85886\n",
      "[145]\tvalid_0's rmse: 0.858525\n",
      "[146]\tvalid_0's rmse: 0.858253\n",
      "[147]\tvalid_0's rmse: 0.857879\n",
      "[148]\tvalid_0's rmse: 0.857498\n",
      "[149]\tvalid_0's rmse: 0.857139\n",
      "[150]\tvalid_0's rmse: 0.85679\n",
      "[151]\tvalid_0's rmse: 0.856427\n",
      "[152]\tvalid_0's rmse: 0.856215\n",
      "[153]\tvalid_0's rmse: 0.855882\n",
      "[154]\tvalid_0's rmse: 0.855598\n",
      "[155]\tvalid_0's rmse: 0.855314\n",
      "[156]\tvalid_0's rmse: 0.855087\n",
      "[157]\tvalid_0's rmse: 0.854766\n",
      "[158]\tvalid_0's rmse: 0.854429\n",
      "[159]\tvalid_0's rmse: 0.854126\n",
      "[160]\tvalid_0's rmse: 0.853851\n",
      "[161]\tvalid_0's rmse: 0.853504\n",
      "[162]\tvalid_0's rmse: 0.853252\n",
      "[163]\tvalid_0's rmse: 0.853149\n",
      "[164]\tvalid_0's rmse: 0.852932\n",
      "[165]\tvalid_0's rmse: 0.852708\n",
      "[166]\tvalid_0's rmse: 0.85238\n",
      "[167]\tvalid_0's rmse: 0.852121\n",
      "[168]\tvalid_0's rmse: 0.85179\n",
      "[169]\tvalid_0's rmse: 0.851544\n",
      "[170]\tvalid_0's rmse: 0.851185\n",
      "[171]\tvalid_0's rmse: 0.850928\n",
      "[172]\tvalid_0's rmse: 0.850677\n",
      "[173]\tvalid_0's rmse: 0.850352\n",
      "[174]\tvalid_0's rmse: 0.850115\n",
      "[175]\tvalid_0's rmse: 0.850026\n",
      "[176]\tvalid_0's rmse: 0.849809\n",
      "[177]\tvalid_0's rmse: 0.84956\n",
      "[178]\tvalid_0's rmse: 0.849335\n",
      "[179]\tvalid_0's rmse: 0.84911\n",
      "[180]\tvalid_0's rmse: 0.84898\n",
      "[181]\tvalid_0's rmse: 0.848779\n",
      "[182]\tvalid_0's rmse: 0.848609\n",
      "[183]\tvalid_0's rmse: 0.84841\n",
      "[184]\tvalid_0's rmse: 0.848253\n",
      "[185]\tvalid_0's rmse: 0.847991\n",
      "[186]\tvalid_0's rmse: 0.847951\n",
      "[187]\tvalid_0's rmse: 0.847854\n",
      "[188]\tvalid_0's rmse: 0.84767\n",
      "[189]\tvalid_0's rmse: 0.847601\n",
      "[190]\tvalid_0's rmse: 0.847394\n",
      "[191]\tvalid_0's rmse: 0.847291\n",
      "[192]\tvalid_0's rmse: 0.847075\n",
      "[193]\tvalid_0's rmse: 0.846922\n",
      "[194]\tvalid_0's rmse: 0.846814\n",
      "[195]\tvalid_0's rmse: 0.846646\n",
      "[196]\tvalid_0's rmse: 0.846288\n",
      "[197]\tvalid_0's rmse: 0.845988\n",
      "[198]\tvalid_0's rmse: 0.845633\n",
      "[199]\tvalid_0's rmse: 0.845247\n",
      "[200]\tvalid_0's rmse: 0.844848\n",
      "[201]\tvalid_0's rmse: 0.844667\n",
      "[202]\tvalid_0's rmse: 0.844452\n",
      "[203]\tvalid_0's rmse: 0.844259\n",
      "[204]\tvalid_0's rmse: 0.84405\n",
      "[205]\tvalid_0's rmse: 0.843912\n",
      "[206]\tvalid_0's rmse: 0.843805\n",
      "[207]\tvalid_0's rmse: 0.843519\n",
      "[208]\tvalid_0's rmse: 0.843368\n",
      "[209]\tvalid_0's rmse: 0.843258\n",
      "[210]\tvalid_0's rmse: 0.843074\n",
      "[211]\tvalid_0's rmse: 0.84296\n",
      "[212]\tvalid_0's rmse: 0.842843\n",
      "[213]\tvalid_0's rmse: 0.842754\n",
      "[214]\tvalid_0's rmse: 0.842658\n",
      "[215]\tvalid_0's rmse: 0.842525\n",
      "[216]\tvalid_0's rmse: 0.842358\n",
      "[217]\tvalid_0's rmse: 0.842187\n",
      "[218]\tvalid_0's rmse: 0.841951\n",
      "[219]\tvalid_0's rmse: 0.841688\n",
      "[220]\tvalid_0's rmse: 0.841429\n",
      "[221]\tvalid_0's rmse: 0.841333\n",
      "[222]\tvalid_0's rmse: 0.840966\n",
      "[223]\tvalid_0's rmse: 0.840642\n",
      "[224]\tvalid_0's rmse: 0.840335\n",
      "[225]\tvalid_0's rmse: 0.840003\n",
      "[226]\tvalid_0's rmse: 0.839847\n",
      "[227]\tvalid_0's rmse: 0.839619\n",
      "[228]\tvalid_0's rmse: 0.839464\n",
      "[229]\tvalid_0's rmse: 0.839269\n",
      "[230]\tvalid_0's rmse: 0.839095\n",
      "[231]\tvalid_0's rmse: 0.838799\n",
      "[232]\tvalid_0's rmse: 0.838563\n",
      "[233]\tvalid_0's rmse: 0.838327\n",
      "[234]\tvalid_0's rmse: 0.838196\n",
      "[235]\tvalid_0's rmse: 0.837992\n",
      "[236]\tvalid_0's rmse: 0.837988\n",
      "[237]\tvalid_0's rmse: 0.837867\n",
      "[238]\tvalid_0's rmse: 0.837789\n",
      "[239]\tvalid_0's rmse: 0.837716\n",
      "[240]\tvalid_0's rmse: 0.837612\n",
      "[241]\tvalid_0's rmse: 0.837445\n",
      "[242]\tvalid_0's rmse: 0.837295\n",
      "[243]\tvalid_0's rmse: 0.837221\n",
      "[244]\tvalid_0's rmse: 0.837152\n",
      "[245]\tvalid_0's rmse: 0.836983\n",
      "[246]\tvalid_0's rmse: 0.836943\n",
      "[247]\tvalid_0's rmse: 0.836807\n",
      "[248]\tvalid_0's rmse: 0.836745\n",
      "[249]\tvalid_0's rmse: 0.836639\n",
      "[250]\tvalid_0's rmse: 0.836525\n",
      "[251]\tvalid_0's rmse: 0.836338\n",
      "[252]\tvalid_0's rmse: 0.836279\n",
      "[253]\tvalid_0's rmse: 0.836154\n",
      "[254]\tvalid_0's rmse: 0.836003\n",
      "[255]\tvalid_0's rmse: 0.835919\n",
      "[256]\tvalid_0's rmse: 0.835879\n",
      "[257]\tvalid_0's rmse: 0.835727\n",
      "[258]\tvalid_0's rmse: 0.835719\n",
      "[259]\tvalid_0's rmse: 0.835629\n",
      "[260]\tvalid_0's rmse: 0.835479\n",
      "[261]\tvalid_0's rmse: 0.835321\n",
      "[262]\tvalid_0's rmse: 0.835277\n",
      "[263]\tvalid_0's rmse: 0.83514\n",
      "[264]\tvalid_0's rmse: 0.834995\n",
      "[265]\tvalid_0's rmse: 0.834925\n",
      "[266]\tvalid_0's rmse: 0.834876\n",
      "[267]\tvalid_0's rmse: 0.834833\n",
      "[268]\tvalid_0's rmse: 0.834786\n",
      "[269]\tvalid_0's rmse: 0.834705\n",
      "[270]\tvalid_0's rmse: 0.834653\n",
      "[271]\tvalid_0's rmse: 0.834567\n",
      "[272]\tvalid_0's rmse: 0.834384\n",
      "[273]\tvalid_0's rmse: 0.834285\n",
      "[274]\tvalid_0's rmse: 0.834157\n",
      "[275]\tvalid_0's rmse: 0.834054\n",
      "[276]\tvalid_0's rmse: 0.834006\n",
      "[277]\tvalid_0's rmse: 0.833883\n",
      "[278]\tvalid_0's rmse: 0.833839\n",
      "[279]\tvalid_0's rmse: 0.833724\n",
      "[280]\tvalid_0's rmse: 0.833789\n",
      "[281]\tvalid_0's rmse: 0.833806\n",
      "[282]\tvalid_0's rmse: 0.833757\n",
      "[283]\tvalid_0's rmse: 0.833727\n",
      "[284]\tvalid_0's rmse: 0.833651\n",
      "[285]\tvalid_0's rmse: 0.833536\n",
      "[286]\tvalid_0's rmse: 0.83338\n",
      "[287]\tvalid_0's rmse: 0.83329\n",
      "[288]\tvalid_0's rmse: 0.833127\n",
      "[289]\tvalid_0's rmse: 0.83298\n",
      "[290]\tvalid_0's rmse: 0.832861\n",
      "[291]\tvalid_0's rmse: 0.832746\n",
      "[292]\tvalid_0's rmse: 0.83264\n",
      "[293]\tvalid_0's rmse: 0.832639\n",
      "[294]\tvalid_0's rmse: 0.832572\n",
      "[295]\tvalid_0's rmse: 0.832533\n",
      "[296]\tvalid_0's rmse: 0.832498\n",
      "[297]\tvalid_0's rmse: 0.83248\n",
      "[298]\tvalid_0's rmse: 0.83248\n",
      "[299]\tvalid_0's rmse: 0.832475\n",
      "[300]\tvalid_0's rmse: 0.832466\n",
      "[301]\tvalid_0's rmse: 0.832508\n",
      "[302]\tvalid_0's rmse: 0.832552\n",
      "[303]\tvalid_0's rmse: 0.832506\n",
      "[304]\tvalid_0's rmse: 0.832534\n",
      "[305]\tvalid_0's rmse: 0.832452\n",
      "[306]\tvalid_0's rmse: 0.832412\n",
      "[307]\tvalid_0's rmse: 0.832334\n",
      "[308]\tvalid_0's rmse: 0.832185\n",
      "[309]\tvalid_0's rmse: 0.832101\n",
      "[310]\tvalid_0's rmse: 0.832064\n",
      "[311]\tvalid_0's rmse: 0.832034\n",
      "[312]\tvalid_0's rmse: 0.831912\n",
      "[313]\tvalid_0's rmse: 0.831822\n",
      "[314]\tvalid_0's rmse: 0.831831\n",
      "[315]\tvalid_0's rmse: 0.83173\n",
      "[316]\tvalid_0's rmse: 0.831737\n",
      "[317]\tvalid_0's rmse: 0.831679\n",
      "[318]\tvalid_0's rmse: 0.831586\n",
      "[319]\tvalid_0's rmse: 0.83151\n",
      "[320]\tvalid_0's rmse: 0.83153\n",
      "[321]\tvalid_0's rmse: 0.831524\n",
      "[322]\tvalid_0's rmse: 0.831543\n",
      "[323]\tvalid_0's rmse: 0.831607\n",
      "[324]\tvalid_0's rmse: 0.831658\n",
      "[325]\tvalid_0's rmse: 0.831728\n",
      "[326]\tvalid_0's rmse: 0.831724\n",
      "[327]\tvalid_0's rmse: 0.831719\n",
      "[328]\tvalid_0's rmse: 0.83169\n",
      "[329]\tvalid_0's rmse: 0.831655\n",
      "Early stopping, best iteration is:\n",
      "[319]\tvalid_0's rmse: 0.83151\n"
     ]
    }
   ],
   "source": [
    "cl_pred=lgb.Dataset(x_test_offening, y_test_offening, reference=lgb_train)\n",
    "# specify your configurations as a dict\n",
    "params = {'num_leaves': 100,\n",
    "         'min_data_in_leaf': 30, \n",
    "         'objective':'regression',\n",
    "         'max_depth': -1,\n",
    "         'learning_rate': 0.015,\n",
    "         \"boosting\": \"gbdt\",\n",
    "         \"feature_fraction\": 0.9,\n",
    "         \"bagging_freq\": 5,\n",
    "         \"bagging_fraction\": 0.9,\n",
    "         \"bagging_seed\": 11,\n",
    "         \"metric\": 'rmse',\n",
    "         \"lambda_l1\": 0.1,\n",
    "         \"verbosity\": -1,\n",
    "         \"nthread\": 4,\n",
    "         \"random_state\": 4950}\n",
    "\n",
    "print('Starting training...')\n",
    "# train\n",
    "gbm = lgb.train(params,\n",
    "                lgb_train,\n",
    "                num_boost_round=1000,\n",
    "                valid_sets=cl_pred,\n",
    "                early_stopping_rounds=10)"
   ]
  },
  {
   "cell_type": "code",
   "execution_count": null,
   "metadata": {},
   "outputs": [],
   "source": [
    "cl_pred"
   ]
  },
  {
   "cell_type": "code",
   "execution_count": 133,
   "metadata": {},
   "outputs": [
    {
     "data": {
      "text/plain": [
       "0.6534491875190482"
      ]
     },
     "execution_count": 133,
     "metadata": {},
     "output_type": "execute_result"
    }
   ],
   "source": [
    "import sklearn.metrics as metrics\n",
    "mese = metrics.mean_squared_error(y_test_offening, cl_pred)\n",
    "mese"
   ]
  },
  {
   "cell_type": "code",
   "execution_count": 126,
   "metadata": {},
   "outputs": [],
   "source": [
    "clf_pred=clf.predict(x_test_offening)"
   ]
  },
  {
   "cell_type": "code",
   "execution_count": 127,
   "metadata": {},
   "outputs": [
    {
     "data": {
      "text/plain": [
       "array([ 2.95214748,  0.62150835,  1.42091899,  0.66834384,  1.39744898,\n",
       "        1.13649137,  1.40466051,  1.25220444,  0.73135378,  0.13656722,\n",
       "        0.12760511, -0.49521349,  0.17837308,  0.53063053,  1.89880735,\n",
       "        0.75758929,  2.59156872,  0.25453505,  0.49947011,  0.89081323,\n",
       "        1.11057401, -0.12508394,  0.73851827, -0.30261206, -0.03948842,\n",
       "        0.14092645,  0.19924742,  0.36659694,  1.19417142, -0.07132985,\n",
       "        0.63017785, -0.0746592 , -0.07746742,  0.23243941,  0.34559107,\n",
       "        0.58742694,  0.75154708, -0.2152513 ,  2.2815954 ,  1.30084151,\n",
       "        0.45678627, -0.07502941,  0.92077267,  1.67157456,  0.56978197,\n",
       "        1.31956033,  0.79763722, -0.43293012,  0.53398555,  1.55424846,\n",
       "        0.33508816,  0.33762782,  1.52281505,  0.73641848,  0.30171684,\n",
       "        0.43122244,  4.18357953, -0.45433622,  2.73230094,  0.54840519,\n",
       "        1.86439012,  0.28773143,  0.83314097, -0.02896815,  0.36035837,\n",
       "        0.48322971,  1.49458314,  0.36015831,  2.30711212,  1.16693577,\n",
       "        0.30126722,  0.85313074,  0.7627763 ,  0.19305451,  1.37510169,\n",
       "       -0.90373168,  0.5520691 ,  1.76174442, -0.10703518,  0.33191254,\n",
       "        0.50562959,  0.13959314,  0.51805351, -0.09784133,  2.31570158,\n",
       "        0.29501411,  0.05519515,  0.84169143, -0.08204454,  0.00660359,\n",
       "        0.10084166,  1.12645077,  0.83164213, -0.4873393 ,  0.33724243,\n",
       "       -0.09394381,  0.35077418,  0.60377672,  1.96168041, -0.10237371,\n",
       "        1.12098891,  0.40018489,  0.21563193,  0.68009173,  2.10522884,\n",
       "        0.57300027,  0.66560892,  0.58051197,  0.44637157,  0.04397643,\n",
       "        0.32503922,  0.80272411, -0.3837908 , -0.08792937,  0.55307843,\n",
       "       -0.77236928,  0.13554259,  0.16141066, -0.25755229,  0.23166773,\n",
       "        2.32225811,  1.23166593,  0.72491686,  0.54224552,  0.71157013,\n",
       "       -0.28692012,  0.01166103,  1.53292751,  0.42000604,  1.11484693,\n",
       "        2.53855356,  0.15573544,  0.29965896,  1.54117913, -0.37543282,\n",
       "        0.74601033,  1.46017764,  0.62789474,  0.22470525,  0.37530181,\n",
       "        0.54874389,  0.2043962 , -1.32765696, -0.1317262 ,  1.17311991,\n",
       "        0.19778237,  1.04799949,  0.38970743,  0.10363391,  0.66442327,\n",
       "        1.28583334,  0.832518  , -0.27251611,  0.68945839,  0.29285072,\n",
       "        1.46403917,  0.48858208,  1.69729087,  0.79721212,  0.40052953,\n",
       "        0.58030482,  0.45987849, -0.33167976,  0.36657004,  0.23672128,\n",
       "        2.10729906,  0.70555386,  0.06934196,  0.12677878,  0.0625701 ,\n",
       "        0.02157016,  0.60888326, -0.06886585,  0.90729088,  0.70500968,\n",
       "       -0.07742039,  0.08092154,  0.00735227, -0.82806612,  0.27941715,\n",
       "       -0.42914048,  0.82697977,  0.09606611, -0.0127444 , -0.10936753,\n",
       "        0.18697506,  0.57123751,  1.80763265,  1.55969174,  0.14135092,\n",
       "        1.74065153,  0.85854921,  0.76968364,  0.00725886,  0.0148939 ,\n",
       "        0.92134863,  0.54361687, -0.02029952,  0.82868957, -1.03043805,\n",
       "        0.31756492,  1.59499222,  0.85730292,  0.57848496,  1.62455612,\n",
       "       -0.12924272,  0.29112236,  1.46690833,  0.7103481 , -0.66321742,\n",
       "       -0.08278555,  1.70096722,  0.24251206,  1.15980713, -0.35992507,\n",
       "        0.64420668,  2.50230687,  0.21300174,  0.44170422,  0.44617051,\n",
       "        0.35340312, -0.91136036, -0.52882192,  0.6516777 ,  0.97478136,\n",
       "       -0.67289191,  0.37061678,  1.77006854,  2.1438893 , -0.21494755,\n",
       "        0.45028351,  0.54868525,  1.35735536,  0.96015842,  1.14826111,\n",
       "        1.81824048, -0.58830306,  0.58255259,  2.90685367,  0.51252844,\n",
       "        0.69245107,  0.14536637, -0.21809342,  0.38023517, -0.25847415,\n",
       "        2.81217081,  0.42142895, -0.12286106, -0.16915208,  1.06572382,\n",
       "        0.50300198,  0.17164874,  0.75508368, -0.07255344,  1.70292248,\n",
       "        0.30004272,  1.68502127, -0.490226  ,  0.36713673,  0.11082057,\n",
       "        1.01482065, -0.13087616,  1.4895557 ,  0.07635974,  0.13578051,\n",
       "        0.53986738,  1.15409906,  0.54950898,  0.26100592,  0.54940814,\n",
       "        0.37283544,  1.79503591,  0.05131012,  0.31831364,  0.34611114,\n",
       "        0.26617738,  0.10143908,  1.35720743,  0.80466417, -0.13151211,\n",
       "        1.15580719,  0.90932576, -0.12227919,  0.1395995 ,  0.40112629,\n",
       "       -0.32838364, -0.29728294,  0.42207607,  2.2205733 ,  0.33534037,\n",
       "        0.30159697,  0.31823938,  1.69402349,  0.65263361,  0.80461475,\n",
       "        0.26887531,  0.04244939,  1.28919987,  0.75393821, -0.53824188,\n",
       "       -0.31715238, -0.03461098,  0.54473231,  2.33107007, -0.62761779,\n",
       "        1.15764136,  1.17009643,  0.76259013,  0.19239608,  0.16706406,\n",
       "        0.05389307, -0.56363386,  0.73821754,  0.89760201,  1.05637848,\n",
       "        0.25450826,  0.4934584 ,  0.61054946,  2.53210114,  1.08016306,\n",
       "        0.66061613,  0.25794776,  0.38675688,  0.40345968,  1.04301426,\n",
       "        1.33823787,  0.04293796,  0.07605597,  0.262413  ,  2.72901163,\n",
       "       -0.21540992,  2.17599722,  1.26816814,  2.69007262,  0.56698194,\n",
       "        1.67711522, -0.59074494, -0.1818159 ,  1.2582651 ,  0.70565586,\n",
       "       -0.02160528, -0.08839803,  2.05859091,  2.03299449,  1.24987569,\n",
       "       -0.33899612,  0.31707287,  0.3196635 ,  0.61300168,  1.10601523,\n",
       "        2.09619019, -0.00668653,  0.69902497, -0.10467631,  2.39228321,\n",
       "        1.47367392, -0.90634668, -0.05798709,  1.38385515, -0.89757484,\n",
       "        1.66282833, -0.85811127,  0.43355662, -0.68761323,  1.29140299,\n",
       "        1.44513273,  1.20255126,  0.72111052,  0.18288143,  0.29998518,\n",
       "        0.15030816, -0.06437735,  0.84193025,  1.75513548,  2.07458679,\n",
       "        0.55629769, -0.25719712,  0.64453736,  1.36815933,  0.57939928,\n",
       "        0.736326  ,  0.4108015 , -0.18997976, -0.02879318,  0.07924956,\n",
       "        0.48337325,  0.33132289,  0.47288039,  0.63393955,  0.03612823,\n",
       "        0.84283873, -0.55228465,  0.01415499, -0.05613198, -0.99966856,\n",
       "        1.41334057,  2.33308936,  0.86474235, -0.01171659,  0.14355754,\n",
       "        0.16093943,  0.32204469,  1.28889343,  0.61826733,  1.69799989,\n",
       "        1.1060533 , -0.22875734,  0.1998331 ,  0.30982789,  0.92325566,\n",
       "        0.08989337,  0.39282205,  0.38486832,  0.13243148,  0.55002772,\n",
       "       -0.8215472 ,  0.67089316,  0.70687685,  0.72521071,  0.84222969,\n",
       "        0.44503103, -0.35926059, -0.18402484, -0.21071545,  2.43340285,\n",
       "        1.26797574,  0.21731587,  0.86521346,  1.50033352,  0.97895958,\n",
       "       -0.29455937,  0.2867067 ,  2.58497267,  1.67100407,  0.43188732,\n",
       "       -0.3754893 ,  1.47775962,  0.45521964,  1.32160439, -0.52890128,\n",
       "        0.46456972,  1.3605136 ,  0.81929765,  1.4653738 ,  2.99851587,\n",
       "        0.74248644,  4.17213807,  0.02189055,  0.5267115 ,  0.91436021,\n",
       "        1.61886415,  0.11484416,  0.39463599,  0.83908733,  0.35223459,\n",
       "       -0.33314802,  0.1738805 ,  2.41550644,  2.29915656,  0.58842607,\n",
       "        0.17301246,  0.61160888,  0.68755831,  0.00571963,  1.18317719,\n",
       "        0.70714498, -0.11850468, -1.58461476,  0.6054633 ,  0.45096073,\n",
       "        1.5456462 ,  1.09416914,  0.07665574, -0.08313677,  0.77325486,\n",
       "        1.19573774,  2.45910642, -0.42621516,  2.03494006,  1.04688189,\n",
       "        0.02635434,  0.50628959, -0.03053305,  1.03129001,  0.93150872,\n",
       "        2.56296636,  0.66395067,  0.82033068,  0.23809802,  1.79691734,\n",
       "        1.23087549,  0.27222108,  1.35067115,  0.59661045,  0.41823353,\n",
       "        3.96495169,  0.77010277,  1.21644814, -0.11960715,  0.04347997,\n",
       "        1.58240766, -0.08444724,  1.31007456,  0.50753218,  0.26640867,\n",
       "        0.68915554,  0.19284894, -1.04495946, -0.15346366,  0.16209484,\n",
       "       -0.15258188,  2.32307237,  0.53606187,  0.40933035,  0.08099994,\n",
       "       -0.21472071,  0.4815341 ,  0.97495496, -0.11914101, -0.05869949,\n",
       "       -1.35133558, -0.44275784, -0.12752019,  1.15376245,  0.00718017,\n",
       "        0.27639498,  0.49405284,  0.07855989, -0.24015805,  0.73833902,\n",
       "        0.09423709,  0.0912226 ,  0.84413673, -0.05871358,  2.46396798,\n",
       "        0.77531892, -0.01809398,  0.69798404,  0.93741089,  0.33006781,\n",
       "        0.36318001,  0.08664317,  0.38215183, -0.23511091,  0.3693135 ,\n",
       "        0.53497492,  2.93874644,  0.47184189, -0.55957138,  1.64841815,\n",
       "        1.43594261,  0.49052327,  3.98217354, -0.28052083,  0.89015196,\n",
       "       -0.08337435,  2.21120559,  0.51914124,  0.24898831, -0.02654518,\n",
       "        0.17089124,  1.83562874,  0.25000601,  0.78115099,  2.1491993 ,\n",
       "        1.15189977,  0.08155028,  3.54929455,  0.31411757,  0.68983045,\n",
       "       -0.72674646,  2.49176182, -0.20551517,  0.85442573,  0.64029056,\n",
       "        0.1154403 , -0.52467937,  0.75766794, -0.26370739, -0.17068525,\n",
       "        0.95558488,  1.40766325, -0.39118178, -0.75669033,  1.55281484,\n",
       "        0.24921714,  0.24353741,  0.71466963,  0.8399396 ,  0.14018858,\n",
       "        0.38922251,  0.72518796,  1.60775758,  3.47727533,  0.28828901,\n",
       "        1.56533171, -0.00638641,  1.23465661,  1.99253301,  0.64250092,\n",
       "        0.59939071,  0.52689181,  0.35085607,  2.38968055,  0.67462374,\n",
       "        0.27015943,  0.11866021,  0.415527  ,  0.16873872,  0.1785377 ,\n",
       "        0.42192572,  1.64018969,  1.20206607,  0.02714832,  0.49273302,\n",
       "        0.72830468,  1.85659083,  0.50163341,  0.38397219, -0.14095285,\n",
       "       -0.02637399, -0.03700384,  0.52660762,  0.09630287, -0.29281198,\n",
       "        2.63202898, -0.65884142,  0.03953093,  0.50073799,  0.67605899,\n",
       "        0.17694811,  0.14181134,  0.96852148,  1.28668368,  0.50588165,\n",
       "        0.60441123,  2.9074145 ,  1.27885133,  0.096195  ,  0.40885226,\n",
       "        0.95014119,  1.12324566, -0.05880036,  0.34103204, -0.04270864,\n",
       "        0.40092181,  1.04468721,  0.23134815,  1.2735021 ,  0.12181269,\n",
       "        0.60086005,  0.94791365, -0.44066837,  0.37459763,  1.86108935,\n",
       "        1.29655366,  0.71819436,  3.06347988,  0.95707011,  2.3963985 ,\n",
       "        0.09861359,  3.0423616 ,  0.67899185, -0.76601767, -0.37445282,\n",
       "        1.60550168,  0.03563735,  0.91286314,  1.81620912,  0.40017003,\n",
       "        0.2900892 ,  2.9405169 ,  0.49257841,  0.23292711,  0.97862761,\n",
       "       -0.28696107,  0.06742949,  1.0165794 ,  1.13043651,  0.11069565,\n",
       "        0.27295044, -0.11711736,  0.70741438,  0.20771882,  0.51656803,\n",
       "        0.17778478,  0.98225588, -0.4568613 ,  0.10703884,  0.20202744,\n",
       "        0.12096197,  1.69931094,  1.83018172,  0.37078682,  0.05489758,\n",
       "        0.28617019,  1.29167835,  0.0832486 ,  0.08949091, -0.05756214,\n",
       "       -0.20290075, -0.22185683, -0.05255104,  1.07855964, -0.3335195 ,\n",
       "       -0.39766784,  0.70850444,  0.46641358,  3.159119  ,  0.8112987 ,\n",
       "        0.65188013,  0.0620514 , -0.18514653,  1.70098682,  0.47163429,\n",
       "        0.81367005, -0.21103214,  0.2758125 ,  0.03366766,  0.84648869,\n",
       "       -0.01952358,  0.30756958,  0.2854307 ,  1.74575882,  0.7943009 ,\n",
       "        0.58537163,  0.48876223,  0.66002347,  0.79492207,  0.50234766,\n",
       "        1.58371074,  0.11213592,  0.02946576,  0.26515562, -0.07738327,\n",
       "        0.23265709,  0.46191539,  1.59714454,  4.13862668, -0.18644943,\n",
       "        0.32795296, -0.9811466 ,  0.33253433,  1.02912747,  1.09745603,\n",
       "        1.35269707,  1.70665607,  1.85373452,  0.08592654, -0.26250356,\n",
       "        0.30125061,  0.96112668, -0.12977646,  0.02116118,  0.54038226,\n",
       "        0.63399921,  0.56898915,  0.87963953, -0.17879744, -1.05960554,\n",
       "       -0.24969444,  0.3320562 ,  0.78532469,  0.96407163,  1.79611783,\n",
       "       -1.29535704,  0.72251873,  0.16472073,  0.16041215,  1.4305033 ,\n",
       "       -0.37154048,  0.70349918,  0.56039743,  0.54716219,  0.14179919,\n",
       "        0.40599359, -0.15143986,  0.92174129,  0.9759691 ,  0.25039615,\n",
       "        0.26359642,  0.98334465, -0.18563743,  0.76850672,  0.64422923,\n",
       "        0.97477715,  0.81692938,  1.04285841,  1.32880895,  0.49751337,\n",
       "       -0.06300218,  1.43598991,  0.62018978,  0.33431643,  0.36020348,\n",
       "       -0.16299204,  0.36710333,  2.19066654,  0.17682356,  0.96909736])"
      ]
     },
     "execution_count": 127,
     "metadata": {},
     "output_type": "execute_result"
    }
   ],
   "source": [
    "clf_pred"
   ]
  },
  {
   "cell_type": "code",
   "execution_count": 110,
   "metadata": {},
   "outputs": [
    {
     "name": "stdout",
     "output_type": "stream",
     "text": [
      "accuracy:  0.40729825866125435\n"
     ]
    }
   ],
   "source": [
    "print(\"accuracy: \",clf.score(x_test_offening,y_test_offening))"
   ]
  },
  {
   "cell_type": "code",
   "execution_count": 114,
   "metadata": {},
   "outputs": [
    {
     "data": {
      "text/plain": [
       "0.8083620398800578"
      ]
     },
     "execution_count": 114,
     "metadata": {},
     "output_type": "execute_result"
    }
   ],
   "source": [
    "from sklearn.metrics import mean_squared_error\n",
    "\n",
    "rms = mean_squared_error(y_test_offening, clf_pred, squared=False)\n",
    "rms"
   ]
  },
  {
   "cell_type": "code",
   "execution_count": 117,
   "metadata": {},
   "outputs": [
    {
     "data": {
      "text/plain": [
       "0.6534491875190482"
      ]
     },
     "execution_count": 117,
     "metadata": {},
     "output_type": "execute_result"
    }
   ],
   "source": [
    "import sklearn.metrics as metrics\n",
    "mse = metrics.mean_squared_error(y_test_offening, clf_pred)\n",
    "mse"
   ]
  },
  {
   "cell_type": "code",
   "execution_count": 118,
   "metadata": {},
   "outputs": [
    {
     "data": {
      "text/plain": [
       "0.8083620398800578"
      ]
     },
     "execution_count": 118,
     "metadata": {},
     "output_type": "execute_result"
    }
   ],
   "source": [
    "rmse = np.sqrt(mse)\n",
    "rmse"
   ]
  },
  {
   "cell_type": "code",
   "execution_count": null,
   "metadata": {},
   "outputs": [],
   "source": []
  }
 ],
 "metadata": {
  "kernelspec": {
   "display_name": "Python 3",
   "language": "python",
   "name": "python3"
  },
  "language_info": {
   "codemirror_mode": {
    "name": "ipython",
    "version": 3
   },
   "file_extension": ".py",
   "mimetype": "text/x-python",
   "name": "python",
   "nbconvert_exporter": "python",
   "pygments_lexer": "ipython3",
   "version": "3.8.3"
  },
  "toc": {
   "base_numbering": 1,
   "nav_menu": {},
   "number_sections": true,
   "sideBar": true,
   "skip_h1_title": false,
   "title_cell": "Table of Contents",
   "title_sidebar": "Contents",
   "toc_cell": false,
   "toc_position": {},
   "toc_section_display": true,
   "toc_window_display": false
  },
  "varInspector": {
   "cols": {
    "lenName": 16,
    "lenType": 16,
    "lenVar": 40
   },
   "kernels_config": {
    "python": {
     "delete_cmd_postfix": "",
     "delete_cmd_prefix": "del ",
     "library": "var_list.py",
     "varRefreshCmd": "print(var_dic_list())"
    },
    "r": {
     "delete_cmd_postfix": ") ",
     "delete_cmd_prefix": "rm(",
     "library": "var_list.r",
     "varRefreshCmd": "cat(var_dic_list()) "
    }
   },
   "types_to_exclude": [
    "module",
    "function",
    "builtin_function_or_method",
    "instance",
    "_Feature"
   ],
   "window_display": false
  }
 },
 "nbformat": 4,
 "nbformat_minor": 2
}
