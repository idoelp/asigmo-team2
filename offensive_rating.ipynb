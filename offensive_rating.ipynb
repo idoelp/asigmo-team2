{
  "nbformat": 4,
  "nbformat_minor": 0,
  "metadata": {
    "accelerator": "GPU",
    "colab": {
      "name": "offensive_rating.ipynb",
      "provenance": []
    },
    "kernelspec": {
      "display_name": "Python 3",
      "name": "python3"
    }
  },
  "cells": [
    {
      "cell_type": "markdown",
      "metadata": {
        "id": "ahRvnVkY0ewr"
      },
      "source": [
        "# Problem description\n",
        "\n",
        "The Hahackaton aims at classifying text as humorous.\n",
        "The dataset is a set of short texts that have been labeled by a group of heterogenous people (age, sex, race) under 4 features: \n",
        "* 1a: is it humorous? (binary label) \n",
        "* 1b: humour grading (0 to 5; 0 is not humorous)\n",
        "* 1c: controversy (binary label): when the variance in the humour grading is higher than the average\n",
        "* 2a: offensiveness grading (0 to 5; 0 is not offensive)\n",
        "\n",
        "******\n",
        "\n",
        "In general, we approached the problem by extracting simple features: text length (in words), punctuation frequency, and most important, the text word content, with the use of count_vectorizer. Before this feature extraction, we previously pre-processed the data: tokenization of words, get rid of punctuation and non-word symbols, lower case, among others.\n",
        "\n",
        "For task 1a, we applied logistic regression, multinomial naive bayes, and XGBoost. Additionally, we use a FastText to classify according to word context embedding. \n",
        "\n",
        "We observe that we reach a ceiling of 86% of accuracy. In order to try to improve the score, and under the assumption that each model bases its execution on different aspects of the data -specially FastText -, we combine all the individual models to build an ensemble model (stacking classifier). This led to an improve over the baseline model of 1%.\n",
        "\n",
        "For 1b, we applied the same data preprocessing strategy followed by Elastic Net regression.\n",
        "\n",
        "For 1c, we applied the same data preprocessing strategy followed by  Multinomial Naive Bayes,\n",
        "\n",
        "For 2a, we applied the same data preprocessing strategy followed by XGBoost.\n",
        "\n",
        "This is the summary of our scores:\n",
        "\n",
        "\n",
        "| Attribute         | *Accuracy* | *f1-score* | *RMSE* |\n",
        "| :---------------- | ---------: | ---------: | -----: |\n",
        "| is_humour         | 87%        | 89%        | -      |\n",
        "| humor_rating      | ---        | ---        | 0.551  |\n",
        "| humor_controversy | 55%        | 55%        | -      |\n",
        "| offense_rating    | ---        | ---        | 0.812  |\n",
        "\n"
      ]
    },
    {
      "cell_type": "code",
      "metadata": {
        "colab": {
          "base_uri": "https://localhost:8080/"
        },
        "id": "AzOR7UEL0ZKx",
        "outputId": "85f87751-7523-4b36-b5a6-4107e8fc2df3"
      },
      "source": [
        "import numpy as np\n",
        "import pandas as pd\n",
        "pd.options.mode.chained_assignment = None  # default='warn'\n",
        "\n",
        "import matplotlib.pyplot as plt\n",
        "plt.style.use('ggplot')\n",
        "import seaborn as sns\n",
        "\n",
        "from sklearn.model_selection import train_test_split\n",
        "from sklearn.pipeline import Pipeline, FeatureUnion \n",
        "from sklearn.feature_extraction.text import CountVectorizer, TfidfVectorizer\n",
        "from sklearn.preprocessing import FunctionTransformer, StandardScaler, MinMaxScaler\n",
        "from sklearn.utils.class_weight import compute_class_weight\n",
        "\n",
        "from sklearn.linear_model import LogisticRegression\n",
        "from sklearn.naive_bayes import MultinomialNB\n",
        "from sklearn.linear_model import ElasticNet\n",
        "from sklearn.ensemble import StackingClassifier\n",
        "import xgboost as xgb\n",
        "\n",
        "from sklearn.metrics import mean_squared_error\n",
        "from sklearn.metrics import f1_score, accuracy_score\n",
        "from sklearn.metrics import confusion_matrix\n",
        "from sklearn.metrics import classification_report\n",
        "\n",
        "import nltk\n",
        "from nltk.corpus import stopwords\n",
        "from nltk.tokenize import word_tokenize\n",
        "\n",
        "#from matplotlib import pyplot as plt\n",
        "#from sklearn.model_selection import RepeatedKFold\n",
        "import warnings # Ignore warning\n",
        "import pickle\n",
        "import torch\n",
        "\n",
        "!pip install transformers\n",
        "\n",
        "from transformers import BertTokenizer\n",
        "from transformers import BertModel"
      ],
      "execution_count": null,
      "outputs": [
        {
          "output_type": "stream",
          "text": [
            "Requirement already satisfied: transformers in /usr/local/lib/python3.6/dist-packages (4.0.1)\n",
            "Requirement already satisfied: requests in /usr/local/lib/python3.6/dist-packages (from transformers) (2.23.0)\n",
            "Requirement already satisfied: regex!=2019.12.17 in /usr/local/lib/python3.6/dist-packages (from transformers) (2019.12.20)\n",
            "Requirement already satisfied: tqdm>=4.27 in /usr/local/lib/python3.6/dist-packages (from transformers) (4.41.1)\n",
            "Requirement already satisfied: tokenizers==0.9.4 in /usr/local/lib/python3.6/dist-packages (from transformers) (0.9.4)\n",
            "Requirement already satisfied: numpy in /usr/local/lib/python3.6/dist-packages (from transformers) (1.18.5)\n",
            "Requirement already satisfied: dataclasses; python_version < \"3.7\" in /usr/local/lib/python3.6/dist-packages (from transformers) (0.8)\n",
            "Requirement already satisfied: sacremoses in /usr/local/lib/python3.6/dist-packages (from transformers) (0.0.43)\n",
            "Requirement already satisfied: packaging in /usr/local/lib/python3.6/dist-packages (from transformers) (20.7)\n",
            "Requirement already satisfied: filelock in /usr/local/lib/python3.6/dist-packages (from transformers) (3.0.12)\n",
            "Requirement already satisfied: certifi>=2017.4.17 in /usr/local/lib/python3.6/dist-packages (from requests->transformers) (2020.12.5)\n",
            "Requirement already satisfied: urllib3!=1.25.0,!=1.25.1,<1.26,>=1.21.1 in /usr/local/lib/python3.6/dist-packages (from requests->transformers) (1.24.3)\n",
            "Requirement already satisfied: idna<3,>=2.5 in /usr/local/lib/python3.6/dist-packages (from requests->transformers) (2.10)\n",
            "Requirement already satisfied: chardet<4,>=3.0.2 in /usr/local/lib/python3.6/dist-packages (from requests->transformers) (3.0.4)\n",
            "Requirement already satisfied: six in /usr/local/lib/python3.6/dist-packages (from sacremoses->transformers) (1.15.0)\n",
            "Requirement already satisfied: joblib in /usr/local/lib/python3.6/dist-packages (from sacremoses->transformers) (0.17.0)\n",
            "Requirement already satisfied: click in /usr/local/lib/python3.6/dist-packages (from sacremoses->transformers) (7.1.2)\n",
            "Requirement already satisfied: pyparsing>=2.0.2 in /usr/local/lib/python3.6/dist-packages (from packaging->transformers) (2.4.7)\n"
          ],
          "name": "stdout"
        }
      ]
    },
    {
      "cell_type": "code",
      "metadata": {
        "colab": {
          "base_uri": "https://localhost:8080/",
          "height": 197
        },
        "id": "hndtPYNu0j_v",
        "outputId": "e673ce79-e3f4-40e5-c7cf-6b00191a051b"
      },
      "source": [
        "df = pd.read_csv('/content/train_humor.csv').drop(columns = 'id')\n",
        "df.head()"
      ],
      "execution_count": null,
      "outputs": [
        {
          "output_type": "execute_result",
          "data": {
            "text/html": [
              "<div>\n",
              "<style scoped>\n",
              "    .dataframe tbody tr th:only-of-type {\n",
              "        vertical-align: middle;\n",
              "    }\n",
              "\n",
              "    .dataframe tbody tr th {\n",
              "        vertical-align: top;\n",
              "    }\n",
              "\n",
              "    .dataframe thead th {\n",
              "        text-align: right;\n",
              "    }\n",
              "</style>\n",
              "<table border=\"1\" class=\"dataframe\">\n",
              "  <thead>\n",
              "    <tr style=\"text-align: right;\">\n",
              "      <th></th>\n",
              "      <th>text</th>\n",
              "      <th>is_humor</th>\n",
              "      <th>humor_rating</th>\n",
              "      <th>humor_controversy</th>\n",
              "      <th>offense_rating</th>\n",
              "    </tr>\n",
              "  </thead>\n",
              "  <tbody>\n",
              "    <tr>\n",
              "      <th>0</th>\n",
              "      <td>TENNESSEE: We're the best state. Nobody even c...</td>\n",
              "      <td>1</td>\n",
              "      <td>2.42</td>\n",
              "      <td>1.0</td>\n",
              "      <td>0.2</td>\n",
              "    </tr>\n",
              "    <tr>\n",
              "      <th>1</th>\n",
              "      <td>A man inserted an advertisement in the classif...</td>\n",
              "      <td>1</td>\n",
              "      <td>2.50</td>\n",
              "      <td>1.0</td>\n",
              "      <td>1.1</td>\n",
              "    </tr>\n",
              "    <tr>\n",
              "      <th>2</th>\n",
              "      <td>How many men does it take to open a can of bee...</td>\n",
              "      <td>1</td>\n",
              "      <td>1.95</td>\n",
              "      <td>0.0</td>\n",
              "      <td>2.4</td>\n",
              "    </tr>\n",
              "    <tr>\n",
              "      <th>3</th>\n",
              "      <td>Told my mom I hit 1200 Twitter followers. She ...</td>\n",
              "      <td>1</td>\n",
              "      <td>2.11</td>\n",
              "      <td>1.0</td>\n",
              "      <td>0.0</td>\n",
              "    </tr>\n",
              "    <tr>\n",
              "      <th>4</th>\n",
              "      <td>Roses are dead. Love is fake. Weddings are bas...</td>\n",
              "      <td>1</td>\n",
              "      <td>2.78</td>\n",
              "      <td>0.0</td>\n",
              "      <td>0.1</td>\n",
              "    </tr>\n",
              "  </tbody>\n",
              "</table>\n",
              "</div>"
            ],
            "text/plain": [
              "                                                text  ...  offense_rating\n",
              "0  TENNESSEE: We're the best state. Nobody even c...  ...             0.2\n",
              "1  A man inserted an advertisement in the classif...  ...             1.1\n",
              "2  How many men does it take to open a can of bee...  ...             2.4\n",
              "3  Told my mom I hit 1200 Twitter followers. She ...  ...             0.0\n",
              "4  Roses are dead. Love is fake. Weddings are bas...  ...             0.1\n",
              "\n",
              "[5 rows x 5 columns]"
            ]
          },
          "metadata": {
            "tags": []
          },
          "execution_count": 2
        }
      ]
    },
    {
      "cell_type": "code",
      "metadata": {
        "id": "SPJtArtY08rR"
      },
      "source": [
        "X = df[['text']] #4932 Do not reset the index!\n",
        "X.columns = ['text']\n",
        "y = df[['offense_rating']] #4932"
      ],
      "execution_count": null,
      "outputs": []
    },
    {
      "cell_type": "code",
      "metadata": {
        "colab": {
          "base_uri": "https://localhost:8080/",
          "height": 35
        },
        "id": "kZk42nHw1GQS",
        "outputId": "158e17d6-c8c7-453c-9a97-716f87f075a5"
      },
      "source": [
        "X_train, X_test, y_train, y_test = train_test_split(X, y, test_size = 0.2, random_state = 21)\n",
        "\n",
        "# change indexes to 1 to n\n",
        "X_train.index = [ i for i in range( X_train.shape[0] )]\n",
        "X_test.index = [ i for i in range( X_test.shape[0] )]\n",
        "y_train.index = [ i for i in range( y_train.shape[0] )]\n",
        "y_test.index = [ i for i in range( y_test.shape[0] )]\n",
        "\"X_train and y_train shape: {0}, {1}, X_test and y_test shape {2}, {3}\".format(X_train.shape, y_train.shape, X_test.shape, y_test.shape)"
      ],
      "execution_count": null,
      "outputs": [
        {
          "output_type": "execute_result",
          "data": {
            "application/vnd.google.colaboratory.intrinsic+json": {
              "type": "string"
            },
            "text/plain": [
              "'X_train and y_train shape: (6400, 1), (6400, 1), X_test and y_test shape (1600, 1), (1600, 1)'"
            ]
          },
          "metadata": {
            "tags": []
          },
          "execution_count": 4
        }
      ]
    },
    {
      "cell_type": "code",
      "metadata": {
        "colab": {
          "base_uri": "https://localhost:8080/"
        },
        "id": "3TLixuMY1cMM",
        "outputId": "d5ab5fcf-edda-40b4-def0-d0d3ba67c7c9"
      },
      "source": [
        "print(\"X_train\\n\", X_train.head(), \"\\n\")\n",
        "print(\"y_train\\n\", y_train.head())"
      ],
      "execution_count": null,
      "outputs": [
        {
          "output_type": "stream",
          "text": [
            "X_train\n",
            "                                                 text\n",
            "0  Imagine working for millions of years on somet...\n",
            "1  What's the difference between a gay man and a ...\n",
            "2  Have been inspired by your \"owe no man nothing...\n",
            "3  You can't count on pleasing everyone, so focus...\n",
            "4  Keep posting videos of your children being bra... \n",
            "\n",
            "y_train\n",
            "    offense_rating\n",
            "0            0.00\n",
            "1            2.60\n",
            "2            0.00\n",
            "3            0.00\n",
            "4            0.95\n"
          ],
          "name": "stdout"
        }
      ]
    },
    {
      "cell_type": "code",
      "metadata": {
        "id": "LklD273Q_fss"
      },
      "source": [
        "def get_bert_embeddings(X):\n",
        "  tokenizer = BertTokenizer.from_pretrained('bert-base-cased',  do_lower_case=False)\n",
        "  model = BertModel.from_pretrained('bert-base-cased') \n",
        "  features = []\n",
        "\n",
        "  with torch.no_grad(): \n",
        "    for sent in X.text:\n",
        "      input_ids = torch.tensor(tokenizer.encode(sent)).unsqueeze(0)  \n",
        "      outputs = model(input_ids)\n",
        "      last_hidden_states = outputs[1].detach().cpu().numpy().astype(np.float32).ravel()\n",
        "      features.append(last_hidden_states)\n",
        "  return np.array(features) "
      ],
      "execution_count": null,
      "outputs": []
    },
    {
      "cell_type": "code",
      "metadata": {
        "id": "t5EI7_dsBk1O"
      },
      "source": [
        "X_train_features = get_bert_embeddings(X_train)\n",
        "X_test_features = get_bert_embeddings(X_test)"
      ],
      "execution_count": null,
      "outputs": []
    },
    {
      "cell_type": "code",
      "metadata": {
        "id": "jVrRy42eVMP1"
      },
      "source": [
        ""
      ],
      "execution_count": null,
      "outputs": []
    },
    {
      "cell_type": "code",
      "metadata": {
        "colab": {
          "base_uri": "https://localhost:8080/"
        },
        "id": "_CqcP_ZkUjoD",
        "outputId": "cfe07770-7904-4733-92ec-22ca58425d8d"
      },
      "source": [
        "X_test_features.shape"
      ],
      "execution_count": null,
      "outputs": [
        {
          "output_type": "execute_result",
          "data": {
            "text/plain": [
              "(1600, 768)"
            ]
          },
          "metadata": {
            "tags": []
          },
          "execution_count": 9
        }
      ]
    },
    {
      "cell_type": "code",
      "metadata": {
        "colab": {
          "base_uri": "https://localhost:8080/"
        },
        "id": "NESvVdwTBzLi",
        "outputId": "e575b361-d004-4e82-a2a5-90a7cbdeab6c"
      },
      "source": [
        "xgb_model = xgb.XGBRegressor(objective=\"reg:squarederror\", random_state=42)\n",
        "xgb_model.fit(X_train_features, y_train)\n",
        "\n",
        "y_pred_xgb = xgb_model.predict(X_test_features)\n",
        "mse=mean_squared_error( y_test, y_pred_xgb)\n",
        "\n",
        "print((mse)**(1/2))"
      ],
      "execution_count": null,
      "outputs": [
        {
          "output_type": "stream",
          "text": [
            "0.8304203065386205\n"
          ],
          "name": "stdout"
        }
      ]
    },
    {
      "cell_type": "code",
      "metadata": {
        "colab": {
          "background_save": true,
          "base_uri": "https://localhost:8080/"
        },
        "id": "8stMGhMXN-qj",
        "outputId": "011ababa-cf37-4809-a7d9-1591e3dff8e5"
      },
      "source": [
        "from sklearn.neighbors import KNeighborsRegressor\n",
        "\n",
        "for n_neighbor in range(3, 50, 1):\n",
        "  neigh = KNeighborsRegressor(n_neighbors = n_neighbor, weights='distance')\n",
        "  nbrs = neigh.fit(X_train_features, y_train )\n",
        "\n",
        "  y_pred_knn = neigh.predict( X_test_features )\n",
        "  mse=mean_squared_error( y_test, y_pred_knn)\n",
        "  print(\"n_neighbour: \", n_neighbor , \" mean_squared_error: \", (mse)**(1/2))"
      ],
      "execution_count": null,
      "outputs": [
        {
          "output_type": "stream",
          "text": [
            "n_neighbour:  3  mean_squared_error:  0.9526346259139795\n",
            "n_neighbour:  4  mean_squared_error:  0.9240477971191007\n",
            "n_neighbour:  5  mean_squared_error:  0.9045687386240251\n",
            "n_neighbour:  6  mean_squared_error:  0.8910738352831021\n",
            "n_neighbour:  7  mean_squared_error:  0.889021967610158\n",
            "n_neighbour:  8  mean_squared_error:  0.8834701508182368\n",
            "n_neighbour:  9  mean_squared_error:  0.878367384012149\n",
            "n_neighbour:  10  mean_squared_error:  0.8765190716984744\n",
            "n_neighbour:  11  mean_squared_error:  0.8732117815097322\n",
            "n_neighbour:  12  mean_squared_error:  0.8699249361329646\n",
            "n_neighbour:  13  mean_squared_error:  0.871126958047618\n",
            "n_neighbour:  14  mean_squared_error:  0.869034270552428\n",
            "n_neighbour:  15  mean_squared_error:  0.8720376379112698\n",
            "n_neighbour:  16  mean_squared_error:  0.872387839912262\n",
            "n_neighbour:  17  mean_squared_error:  0.8715480829507902\n",
            "n_neighbour:  18  mean_squared_error:  0.8671347223394573\n",
            "n_neighbour:  19  mean_squared_error:  0.8675920868459595\n",
            "n_neighbour:  20  mean_squared_error:  0.8645432119917457\n",
            "n_neighbour:  21  mean_squared_error:  0.8670546375350545\n",
            "n_neighbour:  22  mean_squared_error:  0.8638813118631562\n",
            "n_neighbour:  23  mean_squared_error:  0.8635412366294118\n",
            "n_neighbour:  24  mean_squared_error:  0.8625199928635067\n",
            "n_neighbour:  25  mean_squared_error:  0.8618400918093052\n",
            "n_neighbour:  26  mean_squared_error:  0.861324128270622\n",
            "n_neighbour:  27  mean_squared_error:  0.8621086401755068\n",
            "n_neighbour:  28  mean_squared_error:  0.8624116339544354\n",
            "n_neighbour:  29  mean_squared_error:  0.8613743365416244\n",
            "n_neighbour:  30  mean_squared_error:  0.8609486390842808\n",
            "n_neighbour:  31  mean_squared_error:  0.861110773593109\n",
            "n_neighbour:  32  mean_squared_error:  0.8598805571279033\n",
            "n_neighbour:  33  mean_squared_error:  0.8602512711035786\n",
            "n_neighbour:  34  mean_squared_error:  0.859599130726846\n",
            "n_neighbour:  35  mean_squared_error:  0.8593954670739913\n",
            "n_neighbour:  36  mean_squared_error:  0.8596673600400171\n",
            "n_neighbour:  37  mean_squared_error:  0.8584157117587037\n",
            "n_neighbour:  38  mean_squared_error:  0.8583185335819592\n",
            "n_neighbour:  39  mean_squared_error:  0.8594911580530141\n",
            "n_neighbour:  40  mean_squared_error:  0.8591083260620604\n",
            "n_neighbour:  41  mean_squared_error:  0.8591971251896541\n",
            "n_neighbour:  42  mean_squared_error:  0.8595816128059158\n",
            "n_neighbour:  43  mean_squared_error:  0.8594803088847488\n",
            "n_neighbour:  44  mean_squared_error:  0.8603368601643102\n",
            "n_neighbour:  45  mean_squared_error:  0.8603748100470754\n",
            "n_neighbour:  46  mean_squared_error:  0.860682584686172\n",
            "n_neighbour:  47  mean_squared_error:  0.8611952032468829\n",
            "n_neighbour:  48  mean_squared_error:  0.861703685122317\n",
            "n_neighbour:  49  mean_squared_error:  0.862575063160111\n"
          ],
          "name": "stdout"
        }
      ]
    },
    {
      "cell_type": "markdown",
      "metadata": {
        "id": "Cej_Mk73LRAS"
      },
      "source": [
        "## NN regressor"
      ]
    },
    {
      "cell_type": "code",
      "metadata": {
        "colab": {
          "background_save": true
        },
        "id": "NKCjbnRCK7ah",
        "outputId": "bd07a903-5789-4f13-e526-e7d45f59d983"
      },
      "source": [
        "import tensorflow as tf\n",
        "from tensorflow import keras\n",
        "from tensorflow.keras import layers\n",
        "\n",
        "nn_model = tf.keras.Sequential([\n",
        "                            \n",
        "    tf.keras.Input(shape=(768,)),\n",
        "    layers.Dense(units=128, activation='relu'),\n",
        "    layers.Dense(units=1, activation='linear')\n",
        "])\n",
        "\n",
        "nn_model.summary()\n",
        "nn_model.compile(loss='mean_squared_error', optimizer='adam')\n",
        "\n",
        "callback = tf.keras.callbacks.EarlyStopping(monitor='val_loss', patience=3)\n",
        "history = nn_model.fit(\n",
        "    X_train_features, y_train['offense_rating'],\n",
        "    epochs=100,\n",
        "    batch_size=16,\n",
        "    validation_split = 0.5,\n",
        "    callbacks=[callback] )"
      ],
      "execution_count": null,
      "outputs": [
        {
          "output_type": "stream",
          "text": [
            "Model: \"sequential\"\n",
            "_________________________________________________________________\n",
            "Layer (type)                 Output Shape              Param #   \n",
            "=================================================================\n",
            "dense (Dense)                (None, 128)               98432     \n",
            "_________________________________________________________________\n",
            "dense_1 (Dense)              (None, 1)                 129       \n",
            "=================================================================\n",
            "Total params: 98,561\n",
            "Trainable params: 98,561\n",
            "Non-trainable params: 0\n",
            "_________________________________________________________________\n",
            "Epoch 1/100\n",
            "200/200 [==============================] - 1s 3ms/step - loss: 1.1926 - val_loss: 1.0113\n",
            "Epoch 2/100\n",
            "200/200 [==============================] - 0s 2ms/step - loss: 0.9444 - val_loss: 1.1768\n",
            "Epoch 3/100\n",
            "200/200 [==============================] - 0s 2ms/step - loss: 0.8805 - val_loss: 0.7553\n",
            "Epoch 4/100\n",
            "200/200 [==============================] - 0s 2ms/step - loss: 0.8688 - val_loss: 0.8088\n",
            "Epoch 5/100\n",
            "200/200 [==============================] - 0s 2ms/step - loss: 0.9364 - val_loss: 0.9411\n",
            "Epoch 6/100\n",
            "200/200 [==============================] - 0s 2ms/step - loss: 0.8406 - val_loss: 0.7471\n",
            "Epoch 7/100\n",
            "200/200 [==============================] - 0s 2ms/step - loss: 0.8539 - val_loss: 0.7623\n",
            "Epoch 8/100\n",
            "200/200 [==============================] - 0s 2ms/step - loss: 0.8105 - val_loss: 0.8228\n",
            "Epoch 9/100\n",
            "200/200 [==============================] - 0s 2ms/step - loss: 0.7922 - val_loss: 0.7386\n",
            "Epoch 10/100\n",
            "200/200 [==============================] - 0s 2ms/step - loss: 0.8538 - val_loss: 0.7486\n",
            "Epoch 11/100\n",
            "200/200 [==============================] - 0s 2ms/step - loss: 0.8107 - val_loss: 0.8104\n",
            "Epoch 12/100\n",
            "200/200 [==============================] - 0s 2ms/step - loss: 0.8080 - val_loss: 0.7613\n"
          ],
          "name": "stdout"
        }
      ]
    },
    {
      "cell_type": "code",
      "metadata": {
        "colab": {
          "background_save": true
        },
        "id": "_zzCh_9mQHML",
        "outputId": "8891bae5-c425-4d57-91f1-cf3afc17f646"
      },
      "source": [
        "def plot_loss(history):\n",
        "  plt.plot(history.history['loss'], label='loss')\n",
        "  plt.plot(history.history['val_loss'], label='val_loss')\n",
        "  plt.xlabel('Epoch')\n",
        "  plt.ylabel('Error [MPG]')\n",
        "  plt.legend()\n",
        "  plt.grid(True)\n",
        "\n",
        "plot_loss(history)\n",
        "\n"
      ],
      "execution_count": null,
      "outputs": [
        {
          "output_type": "display_data",
          "data": {
            "image/png": "[encoded data removed]",
            "text/plain": [
              "<Figure size 432x288 with 1 Axes>"
            ]
          },
          "metadata": {
            "tags": []
          }
        }
      ]
    },
    {
      "cell_type": "code",
      "metadata": {
        "colab": {
          "background_save": true
        },
        "id": "tKS8JCDrRmsa",
        "outputId": "daf7d8c8-b217-4169-ddd9-c10861f03dc6"
      },
      "source": [
        "y_pred_nn = nn_model.predict( X_test_features )\n",
        "mse=mean_squared_error( y_test, y_pred_nn )\n",
        "print((mse)**(1/2))"
      ],
      "execution_count": null,
      "outputs": [
        {
          "output_type": "stream",
          "text": [
            "0.86349299862219\n"
          ],
          "name": "stdout"
        }
      ]
    },
    {
      "cell_type": "code",
      "metadata": {
        "id": "HRY1kBzJT7Dn"
      },
      "source": [
        ""
      ],
      "execution_count": null,
      "outputs": []
    }
  ]
}